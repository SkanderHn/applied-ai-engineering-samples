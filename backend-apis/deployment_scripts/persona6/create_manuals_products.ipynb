{
 "cells": [
  {
   "cell_type": "code",
   "execution_count": null,
   "metadata": {},
   "outputs": [],
   "source": [
    "import json\n",
    "with open(\"./new_search_conversations.jsonl\") as f:\n",
    "    conversations = f.readlines()\n",
    "    conversations = [json.loads(i) for i in conversations]"
   ]
  },
  {
   "cell_type": "code",
   "execution_count": null,
   "metadata": {},
   "outputs": [],
   "source": [
    "conversations_set = set()\n",
    "products = []\n",
    "\n",
    "for i in conversations:\n",
    "    data = json.loads(i[\"jsonData\"])\n",
    "    if data[\"product_id\"] in conversations_set:\n",
    "        continue\n",
    "\n",
    "    conversations_set.add(data[\"product_id\"])\n",
    "    products.append(\n",
    "        {\n",
    "            \"id\":data[\"product_id\"],\n",
    "            \"jsonData\": data\n",
    "        }\n",
    "    )"
   ]
  },
  {
   "cell_type": "code",
   "execution_count": null,
   "metadata": {},
   "outputs": [],
   "source": [
    "for i, _ in enumerate(products):\n",
    "    del products[i][\"jsonData\"][\"sentiment\"]\n",
    "    del products[i][\"jsonData\"][\"status\"]\n",
    "    del products[i][\"jsonData\"][\"customer_id\"]\n",
    "    del products[i][\"jsonData\"][\"customer_email\"]\n",
    "    del products[i][\"jsonData\"][\"agent_id\"]\n",
    "    del products[i][\"jsonData\"][\"agent_email\"]\n",
    "    del products[i][\"jsonData\"][\"product_id\"]\n",
    "    del products[i][\"jsonData\"][\"conversation\"]\n",
    "    del products[i][\"jsonData\"][\"rating\"]"
   ]
  },
  {
   "cell_type": "code",
   "execution_count": null,
   "metadata": {},
   "outputs": [],
   "source": [
    "products[0]"
   ]
  },
  {
   "cell_type": "code",
   "execution_count": null,
   "metadata": {},
   "outputs": [],
   "source": [
    "prompt = \"\"\"Using the product title and description below, write a product manual (user guide) that includes the following sections and chapters.\n",
    "product title: {}\n",
    "product description: {}\n",
    "\n",
    "Sections of the manual:\n",
    " - Introduction: Briefly introduce the product, its intended audience, and what it can do.\n",
    " - Table of contents: This will help users navigate the manual and find the information they need quickly.\n",
    " - Safety precautions and warnings: Clearly outline any potential hazards associated with the product and how to avoid them.\n",
    " - Getting started (setup and how to use): This section should provide step-by-step instructions on how to set up and use the product for the first time.\n",
    " - Product features: Explain the different features of the product in detail, including how to use them and what they are for.\n",
    " - Troubleshooting: Provide solutions to common problems that users might encounter.\n",
    " - Maintenance and care: Explain how to clean and care for the product to extend its lifespan.\n",
    " - Appendix: Include any additional information that users might find helpful, such as warranty information, contact information for customer support, or a glossary of terms.\n",
    "\n",
    "Additional sections:\n",
    " - Assembly instructions: If the product requires assembly, provide clear and concise instructions with diagrams.\n",
    " - Technical specifications: List the technical specifications of the product, such as its dimensions, weight, power requirements, etc.\n",
    " - Compliance information: If the product needs to comply with any specific regulations, include information about that in the manual.\n",
    "\n",
    "Tips for writing a comprehensive product manual:\n",
    " - Use clear and concise language that is easy for your target audience to understand.\n",
    " - Chunk the information into small, easy-to-read sections with headings and subheadings.\n",
    " - Use a table of contents and index to make it easy for users to find the information they need.\n",
    "By following these guidelines, you can create a comprehensive and user-friendly product manual that will help your users get the most out of your product.\n",
    "\n",
    "output:\"\"\""
   ]
  },
  {
   "cell_type": "code",
   "execution_count": null,
   "metadata": {},
   "outputs": [],
   "source": [
    "from vertexai.preview.generative_models import GenerativeModel\n",
    "\n",
    "def generate(input_text: str):\n",
    "  model = GenerativeModel(\"gemini-pro\")\n",
    "  responses = model.generate_content(\n",
    "    contents=input_text,\n",
    "    generation_config={\n",
    "        \"max_output_tokens\": 8192,\n",
    "        \"temperature\": 0.9,\n",
    "        \"top_p\": 1,\n",
    "        \"top_k\": 40\n",
    "    }\n",
    "  )\n",
    "  return responses"
   ]
  },
  {
   "cell_type": "code",
   "execution_count": null,
   "metadata": {},
   "outputs": [],
   "source": [
    "for i,product in enumerate(products[:2]):\n",
    "    manual = generate(\n",
    "        input_text=prompt.format(product[\"jsonData\"][\"title\"], product[\"jsonData\"][\"description\"])\n",
    "    )\n",
    "    manual = manual.candidates[0].content.parts[0].text # type: ignore\n",
    "\n",
    "    products[i][\"jsonData\"][\"manual\"] = manual"
   ]
  },
  {
   "cell_type": "code",
   "execution_count": null,
   "metadata": {},
   "outputs": [],
   "source": [
    "products[0]"
   ]
  },
  {
   "cell_type": "code",
   "execution_count": null,
   "metadata": {},
   "outputs": [],
   "source": [
    "with open(\"manuals_dataset.jsonl\", \"a\") as f:\n",
    "    for i in products:\n",
    "        f.write(\n",
    "            json.dumps(i)\n",
    "        )"
   ]
  },
  {
   "cell_type": "markdown",
   "metadata": {},
   "source": [
    "# Create PDFs"
   ]
  },
  {
   "cell_type": "code",
   "execution_count": 3,
   "metadata": {},
   "outputs": [],
   "source": [
    "import markdown\n",
    "import json\n",
    "import pdfkit"
   ]
  },
  {
   "cell_type": "code",
   "execution_count": 4,
   "metadata": {},
   "outputs": [],
   "source": [
    "with open(\"./manuals_dataset.jsonl\") as f:\n",
    "    lines = f.readlines()\n",
    "    lines = [json.loads(i) for i in lines]"
   ]
  },
  {
   "cell_type": "code",
   "execution_count": 4,
   "metadata": {},
   "outputs": [],
   "source": [
    "for i in lines:\n",
    "    md = \"### Product: \" + i[\"jsonData\"][\"title\"] + \"\\n\\n\" + \"Description: \" + i[\"jsonData\"][\"description\"] + \"\\n\\n\\n\" + i[\"jsonData\"][\"manual\"]\n",
    "    html = markdown.markdown(text=md)\n",
    "    pdfkit.from_string(html, f\"./pdf/{i['id']}.pdf\")"
   ]
  },
  {
   "cell_type": "code",
   "execution_count": 12,
   "metadata": {},
   "outputs": [],
   "source": [
    "dataset = []\n",
    "for i, line in enumerate(lines):\n",
    "    dataset.append(\n",
    "        json.dumps({\n",
    "            \"id\": line[\"id\"],\n",
    "            \"jsonData\": json.dumps(line[\"jsonData\"]),\n",
    "            \"content\": {\n",
    "               \"mimeType\": \"application/pdf\", \"uri\": f\"gs://csm-solution-dataset/persona6/products_manuals_pdf/{line['id']}.pdf\"\n",
    "            }\n",
    "        })\n",
    "    )"
   ]
  },
  {
   "cell_type": "code",
   "execution_count": 13,
   "metadata": {},
   "outputs": [],
   "source": [
    "with open(\"./argolis_vertexai_search_products_manuals.jsonl\", \"a\") as f:\n",
    "    for i in dataset:\n",
    "        f.write(i + \"\\n\")"
   ]
  },
  {
   "cell_type": "code",
   "execution_count": 14,
   "metadata": {},
   "outputs": [
    {
     "name": "stdout",
     "output_type": "stream",
     "text": [
      "Copying file://argolis_vertexai_search_products_manuals.jsonl to gs://csm-dataset/organized_datasets_personas/persona6/argolis_vertexai_search_products_manuals.jsonl\n",
      "  Completed files 1/1 | 3.3MiB/3.3MiB                                          \n"
     ]
    }
   ],
   "source": [
    "! gcloud storage cp argolis_vertexai_search_products_manuals.jsonl gs://csm-dataset/organized_datasets_personas/persona6"
   ]
  },
  {
   "cell_type": "code",
   "execution_count": null,
   "metadata": {},
   "outputs": [],
   "source": []
  }
 ],
 "metadata": {
  "kernelspec": {
   "display_name": "genai-marketing",
   "language": "python",
   "name": "python3"
  },
  "language_info": {
   "codemirror_mode": {
    "name": "ipython",
    "version": 3
   },
   "file_extension": ".py",
   "mimetype": "text/x-python",
   "name": "python",
   "nbconvert_exporter": "python",
   "pygments_lexer": "ipython3",
   "version": "3.11.5"
  }
 },
 "nbformat": 4,
 "nbformat_minor": 2
}
