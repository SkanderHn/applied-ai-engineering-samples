{
 "cells": [
  {
   "cell_type": "code",
   "execution_count": 12,
   "metadata": {},
   "outputs": [
    {
     "name": "stdout",
     "output_type": "stream",
     "text": [
      "Your instance connection name is: rl-llm-dev:us-central1:csm-database\n"
     ]
    }
   ],
   "source": [
    "import json\n",
    "import random\n",
    "from typing import TypedDict\n",
    "\n",
    "import sqlalchemy\n",
    "from google.cloud.sql.connector.connector import Connector\n",
    "\n",
    "PROJECT_ID = \"rl-llm-dev\"\n",
    "REGION = \"us-central1\"\n",
    "INSTANCE_NAME = \"csm-database\"\n",
    "# i.e demo-project:us-central1:demo-instance\n",
    "INSTANCE_CONNECTION_NAME = f\"{PROJECT_ID}:{REGION}:{INSTANCE_NAME}\"\n",
    "print(f\"Your instance connection name is: {INSTANCE_CONNECTION_NAME}\")\n",
    "DB_USER = \"root\"\n",
    "DB_PASS = 'f\"OIl>#{R|[(^$\"H'\n",
    "DB_NAME = \"csm\"\n",
    "\n",
    "# initialize Connector object\n",
    "connector = Connector()\n",
    "\n",
    "# function to return the database connection object\n",
    "def getconn():\n",
    "    \"\"\"Funtion to return the dabase connection Object.\n",
    "\n",
    "    Returns:\n",
    "        Cloud Sql connection object\n",
    "\n",
    "    \"\"\"\n",
    "    conn = connector.connect(\n",
    "        INSTANCE_CONNECTION_NAME,\n",
    "        \"pymysql\",\n",
    "        user=DB_USER,\n",
    "        password=DB_PASS,\n",
    "        db=DB_NAME,\n",
    "    )\n",
    "    return conn\n",
    "\n",
    "# create connection pool with 'creator' argument to our connection object function\n",
    "pool = sqlalchemy.create_engine(\n",
    "    \"mysql+pymysql://\",\n",
    "    creator=getconn,\n",
    ")"
   ]
  },
  {
   "cell_type": "code",
   "execution_count": 13,
   "metadata": {},
   "outputs": [],
   "source": [
    "sql_statement = \"UPDATE products SET price = :price, quantity = :quantity WHERE id = :id\""
   ]
  },
  {
   "cell_type": "code",
   "execution_count": 14,
   "metadata": {},
   "outputs": [],
   "source": [
    "with open(\"./recommendation_products.jsonl\") as f:\n",
    "    lines = f.readlines()\n",
    "    lines = [json.loads(i) for i in lines]"
   ]
  },
  {
   "cell_type": "code",
   "execution_count": 15,
   "metadata": {},
   "outputs": [],
   "source": [
    "# connect to connection pool\n",
    "with pool.connect() as db_conn:\n",
    "    # create ratings table in our sandwiches database\n",
    "    # db_conn.execute(sqlalchemy.text(create_sql))\n",
    "\n",
    "    # commit transaction (SQLAlchemy v2.X.X is commit as you go)\n",
    "    # db_conn.commit()\n",
    "    # insert data into our ratings table\n",
    "    update_stmt = sqlalchemy.text(sql_statement)\n",
    "\n",
    "    for i in lines:\n",
    "        update_dict = {\n",
    "            \"price\": float(i[\"priceInfo\"][\"price\"]),\n",
    "            \"quantity\": i[\"availableQuantity\"],\n",
    "            \"id\": int(i[\"id\"])\n",
    "        }\n",
    "\n",
    "        # insert entries into table\n",
    "        db_conn.execute(update_stmt, parameters=update_dict)\n",
    "\n",
    "    # commit transactions\n",
    "    db_conn.commit()        "
   ]
  },
  {
   "cell_type": "code",
   "execution_count": null,
   "metadata": {},
   "outputs": [],
   "source": []
  }
 ],
 "metadata": {
  "kernelspec": {
   "display_name": "genai-marketing",
   "language": "python",
   "name": "python3"
  },
  "language_info": {
   "codemirror_mode": {
    "name": "ipython",
    "version": 3
   },
   "file_extension": ".py",
   "mimetype": "text/x-python",
   "name": "python",
   "nbconvert_exporter": "python",
   "pygments_lexer": "ipython3",
   "version": "3.11.5"
  }
 },
 "nbformat": 4,
 "nbformat_minor": 2
}
