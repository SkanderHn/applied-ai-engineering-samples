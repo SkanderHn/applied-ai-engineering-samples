{
 "cells": [
  {
   "cell_type": "code",
   "execution_count": 1,
   "metadata": {},
   "outputs": [],
   "source": [
    "from routers.p1_customer import *"
   ]
  },
  {
   "cell_type": "code",
   "execution_count": 2,
   "metadata": {},
   "outputs": [],
   "source": [
    "from dataclasses import dataclass\n",
    "\n",
    "@dataclass\n",
    "class SalesforceData:\n",
    "    email_content: str\n",
    "    email_html: str\n",
    "    email_address: str\n",
    "    user_name: str\n",
    "    subject: str\n",
    "    case_number: str\n",
    "    salesforce_thread_id: str\n",
    "    is_human_talking: bool"
   ]
  },
  {
   "cell_type": "code",
   "execution_count": 4,
   "metadata": {},
   "outputs": [],
   "source": [
    "email_content = \"\"\"I want to talk to a human agent.\"\"\"\n",
    "\n",
    "data = SalesforceData(\n",
    "    email_address=\"renatoleite@google.com\",\n",
    "    email_content=email_content,\n",
    "    email_html=\"\",\n",
    "    user_name=\"Renato Leite\",\n",
    "    subject=\"oi\",\n",
    "    case_number=\"00004017\",\n",
    "    salesforce_thread_id=\"\",\n",
    "    is_human_talking=False\n",
    ")"
   ]
  },
  {
   "cell_type": "code",
   "execution_count": 5,
   "metadata": {},
   "outputs": [
    {
     "name": "stdout",
     "output_type": "stream",
     "text": [
      "1pjXlU26jb0nrZBlxqiIsipqXCYJjOSCQQXKhjurXFOA\n"
     ]
    },
    {
     "data": {
      "text/plain": [
       "SalesforceEmailSupportResponse(email_response='<html><body><p>Dear Customer Renato Leite,</p><p>Thank you for contacting the support team.</p><p>One of our agents will get it touch soon.</p><p>Best Regards,<br>You support team</p>', is_human_talking=True, docs_id='1pjXlU26jb0nrZBlxqiIsipqXCYJjOSCQQXKhjurXFOA')"
      ]
     },
     "execution_count": 5,
     "metadata": {},
     "output_type": "execute_result"
    }
   ],
   "source": [
    "salesforce_email_support(data=data)"
   ]
  },
  {
   "cell_type": "code",
   "execution_count": null,
   "metadata": {},
   "outputs": [],
   "source": []
  },
  {
   "cell_type": "code",
   "execution_count": null,
   "metadata": {},
   "outputs": [],
   "source": []
  },
  {
   "cell_type": "markdown",
   "metadata": {},
   "source": [
    "# Workspace Docs manipulation"
   ]
  },
  {
   "cell_type": "code",
   "execution_count": null,
   "metadata": {},
   "outputs": [],
   "source": [
    "from googleapiclient.discovery import build\n",
    "from google.oauth2 import service_account\n",
    "from google.cloud import secretmanager\n",
    "import json\n",
    "\n",
    "workspace_scopes = [\n",
    "    'https://www.googleapis.com/auth/drive.file',\n",
    "    'https://www.googleapis.com/auth/drive',\n",
    "    'https://www.googleapis.com/auth/drive.resource',\n",
    "    'https://www.googleapis.com/auth/documents']\n",
    "\n",
    "ws_secret_name = \"projects/244831775715/secrets/workspace-docs/versions/1\"\n",
    "\n",
    "secret_client = secretmanager.SecretManagerServiceClient()\n",
    "ws_secret_user_info = secret_client.access_secret_version(\n",
    "    request={\"name\": ws_secret_name})"
   ]
  },
  {
   "cell_type": "code",
   "execution_count": null,
   "metadata": {},
   "outputs": [],
   "source": [
    "WS_CREDENTIALS = service_account.Credentials.from_service_account_info(\n",
    "    info=json.loads(ws_secret_user_info.payload.data.decode(\"UTF-8\")),\n",
    "    scopes=workspace_scopes)\n",
    "drive_service = build('drive', 'v3', credentials=WS_CREDENTIALS)\n",
    "docs_service = build('docs', 'v1', credentials=WS_CREDENTIALS)\n",
    "\n",
    "drive_folder_id = \"1bo0rw7xC0b2L7NJA4qD7jWtm31d_RN4k\"\n",
    "docs_template_id = \"15EThm_lOo6m54TWPzKBw2VAHsii4NBQnb4BpkUga5GA\"\n",
    "docs_id = \"18mmlQqbpx2s23eqPCrqLzpNAqpzkWPrxzerm9Y4n8ho\""
   ]
  },
  {
   "cell_type": "code",
   "execution_count": null,
   "metadata": {},
   "outputs": [],
   "source": [
    "# Content of the template\n",
    "template_docs_id = \"15EThm_lOo6m54TWPzKBw2VAHsii4NBQnb4BpkUga5GA\"\n",
    "document = docs_service.documents().get(documentId=template_docs_id).execute()\n",
    "docs_template_content = document[\"body\"][\"content\"]"
   ]
  },
  {
   "cell_type": "code",
   "execution_count": null,
   "metadata": {},
   "outputs": [],
   "source": [
    "# get content of the current doc and delete its content\n",
    "current_document = docs_service.documents().get(documentId=docs_id).execute()\n",
    "current_document_content = current_document[\"body\"][\"content\"]"
   ]
  },
  {
   "cell_type": "code",
   "execution_count": null,
   "metadata": {},
   "outputs": [],
   "source": [
    "requests = [\n",
    "    {\n",
    "        'deleteContentRange': {\n",
    "            'range': {\n",
    "                'startIndex': 1,\n",
    "                'endIndex': current_document_content[-1][\"endIndex\"] - 1,\n",
    "            }\n",
    "        }\n",
    "    }\n",
    "]\n",
    "docs_service.documents().batchUpdate(\n",
    "    documentId=docs_id, \n",
    "    body={'requests': requests}).execute()"
   ]
  },
  {
   "cell_type": "code",
   "execution_count": null,
   "metadata": {},
   "outputs": [],
   "source": [
    "docs_template_content"
   ]
  },
  {
   "cell_type": "code",
   "execution_count": null,
   "metadata": {},
   "outputs": [],
   "source": [
    "requests = []\n",
    "for i in docs_template_content[1:]:\n",
    "    for j in i[\"paragraph\"][\"elements\"]:\n",
    "        requests.append(\n",
    "            {\n",
    "                \"insertText\": {\n",
    "                    \"text\": j[\"textRun\"][\"content\"],\n",
    "                        \"location\": {\n",
    "                            \"index\": j[\"startIndex\"]\n",
    "                        }\n",
    "                    }\n",
    "            })\n",
    "        if j[\"textRun\"][\"textStyle\"]:\n",
    "            requests.append(\n",
    "                {\n",
    "                    \"updateTextStyle\": {\n",
    "                        \"range\": {\n",
    "                            \"startIndex\": j[\"startIndex\"],\n",
    "                            \"endIndex\": j[\"endIndex\"]\n",
    "                        },\n",
    "                        \"textStyle\": {\n",
    "                            **j[\"textRun\"][\"textStyle\"]\n",
    "                        },\n",
    "                        \"fields\": \", \".join(j[\"textRun\"][\"textStyle\"].keys())\n",
    "                    }\n",
    "                })\n",
    "    if i[\"paragraph\"].get(\"paragraphStyle\", \"\"):\n",
    "        requests.append(\n",
    "            {\n",
    "                \"updateParagraphStyle\": {\n",
    "                    \"range\": {\n",
    "                        \"startIndex\": i[\"startIndex\"],\n",
    "                        \"endIndex\": i[\"endIndex\"]\n",
    "                    },\n",
    "                    \"paragraphStyle\": {\n",
    "                        **i[\"paragraph\"][\"paragraphStyle\"]\n",
    "                    },\n",
    "                    \"fields\": \", \".join(\n",
    "                        [k for k in i[\"paragraph\"][\"paragraphStyle\"].keys()\n",
    "                            if k != \"headingId\"])\n",
    "            }\n",
    "        })"
   ]
  },
  {
   "cell_type": "code",
   "execution_count": null,
   "metadata": {},
   "outputs": [],
   "source": [
    "requests"
   ]
  },
  {
   "cell_type": "code",
   "execution_count": null,
   "metadata": {},
   "outputs": [],
   "source": [
    "docs_service.documents().batchUpdate(\n",
    "    documentId=docs_id, \n",
    "    body={'requests': requests}).execute()"
   ]
  },
  {
   "cell_type": "code",
   "execution_count": null,
   "metadata": {},
   "outputs": [],
   "source": []
  },
  {
   "cell_type": "code",
   "execution_count": null,
   "metadata": {},
   "outputs": [],
   "source": []
  },
  {
   "cell_type": "markdown",
   "metadata": {},
   "source": [
    "# Planning\n",
    "\n",
    "1) Faço o retrieve da thread para conseguir organizar melhor o prompt.\n",
    "    - Para pegar o ThreadID correto irei filtrar pelo título, origem e conteúdo. Se der match nos 3, então pego o ID.\n",
    "    - Fazer um retrieve das mensagens do usuário apenas, sendo a mensagem [0] a última.\n",
    "2) Criar um prompt\n",
    "    - Monto um prompt para extrair as perguntas usando apenas os emails que vieram do usuário.\n",
    "    - As perguntas devem ser claras e completas.\n",
    "3) Busca no Vertex Search\n",
    "    - Compila as resposta e manda por email.\n",
    "4) Caso o usuário escreva a palavra \"human\" ou \"agent\" ou \"talk\", vou redirecionar para um humano responder.\n",
    "    - Aqui precisamos criar um draft."
   ]
  },
  {
   "cell_type": "markdown",
   "metadata": {},
   "source": [
    "# Step 1 - Retrieve or create Vertex AI Search conversation"
   ]
  },
  {
   "cell_type": "code",
   "execution_count": null,
   "metadata": {},
   "outputs": [],
   "source": [
    "import base64\n",
    "import utils_palm\n",
    "import numpy as np\n",
    "import utils_vertex_vector"
   ]
  },
  {
   "cell_type": "code",
   "execution_count": null,
   "metadata": {},
   "outputs": [],
   "source": [
    "import json\n",
    "from email.message import EmailMessage\n",
    "from email.mime.text import MIMEText\n",
    "from googleapiclient.discovery import build\n",
    "from google.cloud import discoveryengine_v1beta as discoveryengine\n",
    "from google.cloud import firestore\n",
    "from google.oauth2.credentials import Credentials\n",
    "from proto import Message\n",
    "from vertexai.preview.language_models import TextGenerationModel\n",
    "\n",
    "import tomllib\n",
    "\n",
    "with open(\"config.toml\", \"rb\") as f:\n",
    "    config = tomllib.load(f)\n",
    "\n",
    "db = firestore.Client()\n",
    "\n",
    "project_id = config[\"global\"][\"project_id\"]\n",
    "location = config[\"global\"][\"location\"]\n",
    "datastore_location = config[\"global\"][\"datastore_location\"]\n",
    "serving_config = config[\"global\"][\"serving_config\"]\n",
    "images_bucket_name = config[\"global\"][\"images_bucket_name\"]\n",
    "email_datastore_id = config[\"salesforce\"][\"email_datastore_id\"]\n",
    "project_number = config[\"global\"][\"project_number\"]\n",
    "\n",
    "# Workspace integration\n",
    "CREDENTIALS = Credentials.from_authorized_user_file(\n",
    "    filename=\"token.json\", \n",
    "    scopes=['https://www.googleapis.com/auth/gmail.modify'])\n",
    "gmail_services = build('gmail', 'v1', credentials=CREDENTIALS)\n",
    "\n",
    "model = TextGenerationModel.from_pretrained(\"text-bison@latest\")"
   ]
  },
  {
   "cell_type": "code",
   "execution_count": null,
   "metadata": {},
   "outputs": [],
   "source": [
    "# temp\n",
    "email_content = \"\"\"Hi Cymbal Support,\"\"\"\n",
    "subject = \"Are gaming chairs ergonomic?\"\n",
    "email_address = \"renatoleite@google.com\""
   ]
  },
  {
   "cell_type": "code",
   "execution_count": null,
   "metadata": {},
   "outputs": [],
   "source": [
    "prompt_email = \"\"\"<instructions>\n",
    "Extract questions or inquiries that are being asked in the conversation below. If you don't find any questions or inquiries, respond with an empty list.\n",
    "Provide the output in the JSON format below.\n",
    "</instructions>\n",
    "<conversation>\n",
    "{}\n",
    "</conversation>\n",
    "<JSONformat>\n",
    "{{\n",
    "    \"questions\": [\n",
    "        \"Question or inquiry 1\",\n",
    "        \"Question or inquiry 2\",\n",
    "        \"Question or inquiry 3\",\n",
    "        \"Question or inquiry 4\",\n",
    "    ]\n",
    "}}\n",
    "</JSONformat>\n",
    "<output>\"\"\""
   ]
  },
  {
   "cell_type": "code",
   "execution_count": null,
   "metadata": {},
   "outputs": [],
   "source": [
    "converse_client = discoveryengine.ConversationalSearchServiceClient()"
   ]
  },
  {
   "cell_type": "code",
   "execution_count": null,
   "metadata": {},
   "outputs": [],
   "source": [
    "email = \"renatoleite@google.com\"\n",
    "case_id = \"00001063\""
   ]
  },
  {
   "cell_type": "code",
   "execution_count": null,
   "metadata": {},
   "outputs": [],
   "source": [
    "document = db.collection(\"salesforce_cases\").document(case_id)\n",
    "\n",
    "if document.get().exists:\n",
    "    conversation_resource = document.get().to_dict()[\"conversation_resource\"]\n",
    "    email_thread_id = document.get().to_dict()[\"email_thread_id\"]\n",
    "    request = discoveryengine.GetConversationRequest(name=conversation_resource)\n",
    "    conversation = converse_client.get_conversation(request=request)\n",
    "else:\n",
    "    converse_request = discoveryengine.CreateConversationRequest(\n",
    "        parent = (f\"projects/{project_id}/\"\n",
    "                    f\"locations/{datastore_location}/\"\n",
    "                    \"collections/default_collection/\"\n",
    "                    f\"dataStores/{email_datastore_id}\"),\n",
    "        conversation=discoveryengine.Conversation(\n",
    "            user_pseudo_id=email\n",
    "        )\n",
    "    )\n",
    "    conversation = converse_client.create_conversation(\n",
    "                request=converse_request)\n",
    "\n",
    "    # Retrieve thread_id from Gmail\n",
    "    q = f'from:{email_address} label:inbox ' \\\n",
    "        f'subject:\"{subject}\" \"{email_content}\"'\n",
    "    emails = gmail_services.users().threads().list(\n",
    "        userId=\"renatoleite@1987984870407.altostrat.com\",\n",
    "        maxResults=1,\n",
    "        q=q\n",
    "    ).execute()\n",
    "\n",
    "    if emails:\n",
    "        email_thread_id = emails[\"threads\"][0][\"id\"]\n",
    "        document.set({\n",
    "            \"conversation_resource\": conversation.name,\n",
    "            \"email_thread_id\": email_thread_id\n",
    "        })\n",
    "    else:\n",
    "        raise # TODO: include raise HTTP\n",
    "\n",
    "try:\n",
    "    questions = model.predict(\n",
    "        prompt=prompt_email.format(email_content)\n",
    "    ).text\n",
    "    questions_dict = json.loads(questions)\n",
    "\n",
    "except Exception as e:\n",
    "    raise # TODO: include raise HTTP\n",
    "\n"
   ]
  },
  {
   "cell_type": "code",
   "execution_count": null,
   "metadata": {},
   "outputs": [],
   "source": [
    "conversation"
   ]
  },
  {
   "cell_type": "markdown",
   "metadata": {},
   "source": [
    "# Step 2 - Retrieve email_thread_id logic"
   ]
  },
  {
   "cell_type": "code",
   "execution_count": null,
   "metadata": {},
   "outputs": [],
   "source": [
    "email_content = \"\"\"\"\"\"\n",
    "subject = \"Are gaming chairs ergonomic?\"\n",
    "email_address = \"renatoleite@google.com\"\n",
    "\n",
    "q = f'from:renatoleite@google.com label:inbox subject:\"Are gaming chairs ergonomic?\" \"{email_content}\"'"
   ]
  },
  {
   "cell_type": "code",
   "execution_count": null,
   "metadata": {},
   "outputs": [],
   "source": [
    "emails = gmail_services.users().threads().list(\n",
    "    userId=\"renatoleite@1987984870407.altostrat.com\",\n",
    "    maxResults=1,\n",
    "    q=q\n",
    ").execute()"
   ]
  },
  {
   "cell_type": "code",
   "execution_count": null,
   "metadata": {},
   "outputs": [],
   "source": [
    "email_thread_id = emails[\"threads\"][0][\"id\"]"
   ]
  },
  {
   "cell_type": "code",
   "execution_count": null,
   "metadata": {},
   "outputs": [],
   "source": [
    "email_thread_id"
   ]
  },
  {
   "cell_type": "code",
   "execution_count": null,
   "metadata": {},
   "outputs": [],
   "source": [
    "# Check if there are attachements (JPEG or PNG) in the email"
   ]
  },
  {
   "cell_type": "code",
   "execution_count": null,
   "metadata": {},
   "outputs": [],
   "source": [
    "email_message = gmail_services.users().threads().get(\n",
    "    userId=\"renatoleite@1987984870407.altostrat.com\",\n",
    "    id=email_thread_id\n",
    ").execute()"
   ]
  },
  {
   "cell_type": "code",
   "execution_count": null,
   "metadata": {},
   "outputs": [],
   "source": [
    "# Get attachmentId from message\n",
    "# TODO: mudar apenas para a última mensagem\n",
    "\n",
    "attachments = set()\n",
    "\n",
    "email_message_dict = email_message[\"messages\"][-1]\n",
    "email_message_id = email_message_dict[\"id\"]\n",
    "\n",
    "for part_level_0 in email_message_dict[\"payload\"][\"parts\"]:\n",
    "    if (part_level_0[\"mimeType\"] == \"image/png\" or \n",
    "        part_level_0[\"mimeType\"] == \"image/jpg\"):\n",
    "        attachments.add(part_level_0[\"body\"][\"attachmentId\"])\n",
    "    elif \"multipart\" in part_level_0[\"mimeType\"]:\n",
    "        for part_level_1 in part_level_0[\"parts\"]:\n",
    "            if (part_level_1[\"mimeType\"] == \"image/png\" or \n",
    "                part_level_1[\"mimeType\"] == \"image/jpg\"):\n",
    "                attachments.add(part_level_1[\"body\"][\"attachmentId\"])"
   ]
  },
  {
   "cell_type": "code",
   "execution_count": null,
   "metadata": {},
   "outputs": [],
   "source": [
    "embedding = utils_palm.EmbeddingPredictionClient(project=project_id)"
   ]
  },
  {
   "cell_type": "code",
   "execution_count": null,
   "metadata": {},
   "outputs": [],
   "source": [
    "prompt_multimodal = \"\"\"<instructions>\n",
    "Below is an email from a customer to a support center with an attached image.\n",
    "Extract questions or inquiries that are being asked in the conversation below.\n",
    "Separate the questions or inquiries that are related to the attached image and the questions or inquiries that are not related to the attached image.\n",
    "If you don't find any questions or inquiries, respond with an empty list.\n",
    "Provide the output in the JSON format below.\n",
    "</instructions>\n",
    "<conversation>\n",
    "{}\n",
    "<conversation>\n",
    "<JSONformat>\n",
    "{{\n",
    "    \"questions_inquiries_not_related_to_image\": [\n",
    "        \"Question or inquiry 1, not related to the attached image?\",\n",
    "        \"Question or inquiry 2, not related to the attached image?\",\n",
    "        \"Question or inquiry 3, not related to the attached image?\",\n",
    "    ],\n",
    "    \"questions_inquiries_related_to_image\": [\n",
    "        \"Question or inquiry 1, related to the image?\",\n",
    "        \"Question or inquiry 2, related to the image?\",\n",
    "        \"Question or inquiry 3, related to the image?\",\n",
    "    ]\n",
    "}}\n",
    "</JSONformat>\n",
    "<output>\"\"\""
   ]
  },
  {
   "cell_type": "code",
   "execution_count": null,
   "metadata": {},
   "outputs": [],
   "source": [
    "email_content = \"\"\"Hi Cymbal Support,\n",
    "I'm interested in purchasing a gaming chair from your store and I have a few questions.\n",
    "First, are your gaming chairs ergonomic?\n",
    "Second, do you have any gaming chairs that are made of nylon?\n",
    "Show me products similar to the attached image. I prefer blue chairs.\n",
    "Thanks for your help,\"\"\""
   ]
  },
  {
   "cell_type": "code",
   "execution_count": null,
   "metadata": {},
   "outputs": [],
   "source": [
    "# Extract embedding for each email and sum them\n",
    "images_embeddings = []\n",
    "for attachment in list(attachments):\n",
    "    email_attachment = gmail_services.users().messages().attachments().get(\n",
    "        userId=\"renatoleite@1987984870407.altostrat.com\",\n",
    "        messageId=email_message_id,\n",
    "        id=attachment\n",
    "    ).execute()\n",
    "    \n",
    "    # Replace the characters in the base64 string\n",
    "    image_bytes = email_attachment[\"data\"].replace('_', '/').replace('-', '+').replace(' ', '')\n",
    "    image_bytes = base64.b64decode(image_bytes)\n",
    "\n",
    "    images_embeddings.append(\n",
    "        embedding.get_embedding(\n",
    "            image_bytes=image_bytes\n",
    "        ).image_embedding\n",
    "    )\n",
    "\n",
    "# Check for questions / inquiries\n",
    "multimodal_questions = json.loads(model.predict(\n",
    "    prompt=prompt_multimodal.format(email_content)\n",
    ").text)\n",
    "\n",
    "image_embedding = list(np.sum(np.array(images_embeddings), axis=0))\n",
    "\n",
    "text_embeddings = []\n",
    "if multimodal_questions.get(\"questions_inquiries_related_to_image\", \"\"):\n",
    "    for q in multimodal_questions[\"questions_inquiries_related_to_image\"]:\n",
    "        text_embeddings.append(\n",
    "            embedding.get_embedding(text=q).text_embedding\n",
    "        )\n",
    "\n",
    "text_embedding = list(np.sum(np.array(text_embeddings), axis=0))\n",
    "\n",
    "multimodal_embedding = utils_palm.reduce_embedding_dimesion(\n",
    "    vector_text=text_embedding,\n",
    "    vector_image=image_embedding\n",
    ")\n",
    "\n",
    "utils_vertex_vector.find_neighbor(\n",
    "    \n",
    ")"
   ]
  },
  {
   "cell_type": "code",
   "execution_count": null,
   "metadata": {},
   "outputs": [],
   "source": []
  },
  {
   "cell_type": "code",
   "execution_count": null,
   "metadata": {},
   "outputs": [],
   "source": []
  },
  {
   "cell_type": "code",
   "execution_count": null,
   "metadata": {},
   "outputs": [],
   "source": []
  },
  {
   "cell_type": "code",
   "execution_count": null,
   "metadata": {},
   "outputs": [],
   "source": []
  },
  {
   "cell_type": "code",
   "execution_count": null,
   "metadata": {},
   "outputs": [],
   "source": []
  },
  {
   "cell_type": "markdown",
   "metadata": {},
   "source": [
    "# Step 3 - Prompt to extract questions"
   ]
  },
  {
   "cell_type": "code",
   "execution_count": null,
   "metadata": {},
   "outputs": [],
   "source": [
    "from vertexai.preview.language_models import TextGenerationModel\n",
    "\n",
    "model = TextGenerationModel.from_pretrained(\"text-bison@latest\")"
   ]
  },
  {
   "cell_type": "code",
   "execution_count": null,
   "metadata": {},
   "outputs": [],
   "source": [
    "email_content = \"\"\"Hi Cymbal Support,\n",
    "\n",
    "\n",
    "I'm interested in purchasing a gaming chair from your store and I have a few questions.\n",
    "\n",
    "\n",
    "First, are your gaming chairs ergonomic? I'm looking for a chair that will support my back and help me avoid pain while gaming.\n",
    "\n",
    "\n",
    "Second, do you have any gaming chairs that are made of nylon? I'm allergic to some synthetic materials and I need to make sure that the chair I choose is safe for me to use.\n",
    "\n",
    "\n",
    "Thanks for your help,\"\"\""
   ]
  },
  {
   "cell_type": "code",
   "execution_count": null,
   "metadata": {},
   "outputs": [],
   "source": [
    "questions = model.predict(\n",
    "    prompt=prompt_email.format(email_content)\n",
    ").text"
   ]
  },
  {
   "cell_type": "code",
   "execution_count": null,
   "metadata": {},
   "outputs": [],
   "source": [
    "import json\n",
    "questions_dict = json.loads(questions)"
   ]
  },
  {
   "cell_type": "code",
   "execution_count": null,
   "metadata": {},
   "outputs": [],
   "source": [
    "questions_dict"
   ]
  },
  {
   "cell_type": "markdown",
   "metadata": {},
   "source": [
    "# Env setup"
   ]
  },
  {
   "cell_type": "code",
   "execution_count": null,
   "metadata": {},
   "outputs": [],
   "source": [
    "from email.message import EmailMessage\n",
    "from email.mime.text import MIMEText\n",
    "\n",
    "from googleapiclient.discovery import build\n",
    "\n",
    "from google.oauth2.credentials import Credentials\n",
    "from proto import Message\n",
    "\n",
    "import tomllib"
   ]
  },
  {
   "cell_type": "code",
   "execution_count": null,
   "metadata": {},
   "outputs": [],
   "source": [
    "# Load configuration file\n",
    "with open(\"config.toml\", \"rb\") as f:\n",
    "    config = tomllib.load(f)\n",
    "project_id = config[\"global\"][\"project_id\"]\n",
    "location = config[\"global\"][\"location\"]"
   ]
  },
  {
   "cell_type": "code",
   "execution_count": null,
   "metadata": {},
   "outputs": [],
   "source": [
    "# Workspace integration\n",
    "CREDENTIALS = Credentials.from_authorized_user_file(\n",
    "    filename=\"token.json\", \n",
    "    scopes=['https://www.googleapis.com/auth/gmail.modify'])\n",
    "gmail_services = build('gmail', 'v1', credentials=CREDENTIALS)"
   ]
  },
  {
   "cell_type": "markdown",
   "metadata": {},
   "source": [
    "# List messages"
   ]
  },
  {
   "cell_type": "code",
   "execution_count": null,
   "metadata": {},
   "outputs": [],
   "source": [
    "email_body = \"\"\"Are gaming chairs ergonomic?\"\"\"\n",
    "\n",
    "# q = \"from:renatoleite@google.com subject:Help with gaming chairs\"\n",
    "q = f\"from:renatoleite@google.com subject:'test' {email_body}\"\n",
    "\n",
    "emails = gmail_services.users().messages().list(\n",
    "    userId=\"renatoleite@1987984870407.altostrat.com\",\n",
    "    q=q\n",
    ").execute()"
   ]
  },
  {
   "cell_type": "code",
   "execution_count": null,
   "metadata": {},
   "outputs": [],
   "source": [
    "emails"
   ]
  },
  {
   "cell_type": "code",
   "execution_count": null,
   "metadata": {},
   "outputs": [],
   "source": [
    "emails = gmail_services.users().threads().list(\n",
    "    userId=\"renatoleite@1987984870407.altostrat.com\",\n",
    "    # maxResults=1,\n",
    "    q=\"rfc822msgid:<CA+J_hzNqg9BDzYpJ+Df-kk0cQsKhRGJ-1wCWT9fof4U1cq_s=A@mail.gmail.com>\"\n",
    ").execute()"
   ]
  },
  {
   "cell_type": "code",
   "execution_count": null,
   "metadata": {},
   "outputs": [],
   "source": [
    "emails"
   ]
  },
  {
   "cell_type": "code",
   "execution_count": null,
   "metadata": {},
   "outputs": [],
   "source": [
    "email_message = gmail_services.users().threads().get(\n",
    "    userId=\"renatoleite@1987984870407.altostrat.com\",\n",
    "    id=\"18b717b364707ec2\"\n",
    ").execute()"
   ]
  },
  {
   "cell_type": "code",
   "execution_count": null,
   "metadata": {},
   "outputs": [],
   "source": [
    "# Get thread ID from the first message\n",
    "for header in email_message[\"messages\"][0][\"payload\"][\"headers\"]:\n",
    "    if header[\"name\"] == \"Message-ID\":\n",
    "        email_thread_id = header[\"value\"]\n",
    "\n",
    "# Get message ID from the last message\n",
    "for header in email_message[\"messages\"][-1][\"payload\"][\"headers\"]:\n",
    "    if header[\"name\"] == \"Message-ID\":\n",
    "        email_message_id = header[\"value\"]"
   ]
  },
  {
   "cell_type": "code",
   "execution_count": null,
   "metadata": {},
   "outputs": [],
   "source": [
    "email_thread_id"
   ]
  },
  {
   "cell_type": "code",
   "execution_count": null,
   "metadata": {},
   "outputs": [],
   "source": [
    "email_message_id"
   ]
  },
  {
   "cell_type": "code",
   "execution_count": null,
   "metadata": {},
   "outputs": [],
   "source": [
    "message[\"messages\"][-1]"
   ]
  },
  {
   "cell_type": "code",
   "execution_count": null,
   "metadata": {},
   "outputs": [],
   "source": [
    "for h in message[\"messages\"][0][\"payload\"][\"headers\"]:\n",
    "    if h[\"name\"] == \"Message-ID\":\n",
    "        message_id = h[\"value\"]"
   ]
  },
  {
   "cell_type": "code",
   "execution_count": null,
   "metadata": {},
   "outputs": [],
   "source": [
    "message_id"
   ]
  },
  {
   "cell_type": "markdown",
   "metadata": {},
   "source": [
    "# Send message"
   ]
  },
  {
   "cell_type": "code",
   "execution_count": null,
   "metadata": {},
   "outputs": [],
   "source": [
    "import base64\n",
    "# message = EmailMessage()\n",
    "\n",
    "email_response = \"\"\"\n",
    "resposta teste 8\n",
    "\"\"\"\n",
    "\n",
    "message = MIMEText(email_response, \"html\")\n",
    "\n",
    "# message.set_content(email_response)\n",
    "\n",
    "message['To'] = \"renatoleite@google.com\"\n",
    "message['In-Reply-To'] = \"<CA+J_hzO1-ZeGkMU3Y4wM7x5oEVEG8ejqMkV0KQK-KcbDhctHVQ@mail.gmail.com>\"\n",
    "message['From'] = 'renatoleite@1987984870407.altostrat.com'\n",
    "message['Subject'] = \"Test 1\"\n",
    "message['References'] = \"<CA+J_hzO1-ZeGkMU3Y4wM7x5oEVEG8ejqMkV0KQK-KcbDhctHVQ@mail.gmail.com>\"\n",
    "\n",
    "# encoded message\n",
    "encoded_message = base64.urlsafe_b64encode(message.as_bytes()).decode()\n",
    "\n",
    "create_message = {\n",
    "    'raw': encoded_message,\n",
    "    'threadId': \"18b6dcf5d66b3cff\"\n",
    "}\n",
    "\n",
    "gmail_services.users().messages().send(\n",
    "    userId=\"renatoleite@1987984870407.altostrat.com\", \n",
    "    body=create_message).execute()"
   ]
  },
  {
   "cell_type": "code",
   "execution_count": null,
   "metadata": {},
   "outputs": [],
   "source": []
  },
  {
   "cell_type": "markdown",
   "metadata": {},
   "source": [
    "# Prompt for email"
   ]
  },
  {
   "cell_type": "code",
   "execution_count": null,
   "metadata": {},
   "outputs": [],
   "source": [
    "conversation = \"\"\"Hi Cymbal Support,\n",
    "I'm interested in purchasing a gaming chair from your store and I have a few questions.\n",
    "First, are your gaming chairs ergonomic? I'm looking for a chair that will support my back and help me avoid pain while gaming.\n",
    "Second, do you have any gaming chairs that are made of nylon? I'm allergic to some synthetic materials and I need to make sure that the chair I choose is safe for me to use.\n",
    "Thanks for your help,\"\"\"\n",
    "\n",
    "prompt_email = \"\"\"<instructions>\n",
    "You have to extract questions that are being asked in the conversation below.\n",
    "Provide the output in the JSON format below.\n",
    "</instructions>\n",
    "<conversation>\n",
    "{}\n",
    "<conversation>\n",
    "<JSONformat>\n",
    "{\n",
    "    \"questions\": [\n",
    "        \"Question 1\",\n",
    "        \"Question 2\",\n",
    "        \"Question 3\",\n",
    "        \"Question 4\",\n",
    "    ]\n",
    "}\n",
    "</JSONformat>\n",
    "<output>\"\"\""
   ]
  },
  {
   "cell_type": "markdown",
   "metadata": {},
   "source": [
    "# Create or retrieve existing conversation"
   ]
  },
  {
   "cell_type": "code",
   "execution_count": null,
   "metadata": {},
   "outputs": [],
   "source": [
    "from google.cloud import discoveryengine_v1beta as discoveryengine\n",
    "import tomllib\n",
    "\n",
    "with open(\"config.toml\", \"rb\") as f:\n",
    "    config = tomllib.load(f)"
   ]
  },
  {
   "cell_type": "code",
   "execution_count": null,
   "metadata": {},
   "outputs": [],
   "source": [
    "email_datastore_id = config[\"salesforce\"][\"email_datastore_id\"]"
   ]
  },
  {
   "cell_type": "code",
   "execution_count": null,
   "metadata": {},
   "outputs": [],
   "source": [
    "converse_client = discoveryengine.ConversationalSearchServiceClient()"
   ]
  },
  {
   "cell_type": "code",
   "execution_count": null,
   "metadata": {},
   "outputs": [],
   "source": [
    "converse_client.list_conversations(\n",
    "    discoveryengine.ListConversationsRequest(\n",
    "        parent = f\"projects/rl-llm-dev/locations/global/collections/default_collection/dataStores/{email_datastore_id}\"\n",
    "    )\n",
    ")"
   ]
  },
  {
   "cell_type": "code",
   "execution_count": null,
   "metadata": {},
   "outputs": [],
   "source": []
  }
 ],
 "metadata": {
  "kernelspec": {
   "display_name": "genai-marketing",
   "language": "python",
   "name": "python3"
  },
  "language_info": {
   "codemirror_mode": {
    "name": "ipython",
    "version": 3
   },
   "file_extension": ".py",
   "mimetype": "text/x-python",
   "name": "python",
   "nbconvert_exporter": "python",
   "pygments_lexer": "ipython3",
   "version": "3.11.5"
  }
 },
 "nbformat": 4,
 "nbformat_minor": 2
}
