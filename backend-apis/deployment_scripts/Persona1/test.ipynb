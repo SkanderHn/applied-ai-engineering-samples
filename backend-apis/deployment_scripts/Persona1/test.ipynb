{
 "cells": [
  {
   "cell_type": "code",
   "execution_count": 1,
   "metadata": {},
   "outputs": [],
   "source": [
    "from main import *\n",
    "import base64"
   ]
  },
  {
   "cell_type": "code",
   "execution_count": 2,
   "metadata": {},
   "outputs": [],
   "source": [
    "converse_request = discoveryengine.CreateConversationRequest(\n",
    "    parent = f\"projects/{project_id}/locations/{datastore_location}/\" \\\n",
    "                f\"collections/default_collection/dataStores/{datastore_id}\",\n",
    "    conversation=discoveryengine.Conversation(\n",
    "        user_pseudo_id=\"egon\"\n",
    "    )\n",
    ")\n",
    "conversation = converse_client.create_conversation(request=converse_request)"
   ]
  },
  {
   "cell_type": "code",
   "execution_count": 3,
   "metadata": {},
   "outputs": [],
   "source": [
    "from types import SimpleNamespace"
   ]
  },
  {
   "cell_type": "code",
   "execution_count": 4,
   "metadata": {},
   "outputs": [],
   "source": [
    "data = base64.b64encode(\n",
    "    json.dumps({\n",
    "        \"query\": \"what are gaming chairs\",\n",
    "        \"image\": \"f912407e-eeb5-487b-a34c-1d26af9079d2\",\n",
    "        \"conversation_id\": conversation.name,\n",
    "        \"search_doc_id\": \"HerhE9VHtdVzsikJoUYT\"\n",
    "    }).encode(\"utf-8\")\n",
    ")"
   ]
  },
  {
   "cell_type": "code",
   "execution_count": 5,
   "metadata": {},
   "outputs": [],
   "source": [
    "data = SimpleNamespace(message = {\"data\": data})"
   ]
  },
  {
   "cell_type": "code",
   "execution_count": 6,
   "metadata": {},
   "outputs": [
    {
     "name": "stdout",
     "output_type": "stream",
     "text": [
      " Gaming chairs are designed to provide comfort and support during long gaming sessions. They typically have adjustable features such as reclining backrests, height-adjustable seats, and armrests. Some gaming chairs also include features such as built-in speakers, vibration motors, and RGB lighting [1, 2, 3].\n",
      "\n"
     ]
    },
    {
     "data": {
      "text/plain": [
       "TriggerFollowupSearchResponse(response='ok')"
      ]
     },
     "execution_count": 6,
     "metadata": {},
     "output_type": "execute_result"
    }
   ],
   "source": [
    "trigger_unstructured_search(data)"
   ]
  },
  {
   "cell_type": "code",
   "execution_count": 7,
   "metadata": {},
   "outputs": [],
   "source": [
    "import requests"
   ]
  },
  {
   "cell_type": "code",
   "execution_count": null,
   "metadata": {},
   "outputs": [],
   "source": [
    "requests.post()"
   ]
  },
  {
   "cell_type": "code",
   "execution_count": 1,
   "metadata": {},
   "outputs": [],
   "source": [
    "from google.cloud import discoveryengine_v1beta as discoveryengine\n",
    "from google.api_core import protobuf_helpers\n",
    "\n",
    "converse_client = discoveryengine.ConversationalSearchServiceClient()"
   ]
  },
  {
   "cell_type": "code",
   "execution_count": 9,
   "metadata": {},
   "outputs": [],
   "source": [
    "past_conversations = converse_client.get_conversation(\n",
    "                name = \"projects/244831775715/locations/global/collections/default_collection/dataStores/csm-products_1696914795319/conversations/11482030103307714744\"\n",
    "            )"
   ]
  },
  {
   "cell_type": "code",
   "execution_count": 3,
   "metadata": {},
   "outputs": [],
   "source": [
    "original_conversation = discoveryengine.Conversation()"
   ]
  },
  {
   "cell_type": "code",
   "execution_count": 4,
   "metadata": {},
   "outputs": [],
   "source": [
    "discoveryengine.Conversation.copy_from(\n",
    "    instance=original_conversation,\n",
    "    other=past_conversations\n",
    ")"
   ]
  },
  {
   "cell_type": "code",
   "execution_count": 5,
   "metadata": {},
   "outputs": [
    {
     "data": {
      "text/plain": [
       "name: \"projects/244831775715/locations/global/collections/default_collection/dataStores/csm-products_1696914795319/conversations/11482030103307714744\"\n",
       "state: IN_PROGRESS\n",
       "user_pseudo_id: \"GA1.1.1959460853.1696602631\"\n",
       "messages {\n",
       "  user_input {\n",
       "    input: \"gaming chair\"\n",
       "  }\n",
       "}\n",
       "messages {\n",
       "  reply {\n",
       "    reply: \"Gaming chairs can have a height-adjustable backrest and a lockable recline function to support the natural curvature of your spine [4]. Some gaming chairs also have adjustable lumbar support to ease back pain [4].\"\n",
       "    summary {\n",
       "      summary_text: \"Gaming chairs can have a height-adjustable backrest and a lockable recline function to support the natural curvature of your spine [4]. Some gaming chairs also have adjustable lumbar support to ease back pain [4].\"\n",
       "      safety_attributes {\n",
       "        categories: \"Health\"\n",
       "        scores: 0.1\n",
       "      }\n",
       "    }\n",
       "  }\n",
       "}\n",
       "start_time {\n",
       "  seconds: 1697841934\n",
       "  nanos: 733951000\n",
       "}"
      ]
     },
     "execution_count": 5,
     "metadata": {},
     "output_type": "execute_result"
    }
   ],
   "source": [
    "original_conversation"
   ]
  },
  {
   "cell_type": "code",
   "execution_count": 6,
   "metadata": {},
   "outputs": [],
   "source": [
    "past_conversations.messages.append(\n",
    "    discoveryengine.ConversationMessage(\n",
    "        user_input=discoveryengine.TextInput(\n",
    "            input=\"oi mundo\"\n",
    "        )\n",
    "    )\n",
    ")\n",
    "past_conversations.messages.append(\n",
    "    discoveryengine.ConversationMessage(\n",
    "        reply=discoveryengine.Reply(\n",
    "            summary = discoveryengine.SearchResponse.Summary(\n",
    "                summary_text=\"Showing relevant items ...\"\n",
    "            )\n",
    "        )                    \n",
    "    )\n",
    ")"
   ]
  },
  {
   "cell_type": "code",
   "execution_count": 7,
   "metadata": {},
   "outputs": [
    {
     "data": {
      "text/plain": [
       "name: \"projects/244831775715/locations/global/collections/default_collection/dataStores/csm-products_1696914795319/conversations/11482030103307714744\"\n",
       "state: IN_PROGRESS\n",
       "user_pseudo_id: \"GA1.1.1959460853.1696602631\"\n",
       "messages {\n",
       "  user_input {\n",
       "    input: \"gaming chair\"\n",
       "  }\n",
       "}\n",
       "messages {\n",
       "  reply {\n",
       "    reply: \"Gaming chairs can have a height-adjustable backrest and a lockable recline function to support the natural curvature of your spine [4]. Some gaming chairs also have adjustable lumbar support to ease back pain [4].\"\n",
       "    summary {\n",
       "      summary_text: \"Gaming chairs can have a height-adjustable backrest and a lockable recline function to support the natural curvature of your spine [4]. Some gaming chairs also have adjustable lumbar support to ease back pain [4].\"\n",
       "      safety_attributes {\n",
       "        categories: \"Health\"\n",
       "        scores: 0.1\n",
       "      }\n",
       "    }\n",
       "  }\n",
       "}\n",
       "messages {\n",
       "  user_input {\n",
       "    input: \"oi mundo\"\n",
       "  }\n",
       "}\n",
       "messages {\n",
       "  reply {\n",
       "    summary {\n",
       "      summary_text: \"Showing relevant items ...\"\n",
       "    }\n",
       "  }\n",
       "}\n",
       "start_time {\n",
       "  seconds: 1697841934\n",
       "  nanos: 733951000\n",
       "}"
      ]
     },
     "execution_count": 7,
     "metadata": {},
     "output_type": "execute_result"
    }
   ],
   "source": [
    "past_conversations"
   ]
  },
  {
   "cell_type": "code",
   "execution_count": 8,
   "metadata": {},
   "outputs": [
    {
     "data": {
      "text/plain": [
       "name: \"projects/244831775715/locations/global/collections/default_collection/dataStores/csm-products_1696914795319/conversations/11482030103307714744\"\n",
       "state: IN_PROGRESS\n",
       "user_pseudo_id: \"GA1.1.1959460853.1696602631\"\n",
       "messages {\n",
       "  user_input {\n",
       "    input: \"gaming chair\"\n",
       "  }\n",
       "}\n",
       "messages {\n",
       "  reply {\n",
       "    reply: \"Gaming chairs can have a height-adjustable backrest and a lockable recline function to support the natural curvature of your spine [4]. Some gaming chairs also have adjustable lumbar support to ease back pain [4].\"\n",
       "    summary {\n",
       "      summary_text: \"Gaming chairs can have a height-adjustable backrest and a lockable recline function to support the natural curvature of your spine [4]. Some gaming chairs also have adjustable lumbar support to ease back pain [4].\"\n",
       "      safety_attributes {\n",
       "        categories: \"Health\"\n",
       "        scores: 0.1\n",
       "      }\n",
       "    }\n",
       "  }\n",
       "}\n",
       "messages {\n",
       "  user_input {\n",
       "    input: \"oi mundo\"\n",
       "  }\n",
       "}\n",
       "messages {\n",
       "  reply {\n",
       "    summary {\n",
       "      summary_text: \"Showing relevant items ...\"\n",
       "    }\n",
       "  }\n",
       "}\n",
       "start_time {\n",
       "  seconds: 1697841934\n",
       "  nanos: 733951000\n",
       "}"
      ]
     },
     "execution_count": 8,
     "metadata": {},
     "output_type": "execute_result"
    }
   ],
   "source": [
    "converse_client.update_conversation(\n",
    "    conversation=past_conversations,\n",
    "    update_mask=protobuf_helpers.field_mask(\n",
    "        original=original_conversation._pb,\n",
    "        modified=past_conversations._pb\n",
    "    )\n",
    ")"
   ]
  },
  {
   "cell_type": "code",
   "execution_count": null,
   "metadata": {},
   "outputs": [],
   "source": []
  }
 ],
 "metadata": {
  "kernelspec": {
   "display_name": "Python 3 (ipykernel)",
   "language": "python",
   "name": "python3"
  },
  "language_info": {
   "codemirror_mode": {
    "name": "ipython",
    "version": 3
   },
   "file_extension": ".py",
   "mimetype": "text/x-python",
   "name": "python",
   "nbconvert_exporter": "python",
   "pygments_lexer": "ipython3",
   "version": "3.11.5"
  }
 },
 "nbformat": 4,
 "nbformat_minor": 4
}
