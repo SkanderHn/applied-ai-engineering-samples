{
 "cells": [
  {
   "cell_type": "markdown",
   "metadata": {},
   "source": [
    "# Planning\n",
    "\n",
    "1) Faço o retrieve da thread para conseguir organizar melhor o prompt.\n",
    "    - Para pegar o ThreadID correto irei filtrar pelo título, origem e conteúdo. Se der match nos 3, então pego o ID.\n",
    "    - Fazer um retrieve das mensagens do usuário apenas, sendo a mensagem [0] a última.\n",
    "2) Criar um prompt\n",
    "    - Monto um prompt para extrair as perguntas usando apenas os emails que vieram do usuário.\n",
    "    - As perguntas devem ser claras e completas.\n",
    "3) Busca no Vertex Search\n",
    "    - Compila as resposta e manda por email.\n",
    "4) Caso o usuário escreva a palavra \"human\" ou \"agent\" ou \"talk\", vou redirecionar para um humano responder.\n",
    "    - Aqui precisamos criar um draft."
   ]
  },
  {
   "cell_type": "markdown",
   "metadata": {},
   "source": [
    "# Step 1 - Retrieve or create Vertex AI Search conversation"
   ]
  },
  {
   "cell_type": "code",
   "execution_count": 1,
   "metadata": {},
   "outputs": [],
   "source": [
    "import base64\n",
    "import utils_palm\n",
    "import numpy as np\n",
    "import utils_vertex_vector"
   ]
  },
  {
   "cell_type": "code",
   "execution_count": 2,
   "metadata": {},
   "outputs": [],
   "source": [
    "import json\n",
    "from email.message import EmailMessage\n",
    "from email.mime.text import MIMEText\n",
    "from googleapiclient.discovery import build\n",
    "from google.cloud import discoveryengine_v1beta as discoveryengine\n",
    "from google.cloud import firestore\n",
    "from google.oauth2.credentials import Credentials\n",
    "from proto import Message\n",
    "from vertexai.preview.language_models import TextGenerationModel\n",
    "\n",
    "import tomllib\n",
    "\n",
    "with open(\"config.toml\", \"rb\") as f:\n",
    "    config = tomllib.load(f)\n",
    "\n",
    "db = firestore.Client()\n",
    "\n",
    "project_id = config[\"global\"][\"project_id\"]\n",
    "location = config[\"global\"][\"location\"]\n",
    "datastore_location = config[\"global\"][\"datastore_location\"]\n",
    "serving_config = config[\"global\"][\"serving_config\"]\n",
    "images_bucket_name = config[\"global\"][\"images_bucket_name\"]\n",
    "email_datastore_id = config[\"salesforce\"][\"email_datastore_id\"]\n",
    "project_number = config[\"global\"][\"project_number\"]\n",
    "\n",
    "# Workspace integration\n",
    "CREDENTIALS = Credentials.from_authorized_user_file(\n",
    "    filename=\"token.json\", \n",
    "    scopes=['https://www.googleapis.com/auth/gmail.modify'])\n",
    "gmail_services = build('gmail', 'v1', credentials=CREDENTIALS)\n",
    "\n",
    "model = TextGenerationModel.from_pretrained(\"text-bison@latest\")"
   ]
  },
  {
   "cell_type": "code",
   "execution_count": 3,
   "metadata": {},
   "outputs": [],
   "source": [
    "# temp\n",
    "email_content = \"\"\"Hi Cymbal Support,\"\"\"\n",
    "subject = \"Are gaming chairs ergonomic?\"\n",
    "email_address = \"renatoleite@google.com\""
   ]
  },
  {
   "cell_type": "code",
   "execution_count": null,
   "metadata": {},
   "outputs": [],
   "source": [
    "prompt_email = \"\"\"<instructions>\n",
    "Extract questions or inquiries that are being asked in the conversation below. If you don't find any questions or inquiries, respond with an empty list.\n",
    "Provide the output in the JSON format below.\n",
    "</instructions>\n",
    "<conversation>\n",
    "{}\n",
    "</conversation>\n",
    "<JSONformat>\n",
    "{{\n",
    "    \"questions\": [\n",
    "        \"Question or inquiry 1\",\n",
    "        \"Question or inquiry 2\",\n",
    "        \"Question or inquiry 3\",\n",
    "        \"Question or inquiry 4\",\n",
    "    ]\n",
    "}}\n",
    "</JSONformat>\n",
    "<output>\"\"\""
   ]
  },
  {
   "cell_type": "code",
   "execution_count": null,
   "metadata": {},
   "outputs": [],
   "source": [
    "converse_client = discoveryengine.ConversationalSearchServiceClient()"
   ]
  },
  {
   "cell_type": "code",
   "execution_count": null,
   "metadata": {},
   "outputs": [],
   "source": [
    "email = \"renatoleite@google.com\"\n",
    "case_id = \"00001063\""
   ]
  },
  {
   "cell_type": "code",
   "execution_count": null,
   "metadata": {},
   "outputs": [],
   "source": [
    "document = db.collection(\"salesforce_cases\").document(case_id)\n",
    "\n",
    "if document.get().exists:\n",
    "    conversation_resource = document.get().to_dict()[\"conversation_resource\"]\n",
    "    email_thread_id = document.get().to_dict()[\"email_thread_id\"]\n",
    "    request = discoveryengine.GetConversationRequest(name=conversation_resource)\n",
    "    conversation = converse_client.get_conversation(request=request)\n",
    "else:\n",
    "    converse_request = discoveryengine.CreateConversationRequest(\n",
    "        parent = (f\"projects/{project_id}/\"\n",
    "                    f\"locations/{datastore_location}/\"\n",
    "                    \"collections/default_collection/\"\n",
    "                    f\"dataStores/{email_datastore_id}\"),\n",
    "        conversation=discoveryengine.Conversation(\n",
    "            user_pseudo_id=email\n",
    "        )\n",
    "    )\n",
    "    conversation = converse_client.create_conversation(\n",
    "                request=converse_request)\n",
    "\n",
    "    # Retrieve thread_id from Gmail\n",
    "    q = f'from:{email_address} label:inbox ' \\\n",
    "        f'subject:\"{subject}\" \"{email_content}\"'\n",
    "    emails = gmail_services.users().threads().list(\n",
    "        userId=\"renatoleite@1987984870407.altostrat.com\",\n",
    "        maxResults=1,\n",
    "        q=q\n",
    "    ).execute()\n",
    "\n",
    "    if emails:\n",
    "        email_thread_id = emails[\"threads\"][0][\"id\"]\n",
    "        document.set({\n",
    "            \"conversation_resource\": conversation.name,\n",
    "            \"email_thread_id\": email_thread_id\n",
    "        })\n",
    "    else:\n",
    "        raise # TODO: include raise HTTP\n",
    "\n",
    "try:\n",
    "    questions = model.predict(\n",
    "        prompt=prompt_email.format(email_content)\n",
    "    ).text\n",
    "    questions_dict = json.loads(questions)\n",
    "\n",
    "except Exception as e:\n",
    "    raise # TODO: include raise HTTP\n",
    "\n"
   ]
  },
  {
   "cell_type": "code",
   "execution_count": null,
   "metadata": {},
   "outputs": [],
   "source": [
    "conversation"
   ]
  },
  {
   "cell_type": "markdown",
   "metadata": {},
   "source": [
    "# Step 2 - Retrieve email_thread_id logic"
   ]
  },
  {
   "cell_type": "code",
   "execution_count": null,
   "metadata": {},
   "outputs": [],
   "source": [
    "email_content = \"\"\"\"\"\"\n",
    "subject = \"Are gaming chairs ergonomic?\"\n",
    "email_address = \"renatoleite@google.com\"\n",
    "\n",
    "q = f'from:renatoleite@google.com label:inbox subject:\"Are gaming chairs ergonomic?\" \"{email_content}\"'"
   ]
  },
  {
   "cell_type": "code",
   "execution_count": null,
   "metadata": {},
   "outputs": [],
   "source": [
    "emails = gmail_services.users().threads().list(\n",
    "    userId=\"renatoleite@1987984870407.altostrat.com\",\n",
    "    maxResults=1,\n",
    "    q=q\n",
    ").execute()"
   ]
  },
  {
   "cell_type": "code",
   "execution_count": null,
   "metadata": {},
   "outputs": [],
   "source": [
    "email_thread_id = emails[\"threads\"][0][\"id\"]"
   ]
  },
  {
   "cell_type": "code",
   "execution_count": null,
   "metadata": {},
   "outputs": [],
   "source": [
    "email_thread_id"
   ]
  },
  {
   "cell_type": "code",
   "execution_count": null,
   "metadata": {},
   "outputs": [],
   "source": [
    "# Check if there are attachements (JPEG or PNG) in the email"
   ]
  },
  {
   "cell_type": "code",
   "execution_count": null,
   "metadata": {},
   "outputs": [],
   "source": [
    "email_message = gmail_services.users().threads().get(\n",
    "    userId=\"renatoleite@1987984870407.altostrat.com\",\n",
    "    id=email_thread_id\n",
    ").execute()"
   ]
  },
  {
   "cell_type": "code",
   "execution_count": null,
   "metadata": {},
   "outputs": [],
   "source": [
    "# Get attachmentId from message\n",
    "# TODO: mudar apenas para a última mensagem\n",
    "\n",
    "attachments = set()\n",
    "\n",
    "email_message_dict = email_message[\"messages\"][-1]\n",
    "email_message_id = email_message_dict[\"id\"]\n",
    "\n",
    "for part_level_0 in email_message_dict[\"payload\"][\"parts\"]:\n",
    "    if (part_level_0[\"mimeType\"] == \"image/png\" or \n",
    "        part_level_0[\"mimeType\"] == \"image/jpg\"):\n",
    "        attachments.add(part_level_0[\"body\"][\"attachmentId\"])\n",
    "    elif \"multipart\" in part_level_0[\"mimeType\"]:\n",
    "        for part_level_1 in part_level_0[\"parts\"]:\n",
    "            if (part_level_1[\"mimeType\"] == \"image/png\" or \n",
    "                part_level_1[\"mimeType\"] == \"image/jpg\"):\n",
    "                attachments.add(part_level_1[\"body\"][\"attachmentId\"])"
   ]
  },
  {
   "cell_type": "code",
   "execution_count": null,
   "metadata": {},
   "outputs": [],
   "source": [
    "embedding = utils_palm.EmbeddingPredictionClient(project=project_id)"
   ]
  },
  {
   "cell_type": "code",
   "execution_count": null,
   "metadata": {},
   "outputs": [],
   "source": [
    "prompt_multimodal = \"\"\"<instructions>\n",
    "Below is an email from a customer to a support center with an attached image.\n",
    "Extract questions or inquiries that are being asked in the conversation below.\n",
    "Separate the questions or inquiries that are related to the attached image and the questions or inquiries that are not related to the attached image.\n",
    "If you don't find any questions or inquiries, respond with an empty list.\n",
    "Provide the output in the JSON format below.\n",
    "</instructions>\n",
    "<conversation>\n",
    "{}\n",
    "<conversation>\n",
    "<JSONformat>\n",
    "{{\n",
    "    \"questions_inquiries_not_related_to_image\": [\n",
    "        \"Question or inquiry 1, not related to the attached image?\",\n",
    "        \"Question or inquiry 2, not related to the attached image?\",\n",
    "        \"Question or inquiry 3, not related to the attached image?\",\n",
    "    ],\n",
    "    \"questions_inquiries_related_to_image\": [\n",
    "        \"Question or inquiry 1, related to the image?\",\n",
    "        \"Question or inquiry 2, related to the image?\",\n",
    "        \"Question or inquiry 3, related to the image?\",\n",
    "    ]\n",
    "}}\n",
    "</JSONformat>\n",
    "<output>\"\"\""
   ]
  },
  {
   "cell_type": "code",
   "execution_count": null,
   "metadata": {},
   "outputs": [],
   "source": [
    "email_content = \"\"\"Hi Cymbal Support,\n",
    "I'm interested in purchasing a gaming chair from your store and I have a few questions.\n",
    "First, are your gaming chairs ergonomic?\n",
    "Second, do you have any gaming chairs that are made of nylon?\n",
    "Show me products similar to the attached image. I prefer blue chairs.\n",
    "Thanks for your help,\"\"\""
   ]
  },
  {
   "cell_type": "code",
   "execution_count": null,
   "metadata": {},
   "outputs": [],
   "source": [
    "# Extract embedding for each email and sum them\n",
    "images_embeddings = []\n",
    "for attachment in list(attachments):\n",
    "    email_attachment = gmail_services.users().messages().attachments().get(\n",
    "        userId=\"renatoleite@1987984870407.altostrat.com\",\n",
    "        messageId=email_message_id,\n",
    "        id=attachment\n",
    "    ).execute()\n",
    "    \n",
    "    # Replace the characters in the base64 string\n",
    "    image_bytes = email_attachment[\"data\"].replace('_', '/').replace('-', '+').replace(' ', '')\n",
    "    image_bytes = base64.b64decode(image_bytes)\n",
    "\n",
    "    images_embeddings.append(\n",
    "        embedding.get_embedding(\n",
    "            image_bytes=image_bytes\n",
    "        ).image_embedding\n",
    "    )\n",
    "\n",
    "# Check for questions / inquiries\n",
    "multimodal_questions = json.loads(model.predict(\n",
    "    prompt=prompt_multimodal.format(email_content)\n",
    ").text)\n",
    "\n",
    "image_embedding = list(np.sum(np.array(images_embeddings), axis=0))\n",
    "\n",
    "text_embeddings = []\n",
    "if multimodal_questions.get(\"questions_inquiries_related_to_image\", \"\"):\n",
    "    for q in multimodal_questions[\"questions_inquiries_related_to_image\"]:\n",
    "        text_embeddings.append(\n",
    "            embedding.get_embedding(text=q).text_embedding\n",
    "        )\n",
    "\n",
    "text_embedding = list(np.sum(np.array(text_embeddings), axis=0))\n",
    "\n",
    "multimodal_embedding = utils_palm.reduce_embedding_dimesion(\n",
    "    vector_text=text_embedding,\n",
    "    vector_image=image_embedding\n",
    ")\n",
    "\n",
    "utils_vertex_vector.find_neighbor(\n",
    "    \n",
    ")"
   ]
  },
  {
   "cell_type": "code",
   "execution_count": null,
   "metadata": {},
   "outputs": [],
   "source": []
  },
  {
   "cell_type": "code",
   "execution_count": null,
   "metadata": {},
   "outputs": [],
   "source": []
  },
  {
   "cell_type": "code",
   "execution_count": null,
   "metadata": {},
   "outputs": [],
   "source": []
  },
  {
   "cell_type": "code",
   "execution_count": null,
   "metadata": {},
   "outputs": [],
   "source": []
  },
  {
   "cell_type": "code",
   "execution_count": null,
   "metadata": {},
   "outputs": [],
   "source": []
  },
  {
   "cell_type": "markdown",
   "metadata": {},
   "source": [
    "# Step 3 - Prompt to extract questions"
   ]
  },
  {
   "cell_type": "code",
   "execution_count": null,
   "metadata": {},
   "outputs": [],
   "source": [
    "from vertexai.preview.language_models import TextGenerationModel\n",
    "\n",
    "model = TextGenerationModel.from_pretrained(\"text-bison@latest\")"
   ]
  },
  {
   "cell_type": "code",
   "execution_count": null,
   "metadata": {},
   "outputs": [],
   "source": [
    "email_content = \"\"\"Hi Cymbal Support,\n",
    "\n",
    "\n",
    "I'm interested in purchasing a gaming chair from your store and I have a few questions.\n",
    "\n",
    "\n",
    "First, are your gaming chairs ergonomic? I'm looking for a chair that will support my back and help me avoid pain while gaming.\n",
    "\n",
    "\n",
    "Second, do you have any gaming chairs that are made of nylon? I'm allergic to some synthetic materials and I need to make sure that the chair I choose is safe for me to use.\n",
    "\n",
    "\n",
    "Thanks for your help,\"\"\""
   ]
  },
  {
   "cell_type": "code",
   "execution_count": null,
   "metadata": {},
   "outputs": [],
   "source": [
    "questions = model.predict(\n",
    "    prompt=prompt_email.format(email_content)\n",
    ").text"
   ]
  },
  {
   "cell_type": "code",
   "execution_count": null,
   "metadata": {},
   "outputs": [],
   "source": [
    "import json\n",
    "questions_dict = json.loads(questions)"
   ]
  },
  {
   "cell_type": "code",
   "execution_count": null,
   "metadata": {},
   "outputs": [],
   "source": [
    "questions_dict"
   ]
  },
  {
   "cell_type": "markdown",
   "metadata": {},
   "source": [
    "# Env setup"
   ]
  },
  {
   "cell_type": "code",
   "execution_count": 2,
   "metadata": {},
   "outputs": [],
   "source": [
    "from email.message import EmailMessage\n",
    "from email.mime.text import MIMEText\n",
    "\n",
    "from googleapiclient.discovery import build\n",
    "\n",
    "from google.oauth2.credentials import Credentials\n",
    "from proto import Message\n",
    "\n",
    "import tomllib"
   ]
  },
  {
   "cell_type": "code",
   "execution_count": 3,
   "metadata": {},
   "outputs": [],
   "source": [
    "# Load configuration file\n",
    "with open(\"config.toml\", \"rb\") as f:\n",
    "    config = tomllib.load(f)\n",
    "project_id = config[\"global\"][\"project_id\"]\n",
    "location = config[\"global\"][\"location\"]"
   ]
  },
  {
   "cell_type": "code",
   "execution_count": 4,
   "metadata": {},
   "outputs": [],
   "source": [
    "# Workspace integration\n",
    "CREDENTIALS = Credentials.from_authorized_user_file(\n",
    "    filename=\"token.json\", \n",
    "    scopes=['https://www.googleapis.com/auth/gmail.modify'])\n",
    "gmail_services = build('gmail', 'v1', credentials=CREDENTIALS)"
   ]
  },
  {
   "cell_type": "markdown",
   "metadata": {},
   "source": [
    "# List messages"
   ]
  },
  {
   "cell_type": "code",
   "execution_count": 4,
   "metadata": {},
   "outputs": [],
   "source": [
    "email_body = \"\"\"Are gaming chairs ergonomic?\"\"\"\n",
    "\n",
    "# q = \"from:renatoleite@google.com subject:Help with gaming chairs\"\n",
    "q = f\"from:renatoleite@google.com subject:'test' {email_body}\"\n",
    "\n",
    "emails = gmail_services.users().messages().list(\n",
    "    userId=\"renatoleite@1987984870407.altostrat.com\",\n",
    "    q=q\n",
    ").execute()"
   ]
  },
  {
   "cell_type": "code",
   "execution_count": 5,
   "metadata": {},
   "outputs": [
    {
     "data": {
      "text/plain": [
       "{'messages': [{'id': '18b7187674715a55', 'threadId': '18b717b364707ec2'},\n",
       "  {'id': '18b717bef399475b', 'threadId': '18b717b364707ec2'},\n",
       "  {'id': '18b717b364707ec2', 'threadId': '18b717b364707ec2'}],\n",
       " 'resultSizeEstimate': 3}"
      ]
     },
     "execution_count": 5,
     "metadata": {},
     "output_type": "execute_result"
    }
   ],
   "source": [
    "emails"
   ]
  },
  {
   "cell_type": "code",
   "execution_count": 7,
   "metadata": {},
   "outputs": [],
   "source": [
    "emails = gmail_services.users().threads().list(\n",
    "    userId=\"renatoleite@1987984870407.altostrat.com\",\n",
    "    # maxResults=1,\n",
    "    q=\"rfc822msgid:<CA+J_hzNqg9BDzYpJ+Df-kk0cQsKhRGJ-1wCWT9fof4U1cq_s=A@mail.gmail.com>\"\n",
    ").execute()"
   ]
  },
  {
   "cell_type": "code",
   "execution_count": 8,
   "metadata": {},
   "outputs": [
    {
     "data": {
      "text/plain": [
       "{'threads': [{'id': '18b717b364707ec2',\n",
       "   'snippet': 'Are gaming chairs ergonomic? Renato Leite Solutions Architect - Machine Learning +55 11 97368.8868',\n",
       "   'historyId': '21055'}],\n",
       " 'resultSizeEstimate': 1}"
      ]
     },
     "execution_count": 8,
     "metadata": {},
     "output_type": "execute_result"
    }
   ],
   "source": [
    "emails"
   ]
  },
  {
   "cell_type": "code",
   "execution_count": 10,
   "metadata": {},
   "outputs": [],
   "source": [
    "email_message = gmail_services.users().threads().get(\n",
    "    userId=\"renatoleite@1987984870407.altostrat.com\",\n",
    "    id=\"18b717b364707ec2\"\n",
    ").execute()"
   ]
  },
  {
   "cell_type": "code",
   "execution_count": 11,
   "metadata": {},
   "outputs": [],
   "source": [
    "# Get thread ID from the first message\n",
    "for header in email_message[\"messages\"][0][\"payload\"][\"headers\"]:\n",
    "    if header[\"name\"] == \"Message-ID\":\n",
    "        email_thread_id = header[\"value\"]\n",
    "\n",
    "# Get message ID from the last message\n",
    "for header in email_message[\"messages\"][-1][\"payload\"][\"headers\"]:\n",
    "    if header[\"name\"] == \"Message-ID\":\n",
    "        email_message_id = header[\"value\"]"
   ]
  },
  {
   "cell_type": "code",
   "execution_count": 12,
   "metadata": {},
   "outputs": [
    {
     "data": {
      "text/plain": [
       "'<CA+J_hzNqg9BDzYpJ+Df-kk0cQsKhRGJ-1wCWT9fof4U1cq_s=A@mail.gmail.com>'"
      ]
     },
     "execution_count": 12,
     "metadata": {},
     "output_type": "execute_result"
    }
   ],
   "source": [
    "email_thread_id"
   ]
  },
  {
   "cell_type": "code",
   "execution_count": 13,
   "metadata": {},
   "outputs": [
    {
     "data": {
      "text/plain": [
       "'<CA+J_hzOrkdgZ4pE12pwi_jyjMJcEDBAx0Sxa8Twn8P+bZR41hQ@mail.gmail.com>'"
      ]
     },
     "execution_count": 13,
     "metadata": {},
     "output_type": "execute_result"
    }
   ],
   "source": [
    "email_message_id"
   ]
  },
  {
   "cell_type": "code",
   "execution_count": 9,
   "metadata": {},
   "outputs": [
    {
     "data": {
      "text/plain": [
       "{'id': '18b7187674715a55',\n",
       " 'threadId': '18b717b364707ec2',\n",
       " 'labelIds': ['IMPORTANT', 'CATEGORY_PERSONAL'],\n",
       " 'snippet': 'hi, how are you? Renato Leite Solutions Architect - Machine Learning +55 11 97368.8868 On Fri, Oct 27, 2023 at 11:13 AM Renato Leite &lt;renatoleite@google.com&gt; wrote: Are they made of nylon? Renato',\n",
       " 'payload': {'partId': '',\n",
       "  'mimeType': 'multipart/alternative',\n",
       "  'filename': '',\n",
       "  'headers': [{'name': 'Delivered-To',\n",
       "    'value': 'renatoleite@1987984870407.altostrat.com'},\n",
       "   {'name': 'Received',\n",
       "    'value': 'by 2002:a05:6520:516:b0:27b:9d14:7478 with SMTP id g22csp2191817lkv;        Fri, 27 Oct 2023 07:26:21 -0700 (PDT)'},\n",
       "   {'name': 'X-Received',\n",
       "    'value': 'by 2002:aa7:c70b:0:b0:53e:5957:aa49 with SMTP id i11-20020aa7c70b000000b0053e5957aa49mr2510466edq.19.1698416780906;        Fri, 27 Oct 2023 07:26:20 -0700 (PDT)'},\n",
       "   {'name': 'ARC-Seal',\n",
       "    'value': 'i=1; a=rsa-sha256; t=1698416780; cv=none;        d=google.com; s=arc-20160816;        b=J0cv4t2cNNtOeTCvpGsRROMxGylvwYmVOEMCSOHRFLU/8ehX5ne/Z1bBLty1lgzmam         CP6Onza8meUaofUpx/qo2FhTji8ZiX0eWE2ovVngw9I0eUxaxPe3LCCwYx4Tn/t4aoBx         scFLB7im1ZxQyy+NFUBd1NjB60OBoPAg2i+zTLbQuDkSMj1feWwz5fhWqAqwxFP+dXke         fFrs4TDX9cgvWAXxumcDpVukchdVgZVxlYtRzr2oA2APpzIwCe6v01pYlfef+u4vkrU7         ehKEBT+4/LfDr4YWLbN1J+Yk1Xbt3L3QZscybBXRX42cWOI9RiogOvuHmAKEhONYHY0e         E2AQ=='},\n",
       "   {'name': 'ARC-Message-Signature',\n",
       "    'value': 'i=1; a=rsa-sha256; c=relaxed/relaxed; d=google.com; s=arc-20160816;        h=to:subject:message-id:date:from:in-reply-to:references:mime-version         :dkim-signature;        bh=KjrT8GAQYh9tpImvRqGV1lgpyC5hvxLVXaBo5YAa9ho=;        fh=Vn7ztH1f5vA/3lcdsYlvVAKJ/m6y1oqMuB1vGxEBVjA=;        b=wkqRP6zrYEmHdFVi8cQt9bv2AyMKHZSekgKri1YHwExcIKmwUTwsTPF5vcNqG/SwsN         y4JcQPR8QarGby6OaqnrDYmFvgh6RGOVbdVJiYuppEDSICBica5ER4Un0zgT1m7Y+heM         noNTN7CLXOZcJJyptF0PVBtAjsSTaWwzbWd9y4Gu18iiV5OZNRILH8aHiVItlMqVVH49         7OS1HfzoMmaRnnnvXDMoKKAT5S9vAevoZxNeME+Iof1A1BtVWZTaAR5NsrVjqgVPXeMp         KBJaIl0YJWYYrI20hpxzusJ+hAij5/gaccjnbela731yJO/NipLCm0/qCMpzreIghSmM         B/ew=='},\n",
       "   {'name': 'ARC-Authentication-Results',\n",
       "    'value': 'i=1; mx.google.com;       dkim=pass header.i=@google.com header.s=20230601 header.b=b4Bp0JBF;       spf=pass (google.com: domain of renatoleite@google.com designates 209.85.220.41 as permitted sender) smtp.mailfrom=renatoleite@google.com;       dmarc=pass (p=REJECT sp=REJECT dis=NONE) header.from=google.com'},\n",
       "   {'name': 'Return-Path', 'value': '<renatoleite@google.com>'},\n",
       "   {'name': 'Received',\n",
       "    'value': 'from mail-sor-f41.google.com (mail-sor-f41.google.com. [209.85.220.41])        by mx.google.com with SMTPS id q17-20020a50c351000000b00530a8a12e31sor81937edb.8.2023.10.27.07.26.20        for <renatoleite@1987984870407.altostrat.com>        (Google Transport Security);        Fri, 27 Oct 2023 07:26:20 -0700 (PDT)'},\n",
       "   {'name': 'Received-SPF',\n",
       "    'value': 'pass (google.com: domain of renatoleite@google.com designates 209.85.220.41 as permitted sender) client-ip=209.85.220.41;'},\n",
       "   {'name': 'Authentication-Results',\n",
       "    'value': 'mx.google.com;       dkim=pass header.i=@google.com header.s=20230601 header.b=b4Bp0JBF;       spf=pass (google.com: domain of renatoleite@google.com designates 209.85.220.41 as permitted sender) smtp.mailfrom=renatoleite@google.com;       dmarc=pass (p=REJECT sp=REJECT dis=NONE) header.from=google.com'},\n",
       "   {'name': 'DKIM-Signature',\n",
       "    'value': 'v=1; a=rsa-sha256; c=relaxed/relaxed;        d=google.com; s=20230601; t=1698416780; x=1699021580; darn=1987984870407.altostrat.com;        h=to:subject:message-id:date:from:in-reply-to:references:mime-version         :from:to:cc:subject:date:message-id:reply-to;        bh=KjrT8GAQYh9tpImvRqGV1lgpyC5hvxLVXaBo5YAa9ho=;        b=b4Bp0JBFAXz5I9o3c1AaU8fg9MlRdJ33KkmTqgo9L5AOG1JeALGCFNTFq1zCF076c3         S///GhylW0+fXU1AphDJsg3INlmK8BoZd08xaT0sGw2maZEYnmhzj5DjyJSWm5edaZMR         aGVXluYqNBRRLpajV2ZUF+FFsOcvBbpRa5/Yw6vo3hCqe9AchRijsgCXmy6ydr7SAQQc         OH+Kue0mRLxxpXa6bIsUM8rlQzOrsWaV4JKmAEsFffFC9xblSrQa79RXbEtfJZqAV8b9         6WciZt9/ofbW86kMxxubAhuCNbYyxzSAhKC7gZ1V6uCv9lpGuWg248rhCTAMU1xUrZmc         9+YQ=='},\n",
       "   {'name': 'X-Google-DKIM-Signature',\n",
       "    'value': 'v=1; a=rsa-sha256; c=relaxed/relaxed;        d=1e100.net; s=20230601; t=1698416780; x=1699021580;        h=to:subject:message-id:date:from:in-reply-to:references:mime-version         :x-gm-message-state:from:to:cc:subject:date:message-id:reply-to;        bh=KjrT8GAQYh9tpImvRqGV1lgpyC5hvxLVXaBo5YAa9ho=;        b=TBDgj6Yi/DbEQ2Ioog8umawKbXmWo8gnJMvJIqvwr92bRvQ2yNM/AE2RpU5omYdSoj         D1DOZQTcZfjKxAUB+LpPcyAg17ePODSzjWFK6WvKbv5hAmYFBR2iXOSArAP8MF/YS0he         9uhs22UcsBPFffhCxZ6k6aeEDNhwrgeZVse9Pzd0zzws4ulgu1Oz8Pk2HGAXURfBPbyT         n+DMIgI8Q9hxrU43ftcczg0pJ/Ibyjbqh4+lVvUuMDITlDE72Xl8KN8SksznrkV0DraO         H9HLeq/Sl02jqVQLrbAKea+8IqM7MgtZtUqMkWE0zsucsrSRvLuNjFvmCVDKrasZqSau         szIA=='},\n",
       "   {'name': 'X-Gm-Message-State',\n",
       "    'value': 'AOJu0YxmVx1tvUeS9yNSwfkwmIMq1c8FyHtBoe/lhHZeKDO//Ebi5Pa1 7/cRjbDIcnsw29Oe2wcq9ZoLoHOplDDqISZSfrNurbRB9I+eoelt0Xs='},\n",
       "   {'name': 'X-Google-Smtp-Source',\n",
       "    'value': 'AGHT+IG3Nq4sS++hflotuiLwsJHyKldivE6DeMm8RKFBawN7dF5T1gOKyCgUQV1xNmomTk8hFWQZIoS5juYLsNmP1us='},\n",
       "   {'name': 'X-Received',\n",
       "    'value': 'by 2002:a50:cc88:0:b0:540:e63d:3cfb with SMTP id q8-20020a50cc88000000b00540e63d3cfbmr86402edi.3.1698416779952; Fri, 27 Oct 2023 07:26:19 -0700 (PDT)'},\n",
       "   {'name': 'MIME-Version', 'value': '1.0'},\n",
       "   {'name': 'References',\n",
       "    'value': '<zSglm360R1unMcOoTEolAA.oz-ufrM-Npi-cik4NcYtskw@sfdc.net> <CANyrStRGTWpC-FZAUwa7z33UW2bVgBRA685tchXHmp+WXQc=ZQ@mail.gmail.com> <CA+J_hzONpb0UheXoMaJRS=MX6hmFvjEu7RWVW5xJguaPkiGnGw@mail.gmail.com>'},\n",
       "   {'name': 'In-Reply-To',\n",
       "    'value': '<CA+J_hzONpb0UheXoMaJRS=MX6hmFvjEu7RWVW5xJguaPkiGnGw@mail.gmail.com>'},\n",
       "   {'name': 'From', 'value': 'Renato Leite <renatoleite@google.com>'},\n",
       "   {'name': 'Date', 'value': 'Fri, 27 Oct 2023 11:26:03 -0300'},\n",
       "   {'name': 'Message-ID',\n",
       "    'value': '<CA+J_hzOrkdgZ4pE12pwi_jyjMJcEDBAx0Sxa8Twn8P+bZR41hQ@mail.gmail.com>'},\n",
       "   {'name': 'Subject', 'value': 'Re: test'},\n",
       "   {'name': 'To', 'value': 'renatoleite@1987984870407.altostrat.com'},\n",
       "   {'name': 'Content-Type',\n",
       "    'value': 'multipart/alternative; boundary=\"000000000000da29ec0608b378e0\"'}],\n",
       "  'body': {'size': 0},\n",
       "  'parts': [{'partId': '0',\n",
       "    'mimeType': 'text/plain',\n",
       "    'filename': '',\n",
       "    'headers': [{'name': 'Content-Type',\n",
       "      'value': 'text/plain; charset=\"UTF-8\"'},\n",
       "     {'name': 'Content-Transfer-Encoding', 'value': 'quoted-printable'}],\n",
       "    'body': {'size': 1173,\n",
       "     'data': 'aGksIGhvdyBhcmUgeW91Pw0KDQoNCipSZW5hdG8gTGVpdGUqDQoNClNvbHV0aW9ucyBBcmNoaXRlY3QgLSBNYWNoaW5lIExlYXJuaW5nDQoNCis1NSAxMSA5NzM2OC44ODY4DQoNCg0KDQoNCg0KT24gRnJpLCBPY3QgMjcsIDIwMjMgYXQgMTE6MTPigK9BTSBSZW5hdG8gTGVpdGUgPHJlbmF0b2xlaXRlQGdvb2dsZS5jb20-DQp3cm90ZToNCg0KPiBBcmUgdGhleSBtYWRlIG9mIG55bG9uPw0KPg0KPg0KPiAqUmVuYXRvIExlaXRlKg0KPg0KPiBTb2x1dGlvbnMgQXJjaGl0ZWN0IC0gTWFjaGluZSBMZWFybmluZw0KPg0KPiArNTUgMTEgOTczNjguODg2OCA8KDExKSUyMDk3MzY4LTg4Njg-DQo-DQo-DQo-DQo-DQo-DQo-IE9uIEZyaSwgT2N0IDI3LCAyMDIzIGF0IDExOjEz4oCvQU0gPHJlbmF0b2xlaXRlQDE5ODc5ODQ4NzA0MDcuYWx0b3N0cmF0LmNvbT4NCj4gd3JvdGU6DQo-DQo-PiBEZWFyIEN1c3RvbWVyIFJlbmF0byBMZWl0ZSwNCj4-DQo-PiBUaGFuayB5b3UgZm9yIGNvbnRhY3RpbmcgdGhlIHN1cHBvcnQgdGVhbS4NCj4-DQo-PiBXZSBpZGVudGlmaWVkIHNvbWUgcXVlc3Rpb25zIGluIHlvdXIgZW1haWwuIFdlIGhvcGUgdGhlIGZvbGxvd2luZyBhbnN3ZXJzDQo-PiBjYW4gYmUgb2YgaGVscCB0byB5b3U6DQo-Pg0KPj4gKlF1ZXN0aW9uOiAqQXJlIGdhbWluZyBjaGFpcnMgZXJnb25vbWljPw0KPj4NCj4-ICpBbnN3ZXI6ICpTb21lIGdhbWluZyBjaGFpcnMgYXJlIGVyZ29ub21pY2FsbHkgZGVzaWduZWQgdG8gc3VwcG9ydCB5b3VyDQo-PiBiYWNrIGFuZCByZWR1Y2UgZmF0aWd1ZSBbMl0uIFRoZXkgaGF2ZSBhIHdpZGUsIG11c2NsZS1zaGFwZWQgYmFjayB0aGF0DQo-PiBzdXBwb3J0cyB5b3VyIGJhY2sgd2l0aCBtdWx0aXBsZSBmdWxjcnVtcyBbMl0uIFRoZSBiYWNrIG9mIHRoZXNlIGNoYWlycw0KPj4gYWxzbyBoZWxwcyB5b3UgZGV2ZWxvcCBhIGhlYWx0aHkgc2l0dGluZyBwb3N0dXJlIFsxXS4NCj4-DQo-PiAgICAxLiBSZWZlcmVuY2UNCj4-ICAgIDxodHRwczovL3N0b3JhZ2UuZ29vZ2xlYXBpcy5jb20vY3NtLWRhdGFzZXQvd2Vic2l0ZS1zZWFyY2gvNS5odG1sPg0KPj4gICAgMi4gUmVmZXJlbmNlDQo-PiAgICA8aHR0cHM6Ly9zdG9yYWdlLmdvb2dsZWFwaXMuY29tL2NzbS1kYXRhc2V0L3dlYnNpdGUtc2VhcmNoLzYuaHRtbD4NCj4-DQo-Pg0K'}},\n",
       "   {'partId': '1',\n",
       "    'mimeType': 'text/html',\n",
       "    'filename': '',\n",
       "    'headers': [{'name': 'Content-Type',\n",
       "      'value': 'text/html; charset=\"UTF-8\"'},\n",
       "     {'name': 'Content-Transfer-Encoding', 'value': 'quoted-printable'}],\n",
       "    'body': {'size': 5324,\n",
       "     'data': 'PGRpdiBkaXI9Imx0ciI-aGksIGhvdyBhcmUgeW91PzxiciBjbGVhcj0iYWxsIj48ZGl2PjxkaXYgZGlyPSJsdHIiIGNsYXNzPSJnbWFpbF9zaWduYXR1cmUiIGRhdGEtc21hcnRtYWlsPSJnbWFpbF9zaWduYXR1cmUiPjxkaXYgZGlyPSJsdHIiPjxzcGFuPjxwIGRpcj0ibHRyIiBzdHlsZT0ibGluZS1oZWlnaHQ6MS4zODttYXJnaW4tdG9wOjBwdDttYXJnaW4tYm90dG9tOjBwdCI-PHNwYW4gc3R5bGU9ImNvbG9yOnJnYigzNCwzNCwzNCkiPjxiPjxicj48L2I-PC9zcGFuPjwvcD48cCBkaXI9Imx0ciIgc3R5bGU9ImxpbmUtaGVpZ2h0OjEuMzg7bWFyZ2luLXRvcDowcHQ7bWFyZ2luLWJvdHRvbTowcHQiPjxzcGFuIHN0eWxlPSJjb2xvcjpyZ2IoMzQsMzQsMzQpIj48Yj5SZW5hdG8gTGVpdGU8L2I-PC9zcGFuPjwvcD48cCBzdHlsZT0ibGluZS1oZWlnaHQ6MS4zODttYXJnaW4tdG9wOjBwdDttYXJnaW4tYm90dG9tOjBwdCI-PHNwYW4gc3R5bGU9ImNvbG9yOnJnYigzNCwzNCwzNCkiPlNvbHV0aW9ucyBBcmNoaXRlY3QgLSBNYWNoaW5lIExlYXJuaW5nPC9zcGFuPjwvcD48cCBzdHlsZT0ibGluZS1oZWlnaHQ6MS4zODttYXJnaW4tdG9wOjBwdDttYXJnaW4tYm90dG9tOjBwdCI-PHNwYW4gc3R5bGU9ImNvbG9yOnJnYigzNCwzNCwzNCkiPis1NSAxMSA5NzM2OC44ODY4PC9zcGFuPjwvcD48cCBkaXI9Imx0ciIgc3R5bGU9ImxpbmUtaGVpZ2h0OjEuMzg7bWFyZ2luLXRvcDowcHQ7bWFyZ2luLWJvdHRvbTowcHQiPjwvcD48ZGl2IGRpcj0ibHRyIiBzdHlsZT0ibWFyZ2luLWxlZnQ6MHB0IiBhbGlnbj0ibGVmdCI-PHRhYmxlIHN0eWxlPSJib3JkZXI6bm9uZTtib3JkZXItY29sbGFwc2U6Y29sbGFwc2UiPjxjb2xncm91cD48Y29sIHdpZHRoPSI0ODciPjwvY29sZ3JvdXA-PHRib2R5Pjx0ciBzdHlsZT0iaGVpZ2h0OjBwdCI-PHRkIHN0eWxlPSJ2ZXJ0aWNhbC1hbGlnbjptaWRkbGU7b3ZlcmZsb3c6aGlkZGVuIj48cCBkaXI9Imx0ciIgc3R5bGU9ImxpbmUtaGVpZ2h0OjEuMzg7bWFyZ2luLXRvcDowcHQ7bWFyZ2luLWJvdHRvbTowcHQiPjxzcGFuIHN0eWxlPSJmb250LXNpemU6MTBwdDtmb250LWZhbWlseTpBcmlhbDtiYWNrZ3JvdW5kLWNvbG9yOnRyYW5zcGFyZW50O3ZlcnRpY2FsLWFsaWduOmJhc2VsaW5lO3doaXRlLXNwYWNlOnByZS13cmFwIj48YnI-PC9zcGFuPjwvcD48cCBkaXI9Imx0ciIgc3R5bGU9ImxpbmUtaGVpZ2h0OjEuMzg7bWFyZ2luLXRvcDowcHQ7bWFyZ2luLWJvdHRvbTowcHQiPjxzcGFuIHN0eWxlPSJmb250LXNpemU6MTBwdDtmb250LWZhbWlseTpBcmlhbDtjb2xvcjpyZ2IoODEsNDUsMTY4KTtiYWNrZ3JvdW5kLWNvbG9yOnRyYW5zcGFyZW50O3ZlcnRpY2FsLWFsaWduOmJhc2VsaW5lO3doaXRlLXNwYWNlOnByZS13cmFwIj48c3BhbiBzdHlsZT0iYm9yZGVyOm5vbmU7ZGlzcGxheTppbmxpbmUtYmxvY2s7b3ZlcmZsb3c6aGlkZGVuO3dpZHRoOjEwOHB4O2hlaWdodDoyNnB4Ij48aW1nIHNyYz0iaHR0cHM6Ly9saDMuZ29vZ2xldXNlcmNvbnRlbnQuY29tL1ZsU0gyZFN3bVVCVDhfblFiNHlWeEFhd0VMbFVzMzlyc0RYX1AtYzIxaDdKclNhRDVvYTNReWlNOVZUUm1zQ01zT1Vzd2JsNEhkM25iVUxTZENkQWlCaEs2R0t4cl9TY2tYM2doTWxiY2RqdTB2YVJyTC16N2VEM2R4RGltRmc0VHA3Y2kxeVpmQSIgd2lkdGg9IjEwOCIgaGVpZ2h0PSIyNiIgc3R5bGU9Im1hcmdpbi1sZWZ0OjBweDttYXJnaW4tdG9wOjBweCI-PC9zcGFuPjwvc3Bhbj48L3A-PC90ZD48L3RyPjwvdGJvZHk-PC90YWJsZT48L2Rpdj48cCBkaXI9Imx0ciIgc3R5bGU9ImxpbmUtaGVpZ2h0OjEuMzg7bWFyZ2luLXRvcDowcHQ7bWFyZ2luLWJvdHRvbTowcHQiPjxicj48L3A-PC9zcGFuPjwvZGl2PjwvZGl2PjwvZGl2Pjxicj48L2Rpdj48YnI-PGRpdiBjbGFzcz0iZ21haWxfcXVvdGUiPjxkaXYgZGlyPSJsdHIiIGNsYXNzPSJnbWFpbF9hdHRyIj5PbiBGcmksIE9jdCAyNywgMjAyMyBhdCAxMToxM-KAr0FNIFJlbmF0byBMZWl0ZSAmbHQ7PGEgaHJlZj0ibWFpbHRvOnJlbmF0b2xlaXRlQGdvb2dsZS5jb20iPnJlbmF0b2xlaXRlQGdvb2dsZS5jb208L2E-Jmd0OyB3cm90ZTo8YnI-PC9kaXY-PGJsb2NrcXVvdGUgY2xhc3M9ImdtYWlsX3F1b3RlIiBzdHlsZT0ibWFyZ2luOjBweCAwcHggMHB4IDAuOGV4O2JvcmRlci1sZWZ0OjFweCBzb2xpZCByZ2IoMjA0LDIwNCwyMDQpO3BhZGRpbmctbGVmdDoxZXgiPjxkaXYgZGlyPSJsdHIiPkFyZSB0aGV5IG1hZGUgb2Ygbnlsb24_PGJyIGNsZWFyPSJhbGwiPjxkaXY-PGRpdiBkaXI9Imx0ciIgY2xhc3M9ImdtYWlsX3NpZ25hdHVyZSI-PGRpdiBkaXI9Imx0ciI-PHNwYW4-PHAgZGlyPSJsdHIiIHN0eWxlPSJsaW5lLWhlaWdodDoxLjM4O21hcmdpbi10b3A6MHB0O21hcmdpbi1ib3R0b206MHB0Ij48c3BhbiBzdHlsZT0iY29sb3I6cmdiKDM0LDM0LDM0KSI-PGI-PGJyPjwvYj48L3NwYW4-PC9wPjxwIGRpcj0ibHRyIiBzdHlsZT0ibGluZS1oZWlnaHQ6MS4zODttYXJnaW4tdG9wOjBwdDttYXJnaW4tYm90dG9tOjBwdCI-PHNwYW4gc3R5bGU9ImNvbG9yOnJnYigzNCwzNCwzNCkiPjxiPlJlbmF0byBMZWl0ZTwvYj48L3NwYW4-PC9wPjxwIHN0eWxlPSJsaW5lLWhlaWdodDoxLjM4O21hcmdpbi10b3A6MHB0O21hcmdpbi1ib3R0b206MHB0Ij48c3BhbiBzdHlsZT0iY29sb3I6cmdiKDM0LDM0LDM0KSI-U29sdXRpb25zIEFyY2hpdGVjdCAtIE1hY2hpbmUgTGVhcm5pbmc8L3NwYW4-PC9wPjxwIHN0eWxlPSJsaW5lLWhlaWdodDoxLjM4O21hcmdpbi10b3A6MHB0O21hcmdpbi1ib3R0b206MHB0Ij48c3BhbiBzdHlsZT0iY29sb3I6cmdiKDM0LDM0LDM0KSI-PGEgaHJlZj0idGVsOigxMSklMjA5NzM2OC04ODY4IiB2YWx1ZT0iKzU1MTE5NzM2ODg4NjgiIHRhcmdldD0iX2JsYW5rIj4rNTUgMTEgOTczNjguODg2ODwvYT48L3NwYW4-PC9wPjxwIGRpcj0ibHRyIiBzdHlsZT0ibGluZS1oZWlnaHQ6MS4zODttYXJnaW4tdG9wOjBwdDttYXJnaW4tYm90dG9tOjBwdCI-PC9wPjxkaXYgZGlyPSJsdHIiIHN0eWxlPSJtYXJnaW4tbGVmdDowcHQiIGFsaWduPSJsZWZ0Ij48dGFibGUgc3R5bGU9ImJvcmRlcjpub25lO2JvcmRlci1jb2xsYXBzZTpjb2xsYXBzZSI-PGNvbGdyb3VwPjxjb2wgd2lkdGg9IjQ4NyI-PC9jb2xncm91cD48dGJvZHk-PHRyIHN0eWxlPSJoZWlnaHQ6MHB0Ij48dGQgc3R5bGU9InZlcnRpY2FsLWFsaWduOm1pZGRsZTtvdmVyZmxvdzpoaWRkZW4iPjxwIGRpcj0ibHRyIiBzdHlsZT0ibGluZS1oZWlnaHQ6MS4zODttYXJnaW4tdG9wOjBwdDttYXJnaW4tYm90dG9tOjBwdCI-PHNwYW4gc3R5bGU9ImZvbnQtc2l6ZToxMHB0O2ZvbnQtZmFtaWx5OkFyaWFsO2JhY2tncm91bmQtY29sb3I6dHJhbnNwYXJlbnQ7dmVydGljYWwtYWxpZ246YmFzZWxpbmU7d2hpdGUtc3BhY2U6cHJlLXdyYXAiPjxicj48L3NwYW4-PC9wPjxwIGRpcj0ibHRyIiBzdHlsZT0ibGluZS1oZWlnaHQ6MS4zODttYXJnaW4tdG9wOjBwdDttYXJnaW4tYm90dG9tOjBwdCI-PHNwYW4gc3R5bGU9ImZvbnQtc2l6ZToxMHB0O2ZvbnQtZmFtaWx5OkFyaWFsO2NvbG9yOnJnYig4MSw0NSwxNjgpO2JhY2tncm91bmQtY29sb3I6dHJhbnNwYXJlbnQ7dmVydGljYWwtYWxpZ246YmFzZWxpbmU7d2hpdGUtc3BhY2U6cHJlLXdyYXAiPjxzcGFuIHN0eWxlPSJib3JkZXI6bm9uZTtkaXNwbGF5OmlubGluZS1ibG9jaztvdmVyZmxvdzpoaWRkZW47d2lkdGg6MTA4cHg7aGVpZ2h0OjI2cHgiPjxpbWcgc3JjPSJodHRwczovL2xoMy5nb29nbGV1c2VyY29udGVudC5jb20vVmxTSDJkU3dtVUJUOF9uUWI0eVZ4QWF3RUxsVXMzOXJzRFhfUC1jMjFoN0pyU2FENW9hM1F5aU05VlRSbXNDTXNPVXN3Ymw0SGQzbmJVTFNkQ2RBaUJoSzZHS3hyX1Nja1gzZ2hNbGJjZGp1MHZhUnJMLXo3ZUQzZHhEaW1GZzRUcDdjaTF5WmZBIiB3aWR0aD0iMTA4IiBoZWlnaHQ9IjI2IiBzdHlsZT0ibWFyZ2luLWxlZnQ6IDBweDsgbWFyZ2luLXRvcDogMHB4OyI-PC9zcGFuPjwvc3Bhbj48L3A-PC90ZD48L3RyPjwvdGJvZHk-PC90YWJsZT48L2Rpdj48cCBkaXI9Imx0ciIgc3R5bGU9ImxpbmUtaGVpZ2h0OjEuMzg7bWFyZ2luLXRvcDowcHQ7bWFyZ2luLWJvdHRvbTowcHQiPjxicj48L3A-PC9zcGFuPjwvZGl2PjwvZGl2PjwvZGl2Pjxicj48L2Rpdj48YnI-PGRpdiBjbGFzcz0iZ21haWxfcXVvdGUiPjxkaXYgZGlyPSJsdHIiIGNsYXNzPSJnbWFpbF9hdHRyIj5PbiBGcmksIE9jdCAyNywgMjAyMyBhdCAxMToxM-KAr0FNICZsdDs8YSBocmVmPSJtYWlsdG86cmVuYXRvbGVpdGVAMTk4Nzk4NDg3MDQwNy5hbHRvc3RyYXQuY29tIiB0YXJnZXQ9Il9ibGFuayI-cmVuYXRvbGVpdGVAMTk4Nzk4NDg3MDQwNy5hbHRvc3RyYXQuY29tPC9hPiZndDsgd3JvdGU6PGJyPjwvZGl2PjxibG9ja3F1b3RlIGNsYXNzPSJnbWFpbF9xdW90ZSIgc3R5bGU9Im1hcmdpbjowcHggMHB4IDBweCAwLjhleDtib3JkZXItbGVmdDoxcHggc29saWQgcmdiKDIwNCwyMDQsMjA0KTtwYWRkaW5nLWxlZnQ6MWV4Ij48ZGl2PjxwPkRlYXIgQ3VzdG9tZXIgUmVuYXRvIExlaXRlLDwvcD48cD5UaGFuayB5b3UgZm9yIGNvbnRhY3RpbmcgdGhlIHN1cHBvcnQgdGVhbS48L3A-PHA-V2UgaWRlbnRpZmllZCBzb21lIHF1ZXN0aW9ucyBpbiB5b3VyIGVtYWlsLiBXZSBob3BlIHRoZSBmb2xsb3dpbmcgYW5zd2VycyBjYW4gYmUgb2YgaGVscCB0byB5b3U6PC9wPjxwPjxiPlF1ZXN0aW9uOiA8L2I-QXJlIGdhbWluZyBjaGFpcnMgZXJnb25vbWljPzwvcD48cD48Yj5BbnN3ZXI6IDwvYj5Tb21lIGdhbWluZyBjaGFpcnMgYXJlIGVyZ29ub21pY2FsbHkgZGVzaWduZWQgdG8gc3VwcG9ydCB5b3VyIGJhY2sgYW5kIHJlZHVjZSBmYXRpZ3VlIFsyXS4gVGhleSBoYXZlIGEgd2lkZSwgbXVzY2xlLXNoYXBlZCBiYWNrIHRoYXQgc3VwcG9ydHMgeW91ciBiYWNrIHdpdGggbXVsdGlwbGUgZnVsY3J1bXMgWzJdLiBUaGUgYmFjayBvZiB0aGVzZSBjaGFpcnMgYWxzbyBoZWxwcyB5b3UgZGV2ZWxvcCBhIGhlYWx0aHkgc2l0dGluZyBwb3N0dXJlIFsxXS48L3A-PG9sPjxsaT48YSBocmVmPSJodHRwczovL3N0b3JhZ2UuZ29vZ2xlYXBpcy5jb20vY3NtLWRhdGFzZXQvd2Vic2l0ZS1zZWFyY2gvNS5odG1sIiB0YXJnZXQ9Il9ibGFuayI-UmVmZXJlbmNlPC9hPjwvbGk-DQo8bGk-PGEgaHJlZj0iaHR0cHM6Ly9zdG9yYWdlLmdvb2dsZWFwaXMuY29tL2NzbS1kYXRhc2V0L3dlYnNpdGUtc2VhcmNoLzYuaHRtbCIgdGFyZ2V0PSJfYmxhbmsiPlJlZmVyZW5jZTwvYT48L2xpPjwvb2w-PC9kaXY-DQo8L2Jsb2NrcXVvdGU-PC9kaXY-DQo8L2Jsb2NrcXVvdGU-PC9kaXY-DQo='}}]},\n",
       " 'sizeEstimate': 12539,\n",
       " 'historyId': '21055',\n",
       " 'internalDate': '1698416763000'}"
      ]
     },
     "execution_count": 9,
     "metadata": {},
     "output_type": "execute_result"
    }
   ],
   "source": [
    "message[\"messages\"][-1]"
   ]
  },
  {
   "cell_type": "code",
   "execution_count": 29,
   "metadata": {},
   "outputs": [],
   "source": [
    "for h in message[\"messages\"][0][\"payload\"][\"headers\"]:\n",
    "    if h[\"name\"] == \"Message-ID\":\n",
    "        message_id = h[\"value\"]"
   ]
  },
  {
   "cell_type": "code",
   "execution_count": 30,
   "metadata": {},
   "outputs": [
    {
     "data": {
      "text/plain": [
       "'<CA+J_hzNqg9BDzYpJ+Df-kk0cQsKhRGJ-1wCWT9fof4U1cq_s=A@mail.gmail.com>'"
      ]
     },
     "execution_count": 30,
     "metadata": {},
     "output_type": "execute_result"
    }
   ],
   "source": [
    "message_id"
   ]
  },
  {
   "cell_type": "markdown",
   "metadata": {},
   "source": [
    "# Send message"
   ]
  },
  {
   "cell_type": "code",
   "execution_count": 46,
   "metadata": {},
   "outputs": [
    {
     "data": {
      "text/plain": [
       "{'id': '18b6dee8318e08e1',\n",
       " 'threadId': '18b6dcf5d66b3cff',\n",
       " 'labelIds': ['SENT']}"
      ]
     },
     "execution_count": 46,
     "metadata": {},
     "output_type": "execute_result"
    }
   ],
   "source": [
    "import base64\n",
    "# message = EmailMessage()\n",
    "\n",
    "email_response = \"\"\"\n",
    "resposta teste 8\n",
    "\"\"\"\n",
    "\n",
    "message = MIMEText(email_response, \"html\")\n",
    "\n",
    "# message.set_content(email_response)\n",
    "\n",
    "message['To'] = \"renatoleite@google.com\"\n",
    "message['In-Reply-To'] = \"<CA+J_hzO1-ZeGkMU3Y4wM7x5oEVEG8ejqMkV0KQK-KcbDhctHVQ@mail.gmail.com>\"\n",
    "message['From'] = 'renatoleite@1987984870407.altostrat.com'\n",
    "message['Subject'] = \"Test 1\"\n",
    "message['References'] = \"<CA+J_hzO1-ZeGkMU3Y4wM7x5oEVEG8ejqMkV0KQK-KcbDhctHVQ@mail.gmail.com>\"\n",
    "\n",
    "# encoded message\n",
    "encoded_message = base64.urlsafe_b64encode(message.as_bytes()).decode()\n",
    "\n",
    "create_message = {\n",
    "    'raw': encoded_message,\n",
    "    'threadId': \"18b6dcf5d66b3cff\"\n",
    "}\n",
    "\n",
    "gmail_services.users().messages().send(\n",
    "    userId=\"renatoleite@1987984870407.altostrat.com\", \n",
    "    body=create_message).execute()"
   ]
  },
  {
   "cell_type": "code",
   "execution_count": null,
   "metadata": {},
   "outputs": [],
   "source": []
  },
  {
   "cell_type": "markdown",
   "metadata": {},
   "source": [
    "# Prompt for email"
   ]
  },
  {
   "cell_type": "code",
   "execution_count": null,
   "metadata": {},
   "outputs": [],
   "source": [
    "conversation = \"\"\"Hi Cymbal Support,\n",
    "I'm interested in purchasing a gaming chair from your store and I have a few questions.\n",
    "First, are your gaming chairs ergonomic? I'm looking for a chair that will support my back and help me avoid pain while gaming.\n",
    "Second, do you have any gaming chairs that are made of nylon? I'm allergic to some synthetic materials and I need to make sure that the chair I choose is safe for me to use.\n",
    "Thanks for your help,\"\"\"\n",
    "\n",
    "prompt_email = \"\"\"<instructions>\n",
    "You have to extract questions that are being asked in the conversation below.\n",
    "Provide the output in the JSON format below.\n",
    "</instructions>\n",
    "<conversation>\n",
    "{}\n",
    "<conversation>\n",
    "<JSONformat>\n",
    "{\n",
    "    \"questions\": [\n",
    "        \"Question 1\",\n",
    "        \"Question 2\",\n",
    "        \"Question 3\",\n",
    "        \"Question 4\",\n",
    "    ]\n",
    "}\n",
    "</JSONformat>\n",
    "<output>\"\"\""
   ]
  },
  {
   "cell_type": "markdown",
   "metadata": {},
   "source": [
    "# Create or retrieve existing conversation"
   ]
  },
  {
   "cell_type": "code",
   "execution_count": null,
   "metadata": {},
   "outputs": [],
   "source": [
    "from google.cloud import discoveryengine_v1beta as discoveryengine\n",
    "import tomllib\n",
    "\n",
    "with open(\"config.toml\", \"rb\") as f:\n",
    "    config = tomllib.load(f)"
   ]
  },
  {
   "cell_type": "code",
   "execution_count": null,
   "metadata": {},
   "outputs": [],
   "source": [
    "email_datastore_id = config[\"salesforce\"][\"email_datastore_id\"]"
   ]
  },
  {
   "cell_type": "code",
   "execution_count": null,
   "metadata": {},
   "outputs": [],
   "source": [
    "converse_client = discoveryengine.ConversationalSearchServiceClient()"
   ]
  },
  {
   "cell_type": "code",
   "execution_count": null,
   "metadata": {},
   "outputs": [],
   "source": [
    "converse_client.list_conversations(\n",
    "    discoveryengine.ListConversationsRequest(\n",
    "        parent = f\"projects/rl-llm-dev/locations/global/collections/default_collection/dataStores/{email_datastore_id}\"\n",
    "    )\n",
    ")"
   ]
  },
  {
   "cell_type": "code",
   "execution_count": null,
   "metadata": {},
   "outputs": [],
   "source": []
  }
 ],
 "metadata": {
  "kernelspec": {
   "display_name": "genai-marketing",
   "language": "python",
   "name": "python3"
  },
  "language_info": {
   "codemirror_mode": {
    "name": "ipython",
    "version": 3
   },
   "file_extension": ".py",
   "mimetype": "text/x-python",
   "name": "python",
   "nbconvert_exporter": "python",
   "pygments_lexer": "ipython3",
   "version": "3.11.5"
  }
 },
 "nbformat": 4,
 "nbformat_minor": 2
}
