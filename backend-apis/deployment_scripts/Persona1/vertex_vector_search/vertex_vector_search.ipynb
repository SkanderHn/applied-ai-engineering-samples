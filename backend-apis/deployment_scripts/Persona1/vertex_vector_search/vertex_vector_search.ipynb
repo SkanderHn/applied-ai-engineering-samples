{
 "cells": [
  {
   "cell_type": "code",
   "execution_count": 2,
   "metadata": {},
   "outputs": [],
   "source": [
    "import base64\n",
    "from google.cloud import aiplatform\n",
    "from google.protobuf import struct_pb2\n",
    "import typing\n",
    "import numpy as np"
   ]
  },
  {
   "cell_type": "markdown",
   "metadata": {},
   "source": [
    "# Prepare dataset"
   ]
  },
  {
   "cell_type": "code",
   "execution_count": 3,
   "metadata": {},
   "outputs": [],
   "source": [
    "class EmbeddingResponse(typing.NamedTuple):\n",
    "    text_embedding: typing.Sequence[float]\n",
    "    image_embedding: typing.Sequence[float]\n",
    "\n",
    "class EmbeddingPredictionClient:\n",
    "    \"\"\"Wrapper around Prediction Service Client.\"\"\"\n",
    "    def __init__(self, project : str,\n",
    "        location : str = \"us-central1\",\n",
    "        api_regional_endpoint: str = \"us-central1-aiplatform.googleapis.com\"):\n",
    "        client_options = {\"api_endpoint\": api_regional_endpoint}\n",
    "        # Initialize client that will be used to create and send requests.\n",
    "        # This client only needs to be created once, and can be reused for multiple requests.\n",
    "        self.client = aiplatform.gapic.PredictionServiceClient(client_options=client_options)  \n",
    "        self.location = location\n",
    "        self.project = project\n",
    "\n",
    "    def get_embedding(self, text : str = None, image_bytes : bytes = None):\n",
    "        if not text and not image_bytes:\n",
    "            raise ValueError('At least one of text or image_bytes must be specified.')\n",
    "\n",
    "        instance = struct_pb2.Struct()\n",
    "        if text:\n",
    "            instance.fields['text'].string_value = text\n",
    "\n",
    "        if image_bytes:\n",
    "            encoded_content = base64.b64encode(image_bytes).decode(\"utf-8\")\n",
    "            image_struct = instance.fields['image'].struct_value\n",
    "            image_struct.fields['bytesBase64Encoded'].string_value = encoded_content\n",
    "\n",
    "        instances = [instance]\n",
    "        endpoint = (f\"projects/{self.project}/locations/{self.location}\"\n",
    "            \"/publishers/google/models/multimodalembedding@001\")\n",
    "        response = self.client.predict(endpoint=endpoint, instances=instances)\n",
    "\n",
    "        text_embedding = None\n",
    "        if text:    \n",
    "            text_emb_value = response.predictions[0]['textEmbedding']\n",
    "            text_embedding = [v for v in text_emb_value]\n",
    "\n",
    "        image_embedding = None\n",
    "        if image_bytes:    \n",
    "            image_emb_value = response.predictions[0]['imageEmbedding']\n",
    "            image_embedding = [v for v in image_emb_value]\n",
    "\n",
    "        return EmbeddingResponse(\n",
    "            text_embedding=text_embedding,\n",
    "            image_embedding=image_embedding)"
   ]
  },
  {
   "cell_type": "code",
   "execution_count": 4,
   "metadata": {},
   "outputs": [],
   "source": [
    "def reduce_embedding_dimesion(\n",
    "        vector_text: list = [],\n",
    "        vector_image: list = [],\n",
    "):\n",
    "    if vector_image and vector_text:\n",
    "        matrix = np.array([vector_text, vector_image])\n",
    "        max_pooled_rows = np.sum(matrix, axis=0)\n",
    "    else:\n",
    "        max_pooled_rows = np.array(vector_text or vector_image)\n",
    "\n",
    "    return list(max_pooled_rows)"
   ]
  },
  {
   "cell_type": "code",
   "execution_count": 5,
   "metadata": {},
   "outputs": [],
   "source": [
    "embeddings_client = EmbeddingPredictionClient(project=\"rl-llm-dev\")"
   ]
  },
  {
   "cell_type": "code",
   "execution_count": 6,
   "metadata": {},
   "outputs": [],
   "source": [
    "def image_text_to_embedding(text = \"\", image_path = \"\") -> list:\n",
    "    image_contents = \"\"\n",
    "    if image_path:\n",
    "        with open(image_path, \"rb\") as f:\n",
    "            image_contents = f.read()\n",
    "\n",
    "    response = embeddings_client.get_embedding(\n",
    "        text=text,\n",
    "        image_bytes=image_contents)\n",
    "\n",
    "    reduced_vector = reduce_embedding_dimesion(\n",
    "        vector_image=response.image_embedding,\n",
    "        vector_text=response.text_embedding)\n",
    "\n",
    "    return reduced_vector"
   ]
  },
  {
   "cell_type": "markdown",
   "metadata": {},
   "source": [
    "# Prepare data for index"
   ]
  },
  {
   "cell_type": "code",
   "execution_count": 5,
   "metadata": {},
   "outputs": [],
   "source": [
    "import pandas as pd\n",
    "input_file = pd.read_excel(\"csm-dataset-update.xlsx\")"
   ]
  },
  {
   "cell_type": "code",
   "execution_count": 9,
   "metadata": {},
   "outputs": [],
   "source": [
    "metadata = []\n",
    "\n",
    "for i in range(10):\n",
    "    title = input_file.title[i]\n",
    "    id = input_file.id[i]\n",
    "    link = input_file.link[i]\n",
    "\n",
    "    with open(f\"image_0{i}.jpg\", \"rb\") as f:\n",
    "        image_contents = f.read()\n",
    "        response = embeddings_client.get_embedding(\n",
    "            text=title,\n",
    "            image_bytes=image_contents)\n",
    "\n",
    "    reduced_vector = reduce_embedding_dimesion(\n",
    "        vector_image=response.image_embedding,\n",
    "        vector_text=response.text_embedding\n",
    "    )\n",
    "\n",
    "    metadata.append(\n",
    "        {\n",
    "            \"id\": id, \n",
    "            \"embedding\": reduced_vector,\n",
    "            \"restricts\": [\n",
    "                {\n",
    "                    \"namespace\": \"id\",\n",
    "                    \"allow\": [id]\n",
    "                },\n",
    "                {\n",
    "                    \"namespace\": \"link\",\n",
    "                    \"allow\": [link]\n",
    "                },\n",
    "            ]\n",
    "        }\n",
    "    )"
   ]
  },
  {
   "cell_type": "code",
   "execution_count": 11,
   "metadata": {},
   "outputs": [],
   "source": [
    "import json\n",
    "\n",
    "with open(\"metadata.json\", \"w\") as f:\n",
    "    for m in metadata:\n",
    "        f.write(json.dumps(m))\n",
    "        f.write(\"\\n\")"
   ]
  },
  {
   "cell_type": "code",
   "execution_count": 13,
   "metadata": {},
   "outputs": [
    {
     "name": "stdout",
     "output_type": "stream",
     "text": [
      "Copying file://metadata.json [Content-Type=application/json]...\n",
      "/ [1 files][244.8 KiB/244.8 KiB]                                                \n",
      "Operation completed over 1 objects/244.8 KiB.                                    \n"
     ]
    }
   ],
   "source": [
    "! gsutil cp metadata.json gs://csm-dataset/vertex-vector-search/metadata.json"
   ]
  },
  {
   "cell_type": "markdown",
   "metadata": {},
   "source": [
    "# Create Search Index"
   ]
  },
  {
   "cell_type": "code",
   "execution_count": null,
   "metadata": {},
   "outputs": [],
   "source": [
    "from google.cloud import aiplatform_v1"
   ]
  },
  {
   "cell_type": "code",
   "execution_count": null,
   "metadata": {},
   "outputs": [],
   "source": [
    "DISPLAY_NAME = \"test_sdk\"\n",
    "DESCRIPTION = \"CSM Multimodal Search\"\n",
    "LOCATION = \"us-central1\"\n",
    "\n",
    "EMBEDDINGS_INITIAL_URI = \"gs://csm-dataset/vertex-vector-search/\"\n",
    "DIMENSIONS = 1408\n",
    "\n",
    "PROJECT_ID = \"rl-llm-dev\"\n",
    "REGION = \"us-central1\"\n",
    "BUCKET_URI = \"gs://csm-dataset/vertex-staging-data\""
   ]
  },
  {
   "cell_type": "code",
   "execution_count": null,
   "metadata": {},
   "outputs": [],
   "source": [
    "index_client = aiplatform_v1.IndexServiceClient()"
   ]
  },
  {
   "cell_type": "code",
   "execution_count": null,
   "metadata": {},
   "outputs": [],
   "source": [
    "metadata = {\n",
    "    \"contentsDeltaUri\": EMBEDDINGS_INITIAL_URI,\n",
    "    \"config\":{\n",
    "        \"dimensions\": DIMENSIONS,\n",
    "        \"approximateNeighborsCount\": 150,\n",
    "        \"distanceMeasureType\": \"DOT_PRODUCT_DISTANCE\",\n",
    "        \"featureNormType\": \"UNIT_L2_NORM\",\n",
    "        \"algorithmConfig\": {\n",
    "            \"treeAhConfig\": {\n",
    "                \"leafNodeEmbeddingCount\": 10000, \n",
    "                \"leafNodesToSearchPercent\": 5}\n",
    "            }\n",
    "    }\n",
    "}\n",
    "\n",
    "metadata_schema_uri = \"gs://google-cloud-aiplatform/schema/matchingengine/metadata/nearest_neighbor_search_1.0.0.yaml\"\n",
    "\n",
    "index = aiplatform_v1.Index(\n",
    "    display_name = DISPLAY_NAME,\n",
    "    description = DESCRIPTION,\n",
    "    metadata_schema_uri = metadata_schema_uri,\n",
    "    metadata = metadata,\n",
    "    index_update_method = \"STREAM_UPDATE\"\n",
    ")\n",
    "\n",
    "create_index_request = aiplatform_v1.CreateIndexRequest(\n",
    "    parent=f\"projects/{PROJECT_ID}/locations/{LOCATION}\",\n",
    "    index=index\n",
    ")"
   ]
  },
  {
   "cell_type": "code",
   "execution_count": null,
   "metadata": {},
   "outputs": [],
   "source": [
    "index_client.create_index(request=create_index_request)"
   ]
  },
  {
   "cell_type": "markdown",
   "metadata": {},
   "source": [
    "# Using cURL"
   ]
  },
  {
   "cell_type": "code",
   "execution_count": 14,
   "metadata": {},
   "outputs": [],
   "source": [
    "DISPLAY_NAME = \"csm-multimodal-search\"\n",
    "DESCRIPTION = \"CSM Multimodal Search\"\n",
    "LOCATION = \"us-central1\"\n",
    "\n",
    "EMBEDDINGS_INITIAL_URI = \"csm-dataset/vertex-vector-search/\"\n",
    "DIMENSIONS = 1408\n",
    "PROJECT_ID = \"rl-llm-dev\"\n",
    "REGION = \"us-central1\"\n",
    "BUCKET_URI = \"gs://csm-dataset/vertex-staging-data\"\n",
    "\n",
    "metadata_schema_uri = \"gs://google-cloud-aiplatform/schema/matchingengine/metadata/nearest_neighbor_search_1.0.0.yaml\""
   ]
  },
  {
   "cell_type": "markdown",
   "metadata": {},
   "source": [
    "### Create the Index with streaming insert"
   ]
  },
  {
   "cell_type": "code",
   "execution_count": 15,
   "metadata": {},
   "outputs": [
    {
     "name": "stdout",
     "output_type": "stream",
     "text": [
      "Writing index_request.json\n"
     ]
    }
   ],
   "source": [
    "%%writefile index_request.json\n",
    "{\n",
    "    \"displayName\": \"csm-multimodal-vector-search\",\n",
    "    \"description\": \"CSM Multimodal Vector Search\",\n",
    "    \"metadataSchemaUri\": \"gs://google-cloud-aiplatform/schema/matchingengine/metadata/nearest_neighbor_search_1.0.0.yaml\",\n",
    "    \"metadata\": {\n",
    "        \"contentsDeltaUri\": \"gs://csm-solution-dataset/metadata/vector_metadata.json\",\n",
    "        \"config\":{\n",
    "            \"dimensions\": 1408,\n",
    "            \"approximateNeighborsCount\": 150,\n",
    "            \"distanceMeasureType\": \"DOT_PRODUCT_DISTANCE\",\n",
    "            \"featureNormType\": \"UNIT_L2_NORM\",\n",
    "            \"algorithmConfig\": {\n",
    "                \"treeAhConfig\": {\n",
    "                    \"leafNodeEmbeddingCount\": 10000, \n",
    "                    \"leafNodesToSearchPercent\": 10\n",
    "                }\n",
    "            }\n",
    "        }\n",
    "    },\n",
    "    \"indexUpdateMethod\": \"STREAM_UPDATE\",\n",
    "}"
   ]
  },
  {
   "cell_type": "code",
   "execution_count": 16,
   "metadata": {},
   "outputs": [
    {
     "name": "stdout",
     "output_type": "stream",
     "text": [
      "{\n",
      "  \"name\": \"projects/244831775715/locations/us-central1/indexes/7799676002698788864/operations/6470551643707408384\",\n",
      "  \"metadata\": {\n",
      "    \"@type\": \"type.googleapis.com/google.cloud.aiplatform.v1.CreateIndexOperationMetadata\",\n",
      "    \"genericMetadata\": {\n",
      "      \"createTime\": \"2023-10-20T17:37:51.072438Z\",\n",
      "      \"updateTime\": \"2023-10-20T17:37:51.072438Z\"\n",
      "    }\n",
      "  }\n",
      "}\n"
     ]
    }
   ],
   "source": [
    "! curl -X POST \\\n",
    "-H \"Authorization: Bearer $(gcloud auth print-access-token)\" \\\n",
    "-H \"Content-Type: application/json; charset=utf-8\" \\\n",
    "\"https://us-central1-aiplatform.googleapis.com/v1/projects/rl-llm-dev/locations/us-central1/indexes\" \\\n",
    "-d @index_request.json"
   ]
  },
  {
   "cell_type": "markdown",
   "metadata": {},
   "source": [
    "# List Indexes"
   ]
  },
  {
   "cell_type": "code",
   "execution_count": 17,
   "metadata": {},
   "outputs": [
    {
     "name": "stdout",
     "output_type": "stream",
     "text": [
      "{\n",
      "  \"indexes\": [\n",
      "    {\n",
      "      \"name\": \"projects/244831775715/locations/us-central1/indexes/7799676002698788864\",\n",
      "      \"displayName\": \"csm-multimodal-search\",\n",
      "      \"description\": \"CSM Multimodal Search\",\n",
      "      \"metadataSchemaUri\": \"gs://google-cloud-aiplatform/schema/matchingengine/metadata/nearest_neighbor_search_1.0.0.yaml\",\n",
      "      \"metadata\": {\n",
      "        \"config\": {\n",
      "          \"dimensions\": 1408,\n",
      "          \"approximateNeighborsCount\": 150,\n",
      "          \"distanceMeasureType\": \"DOT_PRODUCT_DISTANCE\",\n",
      "          \"featureNormType\": \"UNIT_L2_NORM\",\n",
      "          \"algorithmConfig\": {\n",
      "            \"treeAhConfig\": {\n",
      "              \"leafNodeEmbeddingCount\": \"10000\",\n",
      "              \"leafNodesToSearchPercent\": 10\n",
      "            }\n",
      "          },\n",
      "          \"shardSize\": \"SHARD_SIZE_MEDIUM\"\n",
      "        }\n",
      "      },\n",
      "      \"deployedIndexes\": [\n",
      "        {\n",
      "          \"indexEndpoint\": \"projects/244831775715/locations/us-central1/indexEndpoints/6972983996099592192\",\n",
      "          \"deployedIndexId\": \"csm_deploy_1697828519567\"\n",
      "        }\n",
      "      ],\n",
      "      \"etag\": \"AMEw9yO0xx8018dW9YcwlVsIsoMD11Oh489WvTgFkMoA7Q8BxDJRHTlh1hILcM5NFJc3\",\n",
      "      \"createTime\": \"2023-10-20T17:37:51.072438Z\",\n",
      "      \"updateTime\": \"2023-10-20T18:25:54.654297Z\",\n",
      "      \"indexStats\": {\n",
      "        \"vectorsCount\": \"10\",\n",
      "        \"shardsCount\": 1\n",
      "      },\n",
      "      \"indexUpdateMethod\": \"STREAM_UPDATE\",\n",
      "      \"encryptionSpec\": {}\n",
      "    }\n",
      "  ]\n",
      "}\n"
     ]
    }
   ],
   "source": [
    "! curl -X GET \\\n",
    "    -H \"Authorization: Bearer $(gcloud auth print-access-token)\" \\\n",
    "    \"https://us-central1-aiplatform.googleapis.com/v1/projects/rl-llm-dev/locations/us-central1/indexes\""
   ]
  },
  {
   "cell_type": "code",
   "execution_count": 18,
   "metadata": {},
   "outputs": [
    {
     "name": "stdout",
     "output_type": "stream",
     "text": [
      "{\n",
      "  \"indexEndpoints\": [\n",
      "    {\n",
      "      \"name\": \"projects/244831775715/locations/us-central1/indexEndpoints/6972983996099592192\",\n",
      "      \"displayName\": \"csm-endpoint\",\n",
      "      \"deployedIndexes\": [\n",
      "        {\n",
      "          \"id\": \"csm_deploy_1697828519567\",\n",
      "          \"index\": \"projects/244831775715/locations/us-central1/indexes/7799676002698788864\",\n",
      "          \"displayName\": \"csm-deploy\",\n",
      "          \"createTime\": \"2023-10-20T19:02:09.689210Z\",\n",
      "          \"indexSyncTime\": \"2023-10-20T19:44:24.578774Z\",\n",
      "          \"deploymentGroup\": \"default\",\n",
      "          \"dedicatedResources\": {\n",
      "            \"machineSpec\": {\n",
      "              \"machineType\": \"e2-standard-16\"\n",
      "            },\n",
      "            \"minReplicaCount\": 2,\n",
      "            \"maxReplicaCount\": 2\n",
      "          }\n",
      "        }\n",
      "      ],\n",
      "      \"etag\": \"AMEw9yOVIlylxjsZLj39YbyzbrHRhe6xszSKmChzkXFNvnuGgfZQCBUqR2tFpq4j4t9c\",\n",
      "      \"createTime\": \"2023-10-20T19:01:40.824700Z\",\n",
      "      \"updateTime\": \"2023-10-20T19:01:41.533211Z\",\n",
      "      \"publicEndpointDomainName\": \"1236044824.us-central1-244831775715.vdb.vertexai.goog\",\n",
      "      \"encryptionSpec\": {}\n",
      "    }\n",
      "  ]\n",
      "}\n"
     ]
    }
   ],
   "source": [
    "! curl -X GET \\\n",
    "    -H \"Authorization: Bearer $(gcloud auth print-access-token)\" \\\n",
    "    \"https://us-central1-aiplatform.googleapis.com/v1/projects/rl-llm-dev/locations/us-central1/indexEndpoints\""
   ]
  },
  {
   "cell_type": "markdown",
   "metadata": {},
   "source": [
    "# Query"
   ]
  },
  {
   "cell_type": "code",
   "execution_count": 1,
   "metadata": {},
   "outputs": [],
   "source": [
    "from google.cloud import aiplatform_v1\n",
    "\n",
    "client_options = {\n",
    "    \"api_endpoint\": \"1236044824.us-central1-244831775715.vdb.vertexai.goog\"\n",
    "}\n",
    "\n",
    "index_endpoint_id = \"6972983996099592192\"\n",
    "deployed_index_id = \"csm_deploy_1697828519567\"\n",
    "match_client = aiplatform_v1.MatchServiceClient(client_options=client_options)"
   ]
  },
  {
   "cell_type": "code",
   "execution_count": 7,
   "metadata": {},
   "outputs": [],
   "source": [
    "def find_neighbor(\n",
    "    project_id: str,\n",
    "    index_endpoint_id: str,\n",
    "    deployed_index_id: str,\n",
    "    feature_vector: list,\n",
    "    datapoint_id: str = \"0\",\n",
    "    neighbor_count: int = 10\n",
    "):\n",
    "    request = aiplatform_v1.FindNeighborsRequest(\n",
    "        index_endpoint = f\"projects/{project_id}/locations/us-central1/\" \\\n",
    "                         f\"indexEndpoints/{index_endpoint_id}\",\n",
    "        deployed_index_id = deployed_index_id,\n",
    "        return_full_datapoint=True\n",
    "    )\n",
    "\n",
    "    query = aiplatform_v1.FindNeighborsRequest.Query(\n",
    "        datapoint = aiplatform_v1.IndexDatapoint(\n",
    "            datapoint_id=datapoint_id,\n",
    "            feature_vector=feature_vector\n",
    "        ),\n",
    "        neighbor_count = neighbor_count\n",
    "    )\n",
    "\n",
    "    request.queries.append(query)\n",
    "    return match_client.find_neighbors(request)"
   ]
  },
  {
   "cell_type": "code",
   "execution_count": 12,
   "metadata": {},
   "outputs": [],
   "source": [
    "feature_vector = image_text_to_embedding(\n",
    "    # text=\"keyboard\",\n",
    "    image_path=\"image_02.jpg\"\n",
    ")"
   ]
  },
  {
   "cell_type": "code",
   "execution_count": 13,
   "metadata": {},
   "outputs": [],
   "source": [
    "response = find_neighbor(\n",
    "    project_id=\"rl-llm-dev\",\n",
    "    index_endpoint_id=index_endpoint_id,\n",
    "    deployed_index_id=deployed_index_id,\n",
    "    feature_vector=feature_vector\n",
    ")"
   ]
  },
  {
   "cell_type": "code",
   "execution_count": 14,
   "metadata": {},
   "outputs": [
    {
     "data": {
      "text/plain": [
       "0"
      ]
     },
     "execution_count": 14,
     "metadata": {},
     "output_type": "execute_result"
    }
   ],
   "source": [
    "len(response.nearest_neighbors[0].neighbors)"
   ]
  },
  {
   "cell_type": "code",
   "execution_count": 15,
   "metadata": {},
   "outputs": [],
   "source": [
    "for n in response.nearest_neighbors[0].neighbors:\n",
    "    result = {\n",
    "        \"id\": n.datapoint.restricts[0].allow_list[0],\n",
    "        \"link\": n.datapoint.restricts[1].allow_list[0]}\n",
    "    print(result)\n",
    "    break"
   ]
  },
  {
   "cell_type": "markdown",
   "metadata": {},
   "source": [
    "# Delete Datapoints"
   ]
  },
  {
   "cell_type": "code",
   "execution_count": null,
   "metadata": {},
   "outputs": [],
   "source": [
    "import pandas as pd\n",
    "input_file = pd.read_excel(\"csm-dataset-update.xlsx\")"
   ]
  },
  {
   "cell_type": "code",
   "execution_count": null,
   "metadata": {},
   "outputs": [],
   "source": [
    "metadata = []\n",
    "\n",
    "for i in range(10):\n",
    "    title = input_file.title[i]\n",
    "    id = input_file.id[i]\n",
    "    link = input_file.link[i]\n",
    "\n",
    "    with open(f\"image_0{i}.jpg\", \"rb\") as f:\n",
    "        image_contents = f.read()\n",
    "        response = embeddings_client.get_embedding(\n",
    "            text=title,\n",
    "            image_bytes=image_contents)\n",
    "\n",
    "    reduced_vector = reduce_embedding_dimesion(\n",
    "        vector_image=response.image_embedding,\n",
    "        vector_text=response.text_embedding\n",
    "    )\n",
    "\n",
    "    metadata.append(\n",
    "        {\n",
    "            \"id\": id, \n",
    "            \"embedding\": reduced_vector,\n",
    "            \"restricts\": [\n",
    "                {\n",
    "                    \"namespace\": \"id\",\n",
    "                    \"allow\": [id]\n",
    "                },\n",
    "                {\n",
    "                    \"namespace\": \"link\",\n",
    "                    \"allow\": [link]\n",
    "                },\n",
    "            ]\n",
    "        }\n",
    "    )"
   ]
  },
  {
   "cell_type": "code",
   "execution_count": null,
   "metadata": {},
   "outputs": [],
   "source": [
    "import json\n",
    "\n",
    "with open(\"metadata.json\", \"w\") as f:\n",
    "    for m in metadata:\n",
    "        f.write(json.dumps(m))\n",
    "        f.write(\"\\n\")"
   ]
  },
  {
   "cell_type": "code",
   "execution_count": null,
   "metadata": {},
   "outputs": [],
   "source": [
    "!curl -X POST\\\n",
    "-H \"Content-Type: application/json\" \\\n",
    "-H \"Authorization: Bearer `gcloud auth print-access-token`\" \\\n",
    "\"https://us-central1-aiplatform.googleapis.com/v1/projects/rl-llm-dev/locations/us-central1/indexes/2965906227646693376:removeDatapoints\" \\\n",
    "-d '{datapoint_ids: [\"0\", \"1\", \"2\", \"3\", \"4\", \"5\", \"6\", \"7\", \"8\", \"9\"]}'"
   ]
  },
  {
   "cell_type": "markdown",
   "metadata": {},
   "source": [
    "# List Index"
   ]
  },
  {
   "cell_type": "code",
   "execution_count": null,
   "metadata": {},
   "outputs": [],
   "source": [
    "! curl -X GET \\\n",
    "    -H \"Authorization: Bearer $(gcloud auth print-access-token)\" \\\n",
    "    \"https://us-central1-aiplatform.googleapis.com/v1/projects/rl-llm-dev/locations/us-central1/indexes\""
   ]
  },
  {
   "cell_type": "code",
   "execution_count": null,
   "metadata": {},
   "outputs": [],
   "source": []
  },
  {
   "cell_type": "markdown",
   "metadata": {},
   "source": [
    "# Upsert elements"
   ]
  },
  {
   "cell_type": "code",
   "execution_count": null,
   "metadata": {},
   "outputs": [],
   "source": [
    "import pandas as pd\n",
    "input_file = pd.read_excel(\"csm-dataset-update.xlsx\")"
   ]
  },
  {
   "cell_type": "code",
   "execution_count": null,
   "metadata": {},
   "outputs": [],
   "source": [
    "metadata = []\n",
    "\n",
    "for i in range(10):\n",
    "    title = input_file.title[i]\n",
    "    with open(f\"image_0{i}.jpg\", \"rb\") as f:\n",
    "        image_contents = f.read()\n",
    "        response = embeddings_client.get_embedding(\n",
    "            text=title,\n",
    "            image_bytes=image_contents)\n",
    "\n",
    "    reduced_vector = reduce_embedding_dimesion(\n",
    "        vector_image=response.image_embedding,\n",
    "        vector_text=response.text_embedding\n",
    "    )\n",
    "\n",
    "    metadata.append(\n",
    "        {\n",
    "            \"id\": str(i), \n",
    "            \"embedding\": list(reduced_vector)\n",
    "        }\n",
    "    )"
   ]
  },
  {
   "cell_type": "code",
   "execution_count": null,
   "metadata": {},
   "outputs": [],
   "source": [
    "import json\n",
    "\n",
    "with open(\"metadata.json\", \"w\") as f:\n",
    "    for m in metadata:\n",
    "        f.write(json.dumps(m))\n",
    "        f.write(\"\\n\")"
   ]
  },
  {
   "cell_type": "code",
   "execution_count": null,
   "metadata": {},
   "outputs": [],
   "source": []
  },
  {
   "cell_type": "code",
   "execution_count": 95,
   "metadata": {},
   "outputs": [],
   "source": [
    "from google.cloud import firestore\n",
    "db = firestore.Client()"
   ]
  },
  {
   "cell_type": "code",
   "execution_count": 111,
   "metadata": {},
   "outputs": [],
   "source": [
    "document = db.collection(\"website_search\").document(\"0HAhrsZVJDLpy1rAMLaL\").get()"
   ]
  },
  {
   "cell_type": "code",
   "execution_count": 112,
   "metadata": {},
   "outputs": [],
   "source": [
    "doc_list = document.to_dict()[\"conversation\"].copy()"
   ]
  },
  {
   "cell_type": "code",
   "execution_count": 113,
   "metadata": {},
   "outputs": [
    {
     "data": {
      "text/plain": [
       "[{'message': 'gaming', 'author': 'user'},\n",
       " {'message': 'There are many different types of gaming chairs available, including chairs with footrests, chairs with speakers, and chairs with adjustable heights. One popular option is the GTRACING Gaming Chair with Footrest Speakers Video Game Chair Bluetooth Music Heavy Duty Ergonomic Computer Office Desk Chair Red, which is available for $159.99. This chair features two Bluetooth speakers, a strong metal frame, and a comfortable seat cushion.',\n",
       "  'author': 'system'},\n",
       " 'test']"
      ]
     },
     "execution_count": 113,
     "metadata": {},
     "output_type": "execute_result"
    }
   ],
   "source": [
    "doc_list"
   ]
  },
  {
   "cell_type": "code",
   "execution_count": 108,
   "metadata": {},
   "outputs": [],
   "source": [
    "doc_list.append(\"test\")"
   ]
  },
  {
   "cell_type": "code",
   "execution_count": 109,
   "metadata": {},
   "outputs": [
    {
     "data": {
      "text/plain": [
       "[{'message': 'gaming', 'author': 'user'},\n",
       " {'message': 'There are many different types of gaming chairs available, including chairs with footrests, chairs with speakers, and chairs with adjustable heights. One popular option is the GTRACING Gaming Chair with Footrest Speakers Video Game Chair Bluetooth Music Heavy Duty Ergonomic Computer Office Desk Chair Red, which is available for $159.99. This chair features two Bluetooth speakers, a strong metal frame, and a comfortable seat cushion.',\n",
       "  'author': 'system'},\n",
       " 'test']"
      ]
     },
     "execution_count": 109,
     "metadata": {},
     "output_type": "execute_result"
    }
   ],
   "source": [
    "doc_list"
   ]
  },
  {
   "cell_type": "code",
   "execution_count": 110,
   "metadata": {},
   "outputs": [
    {
     "data": {
      "text/plain": [
       "update_time {\n",
       "  seconds: 1697845017\n",
       "  nanos: 13510000\n",
       "}"
      ]
     },
     "execution_count": 110,
     "metadata": {},
     "output_type": "execute_result"
    }
   ],
   "source": [
    "db.collection(\"website_search\").document(\"0HAhrsZVJDLpy1rAMLaL\").set(\n",
    "    {\"conversation\":doc_list}, merge=True\n",
    ")"
   ]
  },
  {
   "cell_type": "code",
   "execution_count": null,
   "metadata": {},
   "outputs": [],
   "source": []
  }
 ],
 "metadata": {
  "kernelspec": {
   "display_name": "genai-marketing",
   "language": "python",
   "name": "python3"
  },
  "language_info": {
   "codemirror_mode": {
    "name": "ipython",
    "version": 3
   },
   "file_extension": ".py",
   "mimetype": "text/x-python",
   "name": "python",
   "nbconvert_exporter": "python",
   "pygments_lexer": "ipython3",
   "version": "3.11.5"
  }
 },
 "nbformat": 4,
 "nbformat_minor": 2
}
