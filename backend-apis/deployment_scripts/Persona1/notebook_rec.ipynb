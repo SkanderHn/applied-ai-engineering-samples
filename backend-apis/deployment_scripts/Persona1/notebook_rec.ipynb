{
 "cells": [
  {
   "cell_type": "code",
   "execution_count": 1,
   "metadata": {},
   "outputs": [],
   "source": [
    "from google.cloud import discoveryengine_v1beta as discoveryengine\n",
    "rec_client = discoveryengine.RecommendationServiceClient()"
   ]
  },
  {
   "cell_type": "code",
   "execution_count": 2,
   "metadata": {},
   "outputs": [],
   "source": [
    "user_event = discoveryengine.UserEvent()\n",
    "user_event.event_type = \"view-item\"\n",
    "user_event.user_pseudo_id = \"renatoleite\"\n",
    "\n",
    "user_event.documents = [\n",
    "    discoveryengine.DocumentInfo(\n",
    "        id=\"0099c35e4078761606d490c55eef2772\"\n",
    "    )\n",
    "]"
   ]
  },
  {
   "cell_type": "code",
   "execution_count": null,
   "metadata": {},
   "outputs": [],
   "source": []
  },
  {
   "cell_type": "code",
   "execution_count": 3,
   "metadata": {},
   "outputs": [],
   "source": [
    "project_id = \"rl-llm-dev\"\n",
    "datastore_id = \"csm-recommendation_1697024890817\"\n",
    "rec_app_id = \"csm-recommendation_1697024823919\"\n",
    "\n",
    "serving_config = f\"projects/{project_id}/locations/global/collections/\" \\\n",
    "                    f\"default_collection/dataStores/{datastore_id}/\" \\\n",
    "                    f\"servingConfigs/{rec_app_id}\"\n",
    "\n",
    "# serving_config = f\"projects/{project_id}/locations/global/collections/default_collection/dataStores/{datastore_id}/servingConfigs/{rec_app_id}\"\n",
    "\n",
    "request = discoveryengine.RecommendRequest(\n",
    "    serving_config=serving_config,\n",
    "    user_event=user_event,\n",
    ")"
   ]
  },
  {
   "cell_type": "code",
   "execution_count": 4,
   "metadata": {},
   "outputs": [],
   "source": [
    "# Make the request\n",
    "response = rec_client.recommend(request=request)"
   ]
  },
  {
   "cell_type": "code",
   "execution_count": 7,
   "metadata": {},
   "outputs": [],
   "source": [
    "from proto import Message\n",
    "test = Message.to_dict(response)"
   ]
  },
  {
   "cell_type": "code",
   "execution_count": 9,
   "metadata": {},
   "outputs": [
    {
     "data": {
      "text/plain": [
       "{'results': [{'id': '4da0557fca4bc721c29de46b7e6ba8c7', 'metadata': {}}],\n",
       " 'attribution_token': 'ChQxMzczNjEyMzE4OTc0OTYxNjkzNBogY3NtLXJlY29tbWVuZGF0aW9uXzE2OTcwMjQ4MjM5MTkiIGNzbS1yZWNvbW1lbmRhdGlvbl8xNjk3MDI0ODIzOTE5KAAwAg',\n",
       " 'missing_ids': [],\n",
       " 'validate_only': False}"
      ]
     },
     "execution_count": 9,
     "metadata": {},
     "output_type": "execute_result"
    }
   ],
   "source": [
    "test"
   ]
  },
  {
   "cell_type": "code",
   "execution_count": 10,
   "metadata": {},
   "outputs": [],
   "source": [
    "doc_client = discoveryengine.DocumentServiceClient()"
   ]
  },
  {
   "cell_type": "code",
   "execution_count": 1,
   "metadata": {},
   "outputs": [
    {
     "ename": "Exception",
     "evalue": "Empty results",
     "output_type": "error",
     "traceback": [
      "\u001b[0;31m---------------------------------------------------------------------------\u001b[0m",
      "\u001b[0;31mException\u001b[0m                                 Traceback (most recent call last)",
      "\u001b[1;32m/home/renatoleite/workspace/customer-services-modernization/backend-apis/notebooks/notebook_rec.ipynb Cell 9\u001b[0m line \u001b[0;36m1\n\u001b[0;32m----> <a href='vscode-notebook-cell://ssh-remote%2Brl-llm-dev-nogpu.us-central1-a.rl-llm-dev/home/renatoleite/workspace/customer-services-modernization/backend-apis/notebooks/notebook_rec.ipynb#X11sdnNjb2RlLXJlbW90ZQ%3D%3D?line=0'>1</a>\u001b[0m \u001b[39mraise\u001b[39;00m \u001b[39mException\u001b[39;00m(\u001b[39m\"\u001b[39m\u001b[39mEmpty results\u001b[39m\u001b[39m\"\u001b[39m)\n",
      "\u001b[0;31mException\u001b[0m: Empty results"
     ]
    }
   ],
   "source": [
    "raise Exception(\"Empty results\")"
   ]
  },
  {
   "cell_type": "code",
   "execution_count": null,
   "metadata": {},
   "outputs": [],
   "source": []
  },
  {
   "cell_type": "code",
   "execution_count": null,
   "metadata": {},
   "outputs": [],
   "source": [
    "from google.auth.transport.requests import Request\n",
    "import google.auth\n",
    "\n",
    "# Get the credentials using Application Default Credentials\n",
    "creds, _ = google.auth.default()\n",
    "# Refresh the credentials (to get the access token)\n",
    "creds.refresh(Request())\n",
    "creds.token"
   ]
  },
  {
   "cell_type": "code",
   "execution_count": null,
   "metadata": {},
   "outputs": [],
   "source": [
    "import requests\n",
    "from google.auth.transport.requests import Request\n",
    "import google.auth\n",
    "\n",
    "# Get the credentials using Application Default Credentials\n",
    "creds, _ = google.auth.default()\n",
    "creds.refresh(Request())\n",
    "\n",
    "url = \"https://discoveryengine.googleapis.com/v1beta/projects/rl-llm-dev/locations/global/collections/default_collection/dataStores/csm-recommendation_1697024890817/servingConfigs/csm-recommendation_1697024823919:recommend\"\n",
    "\n",
    "payload = {\n",
    "    \"userEvent\": {\n",
    "        \"eventType\": \"view-item\",\n",
    "        \"userPseudoId\": \"<>\",\n",
    "        \"documents\":[{\"id\":\"0099c35e4078761606d490c55eef2772\"}]\n",
    "    }\n",
    "}\n",
    "\n",
    "# Assuming you have the access token stored in a variable named 'access_token'\n",
    "headers = {\n",
    "    \"Authorization\": \"Bearer \" + creds.token,\n",
    "    \"Content-Type\": \"application/json\"\n",
    "}\n",
    "\n",
    "response = requests.post(url, headers=headers, json=payload)\n",
    "\n",
    "print(response.status_code)\n",
    "print(response.json())"
   ]
  },
  {
   "cell_type": "code",
   "execution_count": null,
   "metadata": {},
   "outputs": [],
   "source": []
  },
  {
   "cell_type": "code",
   "execution_count": null,
   "metadata": {},
   "outputs": [],
   "source": []
  },
  {
   "cell_type": "code",
   "execution_count": 2,
   "metadata": {},
   "outputs": [],
   "source": [
    "from google.cloud import discoveryengine_v1beta as discoveryengine"
   ]
  },
  {
   "cell_type": "code",
   "execution_count": 3,
   "metadata": {},
   "outputs": [],
   "source": [
    "doc_client = discoveryengine.DocumentServiceClient()"
   ]
  },
  {
   "cell_type": "code",
   "execution_count": 5,
   "metadata": {},
   "outputs": [],
   "source": [
    "project_id = \"rl-llm-dev\"\n",
    "datastore_id = \"csm-recommendation_1697024890817\""
   ]
  },
  {
   "cell_type": "code",
   "execution_count": 6,
   "metadata": {},
   "outputs": [],
   "source": [
    "document_ref = doc_client.document_path(\n",
    "    project=project_id,\n",
    "    location=\"global\",\n",
    "    data_store=datastore_id,\n",
    "    branch=\"default_branch\",\n",
    "    document=\"0099c35e4078761606d490c55eef2772\"\n",
    ")"
   ]
  },
  {
   "cell_type": "code",
   "execution_count": 10,
   "metadata": {},
   "outputs": [],
   "source": [
    "doc_request = discoveryengine.GetDocumentRequest(name=document_ref)\n",
    "\n",
    "doc = doc_client.get_document(request=doc_request)"
   ]
  },
  {
   "cell_type": "code",
   "execution_count": 14,
   "metadata": {},
   "outputs": [
    {
     "data": {
      "text/plain": [
       "{'mime_type': 'text/html', 'uri': 'gs://csm-dataset/website-search/0.html'}"
      ]
     },
     "execution_count": 14,
     "metadata": {},
     "output_type": "execute_result"
    }
   ],
   "source": [
    "from proto import Message\n",
    "Message.to_dict(doc.content)"
   ]
  },
  {
   "cell_type": "code",
   "execution_count": null,
   "metadata": {},
   "outputs": [],
   "source": []
  }
 ],
 "metadata": {
  "kernelspec": {
   "display_name": "genai-marketing",
   "language": "python",
   "name": "python3"
  },
  "language_info": {
   "codemirror_mode": {
    "name": "ipython",
    "version": 3
   },
   "file_extension": ".py",
   "mimetype": "text/x-python",
   "name": "python",
   "nbconvert_exporter": "python",
   "pygments_lexer": "ipython3",
   "version": "3.11.5"
  }
 },
 "nbformat": 4,
 "nbformat_minor": 2
}
