{
 "cells": [
  {
   "cell_type": "code",
   "execution_count": null,
   "metadata": {},
   "outputs": [],
   "source": [
    "import json\n",
    "\n",
    "payload = json.dumps(\n",
    "    {\"query\": \"Are gaming chairs ergonomic?\",\n",
    "        \"visitor_id\": \"renatoleite\",\n",
    "        \"search_doc_id\": \"test\",\n",
    "        \"conversation_id\": \"test2\"}\n",
    ").encode(\"utf-8\")"
   ]
  },
  {
   "cell_type": "code",
   "execution_count": null,
   "metadata": {},
   "outputs": [],
   "source": [
    "payload"
   ]
  },
  {
   "cell_type": "code",
   "execution_count": null,
   "metadata": {},
   "outputs": [],
   "source": [
    "test = b\"{\"query\": \"Are gaming chairs ergonomic?\", \"visitor_id\": \"01\", \"search_doc_id\": \"UoRYrbfvle29iYHLTuGp\", \"conversation_id\": \"projects/244831775715/locations/global/collections/default_collection/dataStores/csm-website-ds/conversations/8295621911992394845\"}\""
   ]
  },
  {
   "cell_type": "code",
   "execution_count": null,
   "metadata": {},
   "outputs": [],
   "source": [
    "type(test)"
   ]
  },
  {
   "cell_type": "code",
   "execution_count": null,
   "metadata": {},
   "outputs": [],
   "source": [
    "import base64\n",
    "message = base64.b64decode(test).decode(\"utf-8\")"
   ]
  },
  {
   "cell_type": "code",
   "execution_count": null,
   "metadata": {},
   "outputs": [],
   "source": [
    "from google.cloud import pubsub_v1\n",
    "\n",
    "# TODO(developer)\n",
    "project_id = \"rl-llm-dev\"\n",
    "subscription_id = \"read-test\"\n",
    "# Number of seconds the subscriber should listen for messages\n",
    "# timeout = 5.0\n",
    "\n",
    "subscriber = pubsub_v1.SubscriberClient()\n",
    "# The `subscription_path` method creates a fully qualified identifier\n",
    "# in the form `projects/{project_id}/subscriptions/{subscription_id}`\n",
    "subscription_path = subscriber.subscription_path(project_id, subscription_id)"
   ]
  },
  {
   "cell_type": "code",
   "execution_count": null,
   "metadata": {},
   "outputs": [],
   "source": [
    "with subscriber:\n",
    "    # The subscriber pulls a specific number of messages. The actual\n",
    "    # number of messages pulled may be smaller than max_messages.\n",
    "    response = subscriber.pull(\n",
    "        request={\"subscription\": subscription_path, \"max_messages\": 1}\n",
    "    )"
   ]
  },
  {
   "cell_type": "code",
   "execution_count": null,
   "metadata": {},
   "outputs": [],
   "source": [
    "from proto import Message\n",
    "import base64\n",
    "test = Message.to_dict(response)"
   ]
  },
  {
   "cell_type": "code",
   "execution_count": null,
   "metadata": {},
   "outputs": [],
   "source": [
    "response"
   ]
  },
  {
   "cell_type": "code",
   "execution_count": null,
   "metadata": {},
   "outputs": [],
   "source": [
    "message = base64.b64decode(test[\"data\"]).decode(\"utf-8\")"
   ]
  },
  {
   "cell_type": "code",
   "execution_count": null,
   "metadata": {},
   "outputs": [],
   "source": []
  },
  {
   "cell_type": "code",
   "execution_count": null,
   "metadata": {},
   "outputs": [],
   "source": []
  },
  {
   "cell_type": "code",
   "execution_count": null,
   "metadata": {},
   "outputs": [],
   "source": []
  },
  {
   "cell_type": "code",
   "execution_count": 1,
   "metadata": {},
   "outputs": [],
   "source": [
    "import utils_search\n",
    "from google.cloud import firestore\n",
    "from google.cloud import discoveryengine_v1beta as discoveryengine"
   ]
  },
  {
   "cell_type": "code",
   "execution_count": 2,
   "metadata": {},
   "outputs": [],
   "source": [
    "conversational_client = discoveryengine.ConversationalSearchServiceClient()\n",
    "db = firestore.Client()"
   ]
  },
  {
   "cell_type": "code",
   "execution_count": 3,
   "metadata": {},
   "outputs": [],
   "source": [
    "message_dict = {\"query\": \"Are gaming chairs ergonomic?\", \"visitor_id\": \"01\", \"search_doc_id\": \"5Lkz6cEFyltsx78dL8q1\", \"conversation_id\": \"projects/244831775715/locations/global/collections/default_collection/dataStores/csm-products_1696914795319/conversations/9693234099287770061\"}\n",
    "query = \"Are gaming chairs ergonomic?\"\n",
    "project_id = \"rl-llm-dev\"\n",
    "datastore_location = \"global\"\n",
    "serving_config = \"default_config\"\n",
    "datastore_id = \"csm-products_1696914795319\""
   ]
  },
  {
   "cell_type": "code",
   "execution_count": 4,
   "metadata": {},
   "outputs": [],
   "source": [
    "converse_request = discoveryengine.CreateConversationRequest(\n",
    "    parent = f\"projects/{project_id}/locations/{datastore_location}/collections/default_collection/dataStores/{datastore_id}\",\n",
    "    conversation=discoveryengine.Conversation(\n",
    "        user_pseudo_id=\"01\"\n",
    "    )\n",
    ")\n",
    "conversation = conversational_client.create_conversation(request=converse_request)\n",
    "conversation_id = conversation.name"
   ]
  },
  {
   "cell_type": "code",
   "execution_count": 5,
   "metadata": {},
   "outputs": [
    {
     "data": {
      "text/plain": [
       "update_time {\n",
       "  seconds: 1697053677\n",
       "  nanos: 710533000\n",
       "}"
      ]
     },
     "execution_count": 5,
     "metadata": {},
     "output_type": "execute_result"
    }
   ],
   "source": [
    "search_doc = db.collection(\"website_search\").document()\n",
    "search_doc.set({\n",
    "    \"conversation\":[{\"author\": \"user\", \"message\": query}],\n",
    "    \"results\":[]\n",
    "})"
   ]
  },
  {
   "cell_type": "code",
   "execution_count": 6,
   "metadata": {},
   "outputs": [
    {
     "name": "stdout",
     "output_type": "stream",
     "text": [
      "projects/244831775715/locations/global/collections/default_collection/dataStores/csm-products_1696914795319/conversations/1233745427978799135\n",
      "anWTUvxpkNPaTdIkzF1k\n"
     ]
    }
   ],
   "source": [
    "print(conversation_id)\n",
    "print(search_doc.id)"
   ]
  },
  {
   "cell_type": "code",
   "execution_count": null,
   "metadata": {},
   "outputs": [],
   "source": [
    "request = utils_search.converse_unstructured_text(\n",
    "    converse_client=conversational_client,\n",
    "    search_query=message_dict[\"query\"],\n",
    "    project_id=project_id,\n",
    "    datastore_location=datastore_location,\n",
    "    datastore_id=datastore_id,\n",
    "    conversation_id=message_dict[\"conversation_id\"])"
   ]
  },
  {
   "cell_type": "code",
   "execution_count": null,
   "metadata": {},
   "outputs": [],
   "source": [
    "len(request.search_results)"
   ]
  },
  {
   "cell_type": "code",
   "execution_count": null,
   "metadata": {},
   "outputs": [],
   "source": [
    "conversation.name"
   ]
  },
  {
   "cell_type": "code",
   "execution_count": null,
   "metadata": {},
   "outputs": [],
   "source": [
    "search_doc = db.collection(\"website_search\").document()\n",
    "search_doc.set({\n",
    "    \"conversation\":[{\"author\": \"user\", \"message\": query}],\n",
    "    \"results\":[]\n",
    "})"
   ]
  },
  {
   "cell_type": "code",
   "execution_count": null,
   "metadata": {},
   "outputs": [],
   "source": []
  }
 ],
 "metadata": {
  "kernelspec": {
   "display_name": "genai-marketing",
   "language": "python",
   "name": "python3"
  },
  "language_info": {
   "codemirror_mode": {
    "name": "ipython",
    "version": 3
   },
   "file_extension": ".py",
   "mimetype": "text/x-python",
   "name": "python",
   "nbconvert_exporter": "python",
   "pygments_lexer": "ipython3",
   "version": "3.11.5"
  }
 },
 "nbformat": 4,
 "nbformat_minor": 2
}
