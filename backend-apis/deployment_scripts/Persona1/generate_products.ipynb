{
 "cells": [
  {
   "cell_type": "markdown",
   "metadata": {},
   "source": [
    "# Generate Dataset"
   ]
  },
  {
   "cell_type": "code",
   "execution_count": 1,
   "metadata": {},
   "outputs": [],
   "source": [
    "from google.cloud import storage\n",
    "storage_client = storage.Client()"
   ]
  },
  {
   "cell_type": "code",
   "execution_count": 2,
   "metadata": {},
   "outputs": [],
   "source": [
    "bucket_name = \"csm-dataset\"\n",
    "prefix = \"products_images_dataset/dataset\"\n",
    "bucket = storage_client.bucket(bucket_name)"
   ]
  },
  {
   "cell_type": "code",
   "execution_count": 3,
   "metadata": {},
   "outputs": [],
   "source": [
    "blobs = [i.name for i in storage_client.list_blobs(\n",
    "    bucket_name,\n",
    "    prefix=prefix,\n",
    "    match_glob=\"**.png\")]"
   ]
  },
  {
   "cell_type": "code",
   "execution_count": 10,
   "metadata": {},
   "outputs": [],
   "source": [
    "a = \"https://storage.googleapis.com/csm-dataset/products_images_dataset/dataset/Bath Robe/1/img1.png\".split(sep=\"/\")[-3]"
   ]
  },
  {
   "cell_type": "code",
   "execution_count": 2,
   "metadata": {},
   "outputs": [
    {
     "data": {
      "text/plain": [
       "'./output/test.jsonl'"
      ]
     },
     "execution_count": 2,
     "metadata": {},
     "output_type": "execute_result"
    }
   ],
   "source": [
    "import os\n",
    "\n",
    "os.path.join(\"./output/\", \"test.jsonl\")"
   ]
  },
  {
   "cell_type": "code",
   "execution_count": null,
   "metadata": {},
   "outputs": [],
   "source": [
    "blob = bucket.blob(blobs[0])\n",
    "contents = blob.download_as_string()"
   ]
  },
  {
   "cell_type": "code",
   "execution_count": null,
   "metadata": {},
   "outputs": [],
   "source": [
    "# Schema for the JSONL\n",
    "# id (int)\n",
    "# title\n",
    "# description\n",
    "# categories (list)\n",
    "# image_uri\n",
    "# filter_tags\n",
    "# features\n",
    "# price\n",
    "# quantity"
   ]
  },
  {
   "cell_type": "markdown",
   "metadata": {},
   "source": [
    "### Create JSONL for Search Recommendations"
   ]
  },
  {
   "cell_type": "code",
   "execution_count": null,
   "metadata": {},
   "outputs": [],
   "source": [
    "# {\"id\": \"2\", \"schemaId\": \"default_schema\", \"jsonData\": \"{\\\"title\\\": \\\"SteelSeries Arctis Nova 1X Gaming Headset - Signature Arctis Sound - ClearCast Gen 2 Mic - Xbox Series X|S, PC, Playstation, Switch, and Mobile\\\", \\\"uri\\\": \\\"https://storage.googleapis.com/csm-dataset/website-search/0.html\\\", \\\"availability_start_time\\\": \\\"2023-08-26T23:00:17Z\\\", \\\"categories\\\": [\\\"headset\\\"], \\\"images\\\": [{\\\"uri\\\": \\\"https://storage.googleapis.com/csm-dataset/website-search/image_00.jpg\\\", \\\"name\\\": \\\"image_00.jpg\\\"}]}\"}"
   ]
  },
  {
   "cell_type": "code",
   "execution_count": null,
   "metadata": {},
   "outputs": [],
   "source": [
    "html_template = \"\"\"<html><head><meta http-equiv=\"Content-Type\" content=\"text/html; charset=windows-1252\"></head><body><div class=\"row mt-5\">\n",
    "\t<nav aria-label=\"breadcrumb\">\n",
    "\t\t<ol class=\"breadcrumb\">\n",
    "\t\t\t<li class=\"breadcrumb-item\">Home</li>\n",
    "\t\t\t<li class=\"breadcrumb-item\">Categories</li>\n",
    "\t\t\t<li class=\"breadcrumb-item active\" aria-current=\"page\">{categories}</li>\n",
    "\t\t</ol>\n",
    "\t</nav>\n",
    "\t<div class=\"card mb-12\">\n",
    "\t\t<div class=\"row g-0\">\n",
    "\t\t\t<div class=\"col-md-4 text-center\">\n",
    "\t\t\t\t<img src=\"{image_uri}\" class=\"img-fluid rounded-start\" alt=\"...\" style=\"max-height:500px\">\n",
    "\t\t\t</div>\n",
    "\t\t\t<div class=\"col-md-8\">\n",
    "\t\t\t\t<div class=\"card-body\">\n",
    "\t\t\t\t\t<h3 class=\"card-title\">{title}</h3>\n",
    "\t\t\t\t\t<h4 class=\"card-subtitle text-body-secondary mb-2\">${price}</h4>\n",
    "\t\t\t\t\t<p class=\"card-text\"><small>{description}</small></p>\n",
    "\t\t\t\t</div>\n",
    "\t\t\t</div>\n",
    "\t\t</div>\n",
    "\t</div>\n",
    "</div> \n",
    "</body></html>\"\"\""
   ]
  },
  {
   "cell_type": "code",
   "execution_count": null,
   "metadata": {},
   "outputs": [],
   "source": [
    "html_pages = []\n",
    "\n",
    "for blob in blobs:\n",
    "    b = bucket.blob(blob)\n",
    "    contents = b.download_as_string()\n",
    "\n",
    "    html_pages.append(\n",
    "        html_template.format(\n",
    "            categories = \"test\",\n",
    "            image_uri = \"https://storage.googleapis.com/\" + bucket_name + \"/\" + blob,\n",
    "            title = \"test\",\n",
    "            price = \"99.99\",\n",
    "            description = \"test\"\n",
    "        )\n",
    "    )\n",
    "\n",
    "    break"
   ]
  },
  {
   "cell_type": "code",
   "execution_count": null,
   "metadata": {},
   "outputs": [],
   "source": [
    "with open(\"test.html\", \"w\") as f:\n",
    "    f.write(html_pages[0])"
   ]
  },
  {
   "cell_type": "code",
   "execution_count": null,
   "metadata": {},
   "outputs": [],
   "source": []
  }
 ],
 "metadata": {
  "kernelspec": {
   "display_name": "genai-marketing",
   "language": "python",
   "name": "python3"
  },
  "language_info": {
   "codemirror_mode": {
    "name": "ipython",
    "version": 3
   },
   "file_extension": ".py",
   "mimetype": "text/x-python",
   "name": "python",
   "nbconvert_exporter": "python",
   "pygments_lexer": "ipython3",
   "version": "3.11.5"
  }
 },
 "nbformat": 4,
 "nbformat_minor": 2
}
