{
 "cells": [
  {
   "cell_type": "markdown",
   "metadata": {},
   "source": [
    "TODO:  \n",
    "\n",
    "0. Prepare the dataset (text, image and metadata) to extract embeddings\n",
    "1. Extract embeddings with Gecko Multimodal using text and/or image\n",
    "2. Create search datastore with grounding (citation, summary, snippets)\n",
    "3. Create API to automatically extract the embedding and upload to Vertex AI Search datastore\n",
    "4. Create API to search using multimodal (image + text)\n",
    "5. Verify what are the impacts of this new API to the Front End"
   ]
  },
  {
   "cell_type": "markdown",
   "metadata": {},
   "source": [
    "# 0. Prepare dataset"
   ]
  },
  {
   "cell_type": "code",
   "execution_count": 1,
   "metadata": {},
   "outputs": [],
   "source": [
    "import base64\n",
    "from google.cloud import aiplatform\n",
    "from google.protobuf import struct_pb2\n",
    "import typing\n",
    "import numpy as np"
   ]
  },
  {
   "cell_type": "code",
   "execution_count": 2,
   "metadata": {},
   "outputs": [],
   "source": [
    "class EmbeddingResponse(typing.NamedTuple):\n",
    "    text_embedding: typing.Sequence[float]\n",
    "    image_embedding: typing.Sequence[float]\n",
    "\n",
    "class EmbeddingPredictionClient:\n",
    "    \"\"\"Wrapper around Prediction Service Client.\"\"\"\n",
    "    def __init__(self, project : str,\n",
    "        location : str = \"us-central1\",\n",
    "        api_regional_endpoint: str = \"us-central1-aiplatform.googleapis.com\"):\n",
    "        client_options = {\"api_endpoint\": api_regional_endpoint}\n",
    "        # Initialize client that will be used to create and send requests.\n",
    "        # This client only needs to be created once, and can be reused for multiple requests.\n",
    "        self.client = aiplatform.gapic.PredictionServiceClient(client_options=client_options)  \n",
    "        self.location = location\n",
    "        self.project = project\n",
    "\n",
    "    def get_embedding(self, text : str = None, image_bytes : bytes = None):\n",
    "        if not text and not image_bytes:\n",
    "            raise ValueError('At least one of text or image_bytes must be specified.')\n",
    "\n",
    "        instance = struct_pb2.Struct()\n",
    "        if text:\n",
    "            instance.fields['text'].string_value = text\n",
    "\n",
    "        if image_bytes:\n",
    "            encoded_content = base64.b64encode(image_bytes).decode(\"utf-8\")\n",
    "            image_struct = instance.fields['image'].struct_value\n",
    "            image_struct.fields['bytesBase64Encoded'].string_value = encoded_content\n",
    "\n",
    "        instances = [instance]\n",
    "        endpoint = (f\"projects/{self.project}/locations/{self.location}\"\n",
    "            \"/publishers/google/models/multimodalembedding@001\")\n",
    "        response = self.client.predict(endpoint=endpoint, instances=instances)\n",
    "\n",
    "        text_embedding = None\n",
    "        if text:    \n",
    "            text_emb_value = response.predictions[0]['textEmbedding']\n",
    "            text_embedding = [v for v in text_emb_value]\n",
    "\n",
    "        image_embedding = None\n",
    "        if image_bytes:    \n",
    "            image_emb_value = response.predictions[0]['imageEmbedding']\n",
    "            image_embedding = [v for v in image_emb_value]\n",
    "\n",
    "        return EmbeddingResponse(\n",
    "            text_embedding=text_embedding,\n",
    "            image_embedding=image_embedding)"
   ]
  },
  {
   "cell_type": "code",
   "execution_count": 3,
   "metadata": {},
   "outputs": [],
   "source": [
    "def reduce_embedding_dimesion(\n",
    "        vector_text: list = [],\n",
    "        vector_image: list = [],\n",
    "):\n",
    "    if vector_image and vector_text:\n",
    "        matrix = np.array([vector_text, vector_image])\n",
    "        max_pooled_rows = np.max(matrix, axis=0)\n",
    "    else:\n",
    "        max_pooled_rows = np.array(vector_text or vector_image)\n",
    "\n",
    "    max_pooled_columns = [\n",
    "        max(max_pooled_rows[i], max_pooled_rows[i+1]) \n",
    "            for i in range(0, 1408, 2)]\n",
    "    return max_pooled_columns"
   ]
  },
  {
   "cell_type": "code",
   "execution_count": 4,
   "metadata": {},
   "outputs": [],
   "source": [
    "embeddings_client = EmbeddingPredictionClient(project=\"rl-llm-dev\")"
   ]
  },
  {
   "cell_type": "code",
   "execution_count": null,
   "metadata": {},
   "outputs": [],
   "source": [
    "with open(\"image_00.jpg\", \"rb\") as f:\n",
    "    image_contents = f.read()\n",
    "    response = embeddings_client.get_embedding(\n",
    "        text=\"Celular Google Pixel 7 with good camera\",\n",
    "        image_bytes=image_contents)"
   ]
  },
  {
   "cell_type": "code",
   "execution_count": null,
   "metadata": {},
   "outputs": [],
   "source": [
    "reduced_vector = reduce_embedding_dimesion(\n",
    "    vector_image=response.image_embedding,\n",
    "    vector_text=response.text_embedding\n",
    ")"
   ]
  },
  {
   "cell_type": "code",
   "execution_count": null,
   "metadata": {},
   "outputs": [],
   "source": [
    "import pandas as pd\n",
    "input_file = pd.read_excel(\"csm-dataset.xlsx\")"
   ]
  },
  {
   "cell_type": "code",
   "execution_count": null,
   "metadata": {},
   "outputs": [],
   "source": [
    "metadata = []\n",
    "\n",
    "for i in range(10):\n",
    "    html_uri = f\"gs://csm-dataset/website-search/{i}.html\"\n",
    "    product_id = str(i)\n",
    "    title = input_file.title[i]\n",
    "    description = input_file.description[i]\n",
    "    with open(f\"image_0{i}.jpg\", \"rb\") as f:\n",
    "        image_contents = f.read()\n",
    "        response = embeddings_client.get_embedding(\n",
    "            text=title,\n",
    "            image_bytes=image_contents)\n",
    "\n",
    "    reduced_vector = reduce_embedding_dimesion(\n",
    "        vector_image=response.image_embedding,\n",
    "        vector_text=response.text_embedding\n",
    "    )\n",
    "\n",
    "    metadata.append(\n",
    "        {\n",
    "            \"id\": product_id, \n",
    "            \"structData\": {\n",
    "                \"title\":title, \n",
    "                \"description\":description,\n",
    "                \"embedding_vector\": list(reduced_vector)},\n",
    "            \"content\": {\"mimeType\": \"text/html\", \"uri\": html_uri}\n",
    "        })"
   ]
  },
  {
   "cell_type": "code",
   "execution_count": null,
   "metadata": {},
   "outputs": [],
   "source": [
    "import json\n",
    "\n",
    "with open(\"metadata.jsonl\", \"w\") as f:\n",
    "    for m in metadata:\n",
    "        f.write(json.dumps(m))\n",
    "        f.write(\"\\n\")"
   ]
  },
  {
   "cell_type": "code",
   "execution_count": null,
   "metadata": {},
   "outputs": [],
   "source": [
    "! gsutil cp metadata.jsonl gs://csm-dataset/embeddings-search/metadata.jsonl"
   ]
  },
  {
   "cell_type": "markdown",
   "metadata": {},
   "source": [
    "# Update Schema"
   ]
  },
  {
   "cell_type": "code",
   "execution_count": null,
   "metadata": {},
   "outputs": [],
   "source": [
    "from google.cloud import discoveryengine_v1beta as discoveryengine\n",
    "import json"
   ]
  },
  {
   "cell_type": "code",
   "execution_count": null,
   "metadata": {},
   "outputs": [],
   "source": [
    "new_schema = {\n",
    "  \"$schema\": \"https://json-schema.org/draft/2020-12/schema\",\n",
    "  \"type\": \"object\",\n",
    "  \"properties\": {\n",
    "    \"title\": {\n",
    "      \"type\": \"string\",\n",
    "      \"keyPropertyMapping\": \"title\"\n",
    "    },\n",
    "    \"description\": {\n",
    "      \"type\": \"string\",\n",
    "      \"keyPropertyMapping\": \"description\"\n",
    "    },\n",
    "    \"embedding_vector\": {\n",
    "      \"type\": \"array\",\n",
    "      \"keyPropertyMapping\": \"embedding_vector\",\n",
    "      \"dimension\": 704,\n",
    "      \"items\": {\n",
    "        \"type\": \"number\"\n",
    "      }\n",
    "    }\n",
    "  }\n",
    "}"
   ]
  },
  {
   "cell_type": "code",
   "execution_count": null,
   "metadata": {},
   "outputs": [],
   "source": [
    "client = discoveryengine.SchemaServiceClient()"
   ]
  },
  {
   "cell_type": "code",
   "execution_count": null,
   "metadata": {},
   "outputs": [],
   "source": [
    "client.list_schemas(\n",
    "    discoveryengine.ListSchemasRequest(\n",
    "        parent=\"projects/rl-llm-dev/locations/global/collections/default_collection/dataStores/embeddings_1697652904023\"\n",
    "    )\n",
    ")"
   ]
  },
  {
   "cell_type": "code",
   "execution_count": null,
   "metadata": {},
   "outputs": [],
   "source": [
    "# Initialize request argument(s)\n",
    "request = discoveryengine.UpdateSchemaRequest(\n",
    "    schema = discoveryengine.Schema(\n",
    "        json_schema = json.dumps(new_schema),\n",
    "        name=\"projects/244831775715/locations/global/collections/default_collection/dataStores/embeddings_1697652904023/schemas/default_schema\"\n",
    "    )\n",
    ")\n",
    "\n",
    "# Make the request\n",
    "operation = client.update_schema(request=request)\n",
    "print(\"Waiting for operation to complete...\")\n",
    "response = operation.result()\n",
    "\n",
    "# Handle the response\n",
    "print(response)"
   ]
  },
  {
   "cell_type": "code",
   "execution_count": null,
   "metadata": {},
   "outputs": [],
   "source": []
  },
  {
   "cell_type": "code",
   "execution_count": null,
   "metadata": {},
   "outputs": [],
   "source": []
  },
  {
   "cell_type": "markdown",
   "metadata": {},
   "source": [
    "# Query datastore"
   ]
  },
  {
   "cell_type": "code",
   "execution_count": 5,
   "metadata": {},
   "outputs": [],
   "source": [
    "from google.cloud import discoveryengine_v1beta as discoveryengine"
   ]
  },
  {
   "cell_type": "code",
   "execution_count": 6,
   "metadata": {},
   "outputs": [],
   "source": [
    "search_client = discoveryengine.SearchServiceClient()"
   ]
  },
  {
   "cell_type": "code",
   "execution_count": 12,
   "metadata": {},
   "outputs": [],
   "source": [
    "with open(\"image_00.jpg\", \"rb\") as f:\n",
    "    response = embeddings_client.get_embedding(\n",
    "        image_bytes=f.read())\n",
    "\n",
    "reduced_vector = reduce_embedding_dimesion(\n",
    "    vector_image=response.image_embedding\n",
    ")"
   ]
  },
  {
   "cell_type": "code",
   "execution_count": 13,
   "metadata": {},
   "outputs": [],
   "source": [
    "embedding_spec = discoveryengine.SearchRequest.EmbeddingSpec(\n",
    "    embedding_vectors = [\n",
    "        discoveryengine.SearchRequest.EmbeddingSpec.EmbeddingVector(\n",
    "            field_path = \"embedding_vector\",\n",
    "            vector = reduced_vector)\n",
    "    ]\n",
    ")"
   ]
  },
  {
   "cell_type": "code",
   "execution_count": 14,
   "metadata": {},
   "outputs": [],
   "source": [
    "project_id = \"rl-llm-dev\"\n",
    "datastore_location = \"global\"\n",
    "datastore_id = \"embeddings_1697652904023\"\n",
    "\n",
    "serving_config = search_client.serving_config_path(\n",
    "    project=project_id,\n",
    "    location=datastore_location,\n",
    "    data_store=datastore_id,\n",
    "    serving_config=\"default_config\")"
   ]
  },
  {
   "cell_type": "code",
   "execution_count": 15,
   "metadata": {},
   "outputs": [],
   "source": [
    "request = discoveryengine.SearchRequest(\n",
    "    serving_config=serving_config,\n",
    "    embedding_spec = embedding_spec,\n",
    "    ranking_expression=\"0.5 * relevance_score + 0.3 * dotProduct(embedding_vector)\"\n",
    ")"
   ]
  },
  {
   "cell_type": "code",
   "execution_count": 16,
   "metadata": {},
   "outputs": [
    {
     "data": {
      "text/plain": [
       "SearchPager<results {\n",
       "  id: \"4\"\n",
       "  document {\n",
       "    name: \"projects/244831775715/locations/global/collections/default_collection/dataStores/embeddings_1697652904023/branches/0/documents/4\"\n",
       "    id: \"4\"\n",
       "    derived_struct_data {\n",
       "      fields {\n",
       "        key: \"link\"\n",
       "        value {\n",
       "          string_value: \"gs://csm-dataset/website-search/4.html\"\n",
       "        }\n",
       "      }\n",
       "    }\n",
       "  }\n",
       "}\n",
       "results {\n",
       "  id: \"8\"\n",
       "  document {\n",
       "    name: \"projects/244831775715/locations/global/collections/default_collection/dataStores/embeddings_1697652904023/branches/0/documents/8\"\n",
       "    id: \"8\"\n",
       "    derived_struct_data {\n",
       "      fields {\n",
       "        key: \"link\"\n",
       "        value {\n",
       "          string_value: \"gs://csm-dataset/website-search/8.html\"\n",
       "        }\n",
       "      }\n",
       "    }\n",
       "  }\n",
       "}\n",
       "results {\n",
       "  id: \"6\"\n",
       "  document {\n",
       "    name: \"projects/244831775715/locations/global/collections/default_collection/dataStores/embeddings_1697652904023/branches/0/documents/6\"\n",
       "    id: \"6\"\n",
       "    derived_struct_data {\n",
       "      fields {\n",
       "        key: \"link\"\n",
       "        value {\n",
       "          string_value: \"gs://csm-dataset/website-search/6.html\"\n",
       "        }\n",
       "      }\n",
       "    }\n",
       "  }\n",
       "}\n",
       "results {\n",
       "  id: \"5\"\n",
       "  document {\n",
       "    name: \"projects/244831775715/locations/global/collections/default_collection/dataStores/embeddings_1697652904023/branches/0/documents/5\"\n",
       "    id: \"5\"\n",
       "    derived_struct_data {\n",
       "      fields {\n",
       "        key: \"link\"\n",
       "        value {\n",
       "          string_value: \"gs://csm-dataset/website-search/5.html\"\n",
       "        }\n",
       "      }\n",
       "    }\n",
       "  }\n",
       "}\n",
       "results {\n",
       "  id: \"0\"\n",
       "  document {\n",
       "    name: \"projects/244831775715/locations/global/collections/default_collection/dataStores/embeddings_1697652904023/branches/0/documents/0\"\n",
       "    id: \"0\"\n",
       "    derived_struct_data {\n",
       "      fields {\n",
       "        key: \"link\"\n",
       "        value {\n",
       "          string_value: \"gs://csm-dataset/website-search/0.html\"\n",
       "        }\n",
       "      }\n",
       "    }\n",
       "  }\n",
       "}\n",
       "results {\n",
       "  id: \"2\"\n",
       "  document {\n",
       "    name: \"projects/244831775715/locations/global/collections/default_collection/dataStores/embeddings_1697652904023/branches/0/documents/2\"\n",
       "    id: \"2\"\n",
       "    derived_struct_data {\n",
       "      fields {\n",
       "        key: \"link\"\n",
       "        value {\n",
       "          string_value: \"gs://csm-dataset/website-search/2.html\"\n",
       "        }\n",
       "      }\n",
       "    }\n",
       "  }\n",
       "}\n",
       "results {\n",
       "  id: \"3\"\n",
       "  document {\n",
       "    name: \"projects/244831775715/locations/global/collections/default_collection/dataStores/embeddings_1697652904023/branches/0/documents/3\"\n",
       "    id: \"3\"\n",
       "    derived_struct_data {\n",
       "      fields {\n",
       "        key: \"link\"\n",
       "        value {\n",
       "          string_value: \"gs://csm-dataset/website-search/3.html\"\n",
       "        }\n",
       "      }\n",
       "    }\n",
       "  }\n",
       "}\n",
       "results {\n",
       "  id: \"7\"\n",
       "  document {\n",
       "    name: \"projects/244831775715/locations/global/collections/default_collection/dataStores/embeddings_1697652904023/branches/0/documents/7\"\n",
       "    id: \"7\"\n",
       "    derived_struct_data {\n",
       "      fields {\n",
       "        key: \"link\"\n",
       "        value {\n",
       "          string_value: \"gs://csm-dataset/website-search/7.html\"\n",
       "        }\n",
       "      }\n",
       "    }\n",
       "  }\n",
       "}\n",
       "results {\n",
       "  id: \"1\"\n",
       "  document {\n",
       "    name: \"projects/244831775715/locations/global/collections/default_collection/dataStores/embeddings_1697652904023/branches/0/documents/1\"\n",
       "    id: \"1\"\n",
       "    derived_struct_data {\n",
       "      fields {\n",
       "        key: \"link\"\n",
       "        value {\n",
       "          string_value: \"gs://csm-dataset/website-search/1.html\"\n",
       "        }\n",
       "      }\n",
       "    }\n",
       "  }\n",
       "}\n",
       "results {\n",
       "  id: \"9\"\n",
       "  document {\n",
       "    name: \"projects/244831775715/locations/global/collections/default_collection/dataStores/embeddings_1697652904023/branches/0/documents/9\"\n",
       "    id: \"9\"\n",
       "    derived_struct_data {\n",
       "      fields {\n",
       "        key: \"link\"\n",
       "        value {\n",
       "          string_value: \"gs://csm-dataset/website-search/9.html\"\n",
       "        }\n",
       "      }\n",
       "    }\n",
       "  }\n",
       "}\n",
       "guided_search_result {\n",
       "}\n",
       "total_size: 10\n",
       "attribution_token: \"WvBZCgsI3u7EqQYQkauxchIkNjUyYmM5YWEtMDAwMC0yMmFmLTk3ZDktZDRmNTQ3ZmE1OWIwIgdHRU5FUklDKhzUsp0VwvCeFZyGjiKiho4ipovvF46-nRXFy_MX\"\n",
       "summary {\n",
       "}\n",
       ">"
      ]
     },
     "execution_count": 16,
     "metadata": {},
     "output_type": "execute_result"
    }
   ],
   "source": [
    "search_client.search(request)"
   ]
  },
  {
   "cell_type": "code",
   "execution_count": null,
   "metadata": {},
   "outputs": [],
   "source": []
  }
 ],
 "metadata": {
  "kernelspec": {
   "display_name": "genai-marketing",
   "language": "python",
   "name": "python3"
  },
  "language_info": {
   "codemirror_mode": {
    "name": "ipython",
    "version": 3
   },
   "file_extension": ".py",
   "mimetype": "text/x-python",
   "name": "python",
   "nbconvert_exporter": "python",
   "pygments_lexer": "ipython3",
   "version": "3.11.5"
  }
 },
 "nbformat": 4,
 "nbformat_minor": 2
}
