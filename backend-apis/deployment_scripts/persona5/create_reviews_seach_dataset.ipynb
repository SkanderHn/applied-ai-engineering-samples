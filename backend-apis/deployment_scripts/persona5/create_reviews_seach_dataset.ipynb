{
 "cells": [
  {
   "cell_type": "markdown",
   "metadata": {},
   "source": [
    "# Create REVIEWS Search"
   ]
  },
  {
   "cell_type": "code",
   "execution_count": 1,
   "metadata": {},
   "outputs": [],
   "source": [
    "import random\n",
    "import json\n",
    "\n",
    "# Define the total number of individual numbers and the number of buckets\n",
    "total_numbers = 8750\n",
    "num_buckets = 2000\n",
    "\n",
    "# Generate a list of sequential integers from 0 to total_numbers - 1\n",
    "numbers = list(range(total_numbers))\n",
    "\n",
    "# Initialize an empty list for each bucket\n",
    "customers_buckets = [[] for _ in range(num_buckets)]\n",
    "\n",
    "# Randomly distribute numbers into buckets\n",
    "for number in random.sample(numbers, len(numbers)):\n",
    "    # Choose a random bucket and append the number to it\n",
    "    random_bucket = random.choice(customers_buckets)\n",
    "    random_bucket.append(number)"
   ]
  },
  {
   "cell_type": "code",
   "execution_count": 2,
   "metadata": {},
   "outputs": [],
   "source": [
    "with open(\"customer_list.json\", \"r\") as f:\n",
    "    customer_list = f.readlines()\n",
    "    customer_list = [json.loads(i) for i in customer_list]\n",
    "\n",
    "for i in range(len(customer_list)):\n",
    "    customer_list[i][\"customer_id\"] = i\n",
    "\n",
    "with open(\"product_reviews.jsonl\", \"r\") as f:\n",
    "    reviews = f.readlines()\n",
    "    reviews = [json.loads(i) for i in reviews]\n",
    "\n",
    "with open(\"agent_list.json\", \"r\") as f:\n",
    "    agents = f.readlines()\n",
    "    agents = [json.loads(i) for i in agents]"
   ]
  },
  {
   "cell_type": "code",
   "execution_count": 3,
   "metadata": {},
   "outputs": [],
   "source": [
    "# Assign customers to reviews\n",
    "for customer_id, bucket in enumerate(customers_buckets):\n",
    "    for element in bucket:\n",
    "        reviews[element][\"customer_id\"] = customer_list[customer_id][\"customer_id\"]\n",
    "        reviews[element][\"customer_email\"] = customer_list[customer_id][\"email\"]"
   ]
  },
  {
   "cell_type": "code",
   "execution_count": 5,
   "metadata": {},
   "outputs": [
    {
     "data": {
      "text/plain": [
       "{'id': '1000',\n",
       " 'title': \"Women's White Cotton Robe - Soft, Absorbent, and Comfortable\",\n",
       " 'description': \"Our women's white cotton robe is the perfect way to relax and unwind after a long day. Made from 100% cotton, this robe is soft, absorbent, and comfortable. It features a shawl collar, two patch pockets, and a self-tie belt. This robe is available in sizes S-XXL.\\n\\nHere are some of the benefits of our women's white cotton robe:\\n\\n* Made from 100% cotton for softness and absorbency\\n* Shawl collar for added warmth\\n* Two patch pockets for storing essentials\\n* Self-tie belt for a secure fit\\n* Available in sizes S-XXL\\n\\nOrder your women's white cotton robe today and experience the ultimate in comfort and relaxation!\",\n",
       " 'category': 'Bath Robe',\n",
       " 'review': \" I was really looking forward to receiving this robe, but unfortunately, I was disappointed. The material is not as soft as I expected and it's not very absorbent. The stitching is also poor quality and the robe started coming apart after just a few washes. I would not recommend this product.\",\n",
       " 'sentiment': 'negative',\n",
       " 'stars': 3,\n",
       " 'customer_id': 995,\n",
       " 'customer_email': 'user8085@sample_user8085.sample'}"
      ]
     },
     "execution_count": 5,
     "metadata": {},
     "output_type": "execute_result"
    }
   ],
   "source": [
    "reviews[0]"
   ]
  },
  {
   "cell_type": "code",
   "execution_count": 6,
   "metadata": {},
   "outputs": [],
   "source": [
    "for i, review in enumerate(reviews):\n",
    "    reviews[i][\"product_id\"] = review[\"id\"]\n",
    "    del reviews[i][\"id\"]\n",
    "\n",
    "    reviews[i][\"rating\"] = str(reviews[i][\"stars\"])\n",
    "    del reviews[i][\"stars\"]\n",
    "\n",
    "    reviews[i][\"customer_id\"] = str(reviews[i][\"customer_id\"])"
   ]
  },
  {
   "cell_type": "code",
   "execution_count": 7,
   "metadata": {},
   "outputs": [
    {
     "data": {
      "text/plain": [
       "{'title': \"Women's White Cotton Robe - Soft, Absorbent, and Comfortable\",\n",
       " 'description': \"Our women's white cotton robe is the perfect way to relax and unwind after a long day. Made from 100% cotton, this robe is soft, absorbent, and comfortable. It features a shawl collar, two patch pockets, and a self-tie belt. This robe is available in sizes S-XXL.\\n\\nHere are some of the benefits of our women's white cotton robe:\\n\\n* Made from 100% cotton for softness and absorbency\\n* Shawl collar for added warmth\\n* Two patch pockets for storing essentials\\n* Self-tie belt for a secure fit\\n* Available in sizes S-XXL\\n\\nOrder your women's white cotton robe today and experience the ultimate in comfort and relaxation!\",\n",
       " 'category': 'Bath Robe',\n",
       " 'review': \" I was really looking forward to receiving this robe, but unfortunately, I was disappointed. The material is not as soft as I expected and it's not very absorbent. The stitching is also poor quality and the robe started coming apart after just a few washes. I would not recommend this product.\",\n",
       " 'sentiment': 'negative',\n",
       " 'customer_id': '995',\n",
       " 'customer_email': 'user8085@sample_user8085.sample',\n",
       " 'product_id': '1000',\n",
       " 'rating': '3'}"
      ]
     },
     "execution_count": 7,
     "metadata": {},
     "output_type": "execute_result"
    }
   ],
   "source": [
    "reviews[0]"
   ]
  },
  {
   "cell_type": "code",
   "execution_count": 9,
   "metadata": {},
   "outputs": [],
   "source": [
    "with open(\"vertexai_search_reviews.jsonl\", \"w\") as f:\n",
    "    for i, review in enumerate(reviews):\n",
    "        f.write(json.dumps(\n",
    "                {\n",
    "                    \"id\":str(i),\n",
    "                    \"jsonData\": json.dumps(review),\n",
    "                    \"content\": {\n",
    "                        \"mimeType\": \"text/html\", \n",
    "                        \"uri\": f\"gs://csm-dataset/p5-dataset/html_reviews/{i}.html\"\n",
    "                    }\n",
    "                }\n",
    "            ) + \"\\n\"\n",
    "        )"
   ]
  },
  {
   "cell_type": "code",
   "execution_count": 11,
   "metadata": {},
   "outputs": [],
   "source": [
    "html_template = \"\"\"<html><head><meta http-equiv=\"Content-Type\" content=\"text/html; charset=windows-1252\"></head><body><div class=\"row mt-5\">\n",
    "\t<nav aria-label=\"breadcrumb\">\n",
    "\t\t<ol class=\"breadcrumb\">\n",
    "\t\t\t<li class=\"breadcrumb-item\">Product Category</li>\n",
    "\t\t\t<li class=\"breadcrumb-item active\" aria-current=\"page\">{}</li>\n",
    "\t\t</ol>\n",
    "\t</nav>\n",
    "\t<div class=\"card mb-12\">\n",
    "\t\t<div class=\"row g-0\">\n",
    "\t\t\t<div class=\"col-md-8\">\n",
    "\t\t\t\t<div class=\"card-body\">\n",
    "\t\t\t\t\t<h3 class=\"card-title\">{}</h3>\n",
    "                    <p class=\"card-text\"><small>Review</small></p>\n",
    "                    <p class=\"card-text\"><small>{}</small></p>\n",
    "                    <p class=\"card-text\"><small>Sentiment: {}</small></p>\n",
    "\t\t\t\t\t<p class=\"card-text\"><small>Rating: {}</small></p>\n",
    "\t\t\t\t</div>\n",
    "\t\t\t</div>\n",
    "\t\t</div>\n",
    "\t</div>\n",
    "</div>\n",
    "</body></html>\"\"\""
   ]
  },
  {
   "cell_type": "code",
   "execution_count": 12,
   "metadata": {},
   "outputs": [],
   "source": [
    "for i, review in enumerate(reviews):\n",
    "    with open(f\"./dataset/{i}.html\", \"w\") as f:\n",
    "        content = html_template.format(\n",
    "            review[\"category\"],\n",
    "            review[\"title\"],\n",
    "            review[\"review\"],\n",
    "            review[\"sentiment\"],\n",
    "            review[\"rating\"]\n",
    "        )\n",
    "        f.write(content)"
   ]
  },
  {
   "cell_type": "code",
   "execution_count": null,
   "metadata": {},
   "outputs": [],
   "source": []
  }
 ],
 "metadata": {
  "kernelspec": {
   "display_name": "genai-marketing",
   "language": "python",
   "name": "python3"
  },
  "language_info": {
   "codemirror_mode": {
    "name": "ipython",
    "version": 3
   },
   "file_extension": ".py",
   "mimetype": "text/x-python",
   "name": "python",
   "nbconvert_exporter": "python",
   "pygments_lexer": "ipython3",
   "version": "3.11.5"
  }
 },
 "nbformat": 4,
 "nbformat_minor": 2
}
