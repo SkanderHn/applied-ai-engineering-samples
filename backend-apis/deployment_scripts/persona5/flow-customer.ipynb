{
 "cells": [
  {
   "cell_type": "markdown",
   "metadata": {},
   "source": [
    "# Customer\n",
    "\n",
    "The user can select a specific customer to retrieve their information. We will show the following information from a specific user (this is not a search feature, it is just a listing from Firestore):\n",
    " - Profile of the interactions between the user, chatbot, call center and product specialist\n",
    " - User data from CDP\n",
    " - Conversations\n",
    " - Reviews"
   ]
  },
  {
   "cell_type": "markdown",
   "metadata": {},
   "source": [
    "#### Step 1: Show user information\n",
    "\n",
    " - Show the interactions of the user with the website/chatbot/callcenter/specialist\n",
    "   - This is a chart with the user steps\n",
    " - User data from CDP\n",
    "   - Display these information as a row in a table\n",
    " - Conversations\n",
    "   - Display all the conversations from that user as a listing (table)\n",
    "   - Below this table we will include a button to \"Generate Insights\". T\n",
    " - Reviews\n",
    "   - Display all the reviews from that user as a listing (table)"
   ]
  },
  {
   "cell_type": "code",
   "execution_count": 1,
   "metadata": {},
   "outputs": [],
   "source": [
    "import p5_contact_center_analyst"
   ]
  },
  {
   "cell_type": "code",
   "execution_count": 2,
   "metadata": {},
   "outputs": [],
   "source": [
    "data = p5_contact_center_analyst.CustomerInfoRequest(\n",
    "    customer_id=\"0\"\n",
    ")\n",
    "\n",
    "customer = p5_contact_center_analyst.get_customer_info(\n",
    "    data=data\n",
    ")"
   ]
  },
  {
   "cell_type": "code",
   "execution_count": 3,
   "metadata": {},
   "outputs": [
    {
     "name": "stdout",
     "output_type": "stream",
     "text": [
      "Title: Grey Tufted Ottoman with Wooden Legs. Category: Ottoman. Sentiment: positive. Rating: 4\n",
      "Title: Black Headboard Bed with White Sheets and Pillows. Category: Bed. Sentiment: positive. Rating: 4\n",
      "Title: White Bed Frame with Sheets and Pillows. Category: Bed. Sentiment: negative. Rating: 1\n",
      "Title: Workbench with Tools. Category: Tool Cabinet. Sentiment: positive. Rating: 4\n",
      "Title: Women's Colorful Bathrobe - Comfy, Soft and Stylish. Category: Bath Robe. Sentiment: positive. Rating: 4\n",
      "Title: A Brief History of the World: A Stack of Books on a Shelf. Category: Bookcase. Sentiment: neutral. Rating: 4\n"
     ]
    }
   ],
   "source": [
    "for i in customer.conversations:\n",
    "    print(\n",
    "        f'Title: {i[\"title\"]}. Category: {i[\"category\"]}. Sentiment: {i[\"sentiment\"]}. Rating: {i[\"rating\"]}'\n",
    "    )"
   ]
  },
  {
   "cell_type": "code",
   "execution_count": 4,
   "metadata": {},
   "outputs": [
    {
     "data": {
      "text/plain": [
       "{'customer_id': '0',\n",
       " 'is_media_follower': False,\n",
       " 'cart_total': 568.28,\n",
       " 'channel': 'email',\n",
       " 'city': 'Brea',\n",
       " 'last_activity_date': '2023-02-20',\n",
       " 'total_value': '746',\n",
       " 'total_purchases': '14',\n",
       " 'last_purchase_date': '2023-02-05',\n",
       " 'last_sign_up_date': '2021-08-24',\n",
       " 'state': 'California',\n",
       " 'total_emails': '52',\n",
       " 'loyalty_score': '84',\n",
       " 'email': 'user3042@sample_user3042.sample'}"
      ]
     },
     "execution_count": 4,
     "metadata": {},
     "output_type": "execute_result"
    }
   ],
   "source": [
    "customer.customer_info"
   ]
  },
  {
   "cell_type": "code",
   "execution_count": 5,
   "metadata": {},
   "outputs": [
    {
     "data": {
      "text/plain": [
       "{'review': ' The Blue Room Wall Shelf is a nice addition to my living room, providing extra storage space without taking up too much room.',\n",
       " 'sentiment': 'neutral',\n",
       " 'description': 'Add a touch of modern style to your home with our Blue Room Wall Shelf. This shelf is the perfect way to maximize your storage space and keep your belongings organized. With its sleek design and blue finish, this shelf will complement any room in your home. Crafted from high-quality materials, this shelf is built to last and will provide you with years of enjoyment. Easy to install, this shelf can be mounted on any wall in your home. ',\n",
       " 'customer_id': '0',\n",
       " 'customer_email': 'user3042@sample_user3042.sample',\n",
       " 'product_id': '189',\n",
       " 'category': 'Bookcase',\n",
       " 'rating': '3',\n",
       " 'title': 'Blue Room Wall Shelf - Maximize Your Storage Space with Modern Style'}"
      ]
     },
     "execution_count": 5,
     "metadata": {},
     "output_type": "execute_result"
    }
   ],
   "source": [
    "customer.reviews[0]"
   ]
  },
  {
   "cell_type": "markdown",
   "metadata": {},
   "source": [
    "### Step 2 - User selects a specific conversation\n",
    "If the user clicks on a specific conversation (row), it opens the conversation in a frame below this table. The conversation will have the following attributes:\n",
    " - Data: Title, conversation, category, sentiment, rating, customer, agent.\n",
    " - Insights for the conversation"
   ]
  },
  {
   "cell_type": "code",
   "execution_count": 6,
   "metadata": {},
   "outputs": [
    {
     "data": {
      "text/plain": [
       "{'sentiment': 'positive',\n",
       " 'agent_id': 3,\n",
       " 'description': \"Add a touch of elegance to your living room with this grey tufted ottoman with wooden legs. This ottoman is perfect for extra seating or as a footrest, and its tufted design adds a touch of luxury. The wooden legs are sturdy and stylish, and the ottoman is made of high-quality materials that will last for years to come. Whether you're looking for a place to put your feet up or an extra seat for guests, this ottoman is the perfect choice.\",\n",
       " 'customer_id': 0,\n",
       " 'agent_email': 'Linda@customerservices.agents',\n",
       " 'product_id': '635',\n",
       " 'category': 'Ottoman',\n",
       " 'rating': '4',\n",
       " 'title': 'Grey Tufted Ottoman with Wooden Legs',\n",
       " 'customer_email': 'user3042@sample_user3042.sample',\n",
       " 'status': 'not resolved',\n",
       " 'conversation': \" **Customer**: Hi there! I recently purchased the Grey Tufted Ottoman with Wooden Legs from your store, but I'm afraid I need to request an exchange.\\n\\n**Support Agent**: Oh, I'm sorry to hear that. Can you please let me know what seems to be the issue with the ottoman?\\n\\n**Customer**: The color of the ottoman is not what I expected. It appears to be more of a light gray than the dark gray shown in the product photos.\\n\\n**Support Agent**: I understand your concern. The product photos are meant to be as accurate as possible, but there can sometimes be slight variations in color due to lighting and photography. However, I want to make sure you're completely satisfied with your purchase.\\n\\n**Customer**: I appreciate that. I also noticed that the ottoman is a bit smaller than I anticipated. The dimensions listed in the product description seemed larger.\\n\\n**Support Agent**: I apologize for any confusion. The dimensions provided are accurate, but it's possible that the ottoman appears smaller due to the angle of the product photos. To ensure a better understanding, may I suggest you re-measure the ottoman using a measuring tape?\\n\\n**Customer**: Sure, I can do that. But even if the measurements are accurate, I'm still not fully satisfied with the size. It's not as spacious as I had hoped.\\n\\n**Support Agent**: I completely understand your disappointment. Customer satisfaction is our top priority, and we want to make sure you have a positive experience with our products. Let me check the availability of a different ottoman that might better suit your needs. Please bear with me for a moment while I look into this.\\n\\n**Customer**: Okay, thank you for your help so far. I appreciate your understanding.\\n\\n**Support Agent**: You're welcome. I'll be right back with some options for you.\\n\\n**[A few minutes later]**\\n\\n**Support Agent**: I've checked our inventory and found a similar ottoman that might be a better fit for you. It's called the Charcoal Tufted Ottoman with Wooden Legs, and it's a darker shade of gray. It's also slightly larger in size, so it might provide the extra space you're looking for.\\n\\n**Customer**: That sounds promising! Can you please provide me with more details about the Charcoal Tufted Ottoman?\\n\\n**Support Agent**: Sure, here's a brief description: The Charcoal Tufted Ottoman is made of high-quality materials and features a rich, dark gray color. It has a tufted design and sturdy wooden legs, just like the ottoman you currently have. The dimensions are slightly larger, measuring 30 inches in length, 20 inches in width, and 18 inches in height.\\n\\n**Customer**: That does sound like a better option for me. I would like to request an exchange for the Charcoal Tufted Ottoman.\\n\\n**Support Agent**: Excellent! I'm glad we could find a solution that meets your needs. I'll process the exchange request right away. Can you please provide me with your order number so I can locate your purchase?\\n\\n**Customer**: Sure, my order number is #123456.\\n\\n**Support Agent**: Thank you for providing your order number. I've initiated the exchange process, and you should receive an email confirmation shortly. The new ottoman will be shipped to you as soon as possible, and we'll arrange for a pickup of the original ottoman.\\n\\n**Customer**: Thank you very much for your assistance. I'm glad we were able to resolve this issue.\\n\\n**Support Agent**: You're very welcome! We're here to help ensure you have a positive shopping experience with Cymbal Furniture. If you have any further questions or concerns, please don't hesitate to reach out.\\n\\n**[The conversation ends with the customer's issue unresolved, but the support agent has provided options and initiated the exchange process]*\"}"
      ]
     },
     "execution_count": 6,
     "metadata": {},
     "output_type": "execute_result"
    }
   ],
   "source": [
    "# For example if the user selects the conversation #0\n",
    "customer.conversations[0]"
   ]
  },
  {
   "cell_type": "code",
   "execution_count": 7,
   "metadata": {},
   "outputs": [],
   "source": [
    "data = p5_contact_center_analyst.InsightsConversationsRequest(\n",
    "    input_text=customer.conversations[0][\"conversation\"],\n",
    "    multiple=False\n",
    ")\n",
    "insights = p5_contact_center_analyst.extract_insights_conversations(data)"
   ]
  },
  {
   "cell_type": "code",
   "execution_count": null,
   "metadata": {},
   "outputs": [],
   "source": [
    "# When the user clicks on a specific conversation, \n",
    "# we show a Tree representing the steps they took to get to that conversation.\n",
    "# These are the stepts.\n",
    "\n",
    "user_steps = {\n",
    "  '1': 'Home Page',\n",
    "  '2': 'Product Page',\n",
    "  '3': 'Product FAQ',\n",
    "  '4': 'Product Manual',\n",
    "  '5': 'Search',\n",
    "  '6': 'Chatbot',\n",
    "  '7': 'Call Center',\n",
    "  '8': 'Product Specialist'\n",
    "}"
   ]
  },
  {
   "cell_type": "code",
   "execution_count": 8,
   "metadata": {},
   "outputs": [
    {
     "name": "stdout",
     "output_type": "stream",
     "text": [
      " Based on the conversation between the call center agent and the customer, the following next best actions are recommended to improve the customer's experience and reduce the need for direct contact with the call center:\n",
      "\n",
      "- **Improve product documentation, FAQ page, or product page**: The customer mentioned that the color and size of the ottoman were different from what they expected based on the product photos and description. Enhancing the product documentation, FAQ page, or product page with more accurate and detailed information, including multiple images from different angles and precise measurements, can help customers make informed decisions before purchasing.\n",
      "\n",
      "\n",
      "- **Personalize content and recommendations**: By analyzing the customer's preferences, browsing history, and past purchases, the furniture store can provide personalized product recommendations and tailored content that aligns with their interests. This can help customers discover other products that might suit their needs better and reduce the likelihood of dissatisfaction and the need for exchanges.\n",
      "\n",
      "\n",
      "- **Collect feedback on recent interactions or purchases**: After the exchange process is complete, the furniture store should send a follow-up email or survey to the customer to collect feedback on their recent interaction with the call center agent and the overall exchange experience. This feedback can help identify areas for improvement and ensure customer satisfaction.\n"
     ]
    }
   ],
   "source": [
    "print(insights.next_best_action)"
   ]
  },
  {
   "cell_type": "code",
   "execution_count": 9,
   "metadata": {},
   "outputs": [
    {
     "name": "stdout",
     "output_type": "stream",
     "text": [
      " The customer contacted customer support to request an exchange for the Grey Tufted Ottoman with Wooden Legs they purchased from Cymbal Furniture. They expressed two concerns: the color of the ottoman was lighter than expected, appearing more light gray instead of dark gray, and the size was smaller than anticipated despite the dimensions provided in the product description. The support agent acknowledged the customer's concerns and suggested re-measuring the ottoman to ensure accuracy. They then proposed an alternative product, the Charcoal Tufted Ottoman, which better matched the customer's preferences in terms of color and size. The customer agreed to the exchange, and the support agent initiated the process, providing the customer with an email confirmation. The original ottoman would be picked up, and the new one shipped as soon as possible.\n"
     ]
    }
   ],
   "source": [
    "print(insights.summary)"
   ]
  },
  {
   "cell_type": "code",
   "execution_count": 10,
   "metadata": {},
   "outputs": [
    {
     "name": "stdout",
     "output_type": "stream",
     "text": [
      " **What went well:**\n",
      "\n",
      "- The support agent responded promptly and was polite and understanding throughout the conversation.\n",
      "- The support agent actively listened to the customer's concerns and attempted to understand the issue from the customer's perspective.\n",
      "- The support agent provided potential solutions, including a product exchange, to address the customer's concerns.\n",
      "- The support agent initiated the exchange process promptly and provided the customer with an order number for reference.\n",
      "\n",
      "**What can be improved:**\n",
      "\n",
      "- The product photos could be improved to better represent the actual color and size of the ottoman.\n",
      "- The product description could include more detailed measurements and dimensions to avoid confusion.\n",
      "- The support agent could have offered additional alternatives or suggestions to further assist the customer in finding a suitable product.\n",
      "- The support agent could have provided a more proactive solution, such as offering a refund or discount, to ensure complete customer satisfaction.\n",
      "- The conversation ended with the customer's issue unresolved, as the exchange process may take some time. The support agent could have set expectations or provided a timeline for the exchange to be completed.\n"
     ]
    }
   ],
   "source": [
    "print(insights.insights)"
   ]
  },
  {
   "cell_type": "markdown",
   "metadata": {},
   "source": [
    "### Step 3 - Click to generate insights for all conversations or all reviews\n",
    "If the user clicks the button to generate insights for all the conversations or all reviews."
   ]
  },
  {
   "cell_type": "code",
   "execution_count": 11,
   "metadata": {},
   "outputs": [
    {
     "data": {
      "text/plain": [
       "[{'sentiment': 'positive',\n",
       "  'agent_id': 3,\n",
       "  'description': \"Add a touch of elegance to your living room with this grey tufted ottoman with wooden legs. This ottoman is perfect for extra seating or as a footrest, and its tufted design adds a touch of luxury. The wooden legs are sturdy and stylish, and the ottoman is made of high-quality materials that will last for years to come. Whether you're looking for a place to put your feet up or an extra seat for guests, this ottoman is the perfect choice.\",\n",
       "  'customer_id': 0,\n",
       "  'agent_email': 'Linda@customerservices.agents',\n",
       "  'product_id': '635',\n",
       "  'category': 'Ottoman',\n",
       "  'rating': '4',\n",
       "  'title': 'Grey Tufted Ottoman with Wooden Legs',\n",
       "  'customer_email': 'user3042@sample_user3042.sample',\n",
       "  'status': 'not resolved',\n",
       "  'conversation': \" **Customer**: Hi there! I recently purchased the Grey Tufted Ottoman with Wooden Legs from your store, but I'm afraid I need to request an exchange.\\n\\n**Support Agent**: Oh, I'm sorry to hear that. Can you please let me know what seems to be the issue with the ottoman?\\n\\n**Customer**: The color of the ottoman is not what I expected. It appears to be more of a light gray than the dark gray shown in the product photos.\\n\\n**Support Agent**: I understand your concern. The product photos are meant to be as accurate as possible, but there can sometimes be slight variations in color due to lighting and photography. However, I want to make sure you're completely satisfied with your purchase.\\n\\n**Customer**: I appreciate that. I also noticed that the ottoman is a bit smaller than I anticipated. The dimensions listed in the product description seemed larger.\\n\\n**Support Agent**: I apologize for any confusion. The dimensions provided are accurate, but it's possible that the ottoman appears smaller due to the angle of the product photos. To ensure a better understanding, may I suggest you re-measure the ottoman using a measuring tape?\\n\\n**Customer**: Sure, I can do that. But even if the measurements are accurate, I'm still not fully satisfied with the size. It's not as spacious as I had hoped.\\n\\n**Support Agent**: I completely understand your disappointment. Customer satisfaction is our top priority, and we want to make sure you have a positive experience with our products. Let me check the availability of a different ottoman that might better suit your needs. Please bear with me for a moment while I look into this.\\n\\n**Customer**: Okay, thank you for your help so far. I appreciate your understanding.\\n\\n**Support Agent**: You're welcome. I'll be right back with some options for you.\\n\\n**[A few minutes later]**\\n\\n**Support Agent**: I've checked our inventory and found a similar ottoman that might be a better fit for you. It's called the Charcoal Tufted Ottoman with Wooden Legs, and it's a darker shade of gray. It's also slightly larger in size, so it might provide the extra space you're looking for.\\n\\n**Customer**: That sounds promising! Can you please provide me with more details about the Charcoal Tufted Ottoman?\\n\\n**Support Agent**: Sure, here's a brief description: The Charcoal Tufted Ottoman is made of high-quality materials and features a rich, dark gray color. It has a tufted design and sturdy wooden legs, just like the ottoman you currently have. The dimensions are slightly larger, measuring 30 inches in length, 20 inches in width, and 18 inches in height.\\n\\n**Customer**: That does sound like a better option for me. I would like to request an exchange for the Charcoal Tufted Ottoman.\\n\\n**Support Agent**: Excellent! I'm glad we could find a solution that meets your needs. I'll process the exchange request right away. Can you please provide me with your order number so I can locate your purchase?\\n\\n**Customer**: Sure, my order number is #123456.\\n\\n**Support Agent**: Thank you for providing your order number. I've initiated the exchange process, and you should receive an email confirmation shortly. The new ottoman will be shipped to you as soon as possible, and we'll arrange for a pickup of the original ottoman.\\n\\n**Customer**: Thank you very much for your assistance. I'm glad we were able to resolve this issue.\\n\\n**Support Agent**: You're very welcome! We're here to help ensure you have a positive shopping experience with Cymbal Furniture. If you have any further questions or concerns, please don't hesitate to reach out.\\n\\n**[The conversation ends with the customer's issue unresolved, but the support agent has provided options and initiated the exchange process]*\"},\n",
       " {'sentiment': 'positive',\n",
       "  'agent_id': 33,\n",
       "  'description': \"This stunning black headboard bed with white sheets and pillows is the perfect addition to any bedroom. The bed is made of solid wood and features a sleek, modern design. The headboard is upholstered in a soft, black fabric and is accented with silver nailhead trim. The bed comes with a set of white sheets and pillows, so you can get a good night's sleep right away. This bed is sure to make a statement in any bedroom.\",\n",
       "  'customer_id': 0,\n",
       "  'agent_email': 'Anthony@customerservices.agents',\n",
       "  'product_id': '82',\n",
       "  'category': 'Bed',\n",
       "  'rating': '4',\n",
       "  'title': 'Black Headboard Bed with White Sheets and Pillows',\n",
       "  'customer_email': 'user3042@sample_user3042.sample',\n",
       "  'status': 'not resolved',\n",
       "  'conversation': \" **Customer**: Hi there! I recently purchased the Black Headboard Bed with White Sheets and Pillows from your store and I'm having some trouble assembling it. Can you help me with that?\\n\\n**Support Agent**: Of course! I'd be happy to help you with that. Could you please provide me with your order number so I can pull up your purchase details?\\n\\n**Customer**: Sure, my order number is #123456789.\\n\\n**Support Agent**: Thank you for providing your order number. Let me just pull up your order details here. Okay, I see that you purchased the Black Headboard Bed with White Sheets and Pillows on [date]. Is that correct?\\n\\n**Customer**: Yes, that's correct.\\n\\n**Support Agent**: Great! Now, let's get started with the troubleshooting. Could you please describe the specific issue you're facing while assembling the bed?\\n\\n**Customer**: The issue is with the headboard. I can't seem to attach it properly to the bed frame. The screws don't seem to fit.\\n\\n**Support Agent**: I understand. Let's try to figure this out together. Could you please check if there are any additional screws or parts included in the packaging that might be needed for the headboard attachment?\\n\\n**Customer**: Yes, I found a small pack of screws and some dowels. Are those the ones I need?\\n\\n**Support Agent**: Yes, those are the ones. The dowels are used to align the headboard with the bed frame, and then the screws are used to secure it in place. Let me guide you through the process.\\n\\n**Customer**: Okay, I'm ready.\\n\\n**Support Agent**: Perfect! First, insert the dowels into the holes on the headboard and the bed frame. Make sure they are aligned properly. Then, take the screws and start tightening them to secure the headboard to the bed frame.\\n\\n**Customer**: I'm doing that, but the screws are still not going in properly. They seem to be too short.\\n\\n**Support Agent**: I see. It seems like there might be a mix-up with the screws. Let me check something here. Please bear with me for a moment.\\n\\n**Customer**: Sure, take your time.\\n\\n**Support Agent**: After checking our records, it appears that there was indeed an error in the packaging of your bed set. The screws included were not the correct size for the headboard attachment. I sincerely apologize for this inconvenience.\\n\\n**Customer**: Oh, that's frustrating. So what should I do now?\\n\\n**Support Agent**: Don't worry, we'll get this resolved for you. I'll immediately initiate a request for the correct screws to be dispatched to your address. They should reach you within the next 2-3 business days.\\n\\n**Customer**: Okay, that's a relief. But I still need the bed, you know. Can't you send someone to fix it?\\n\\n**Support Agent**: Unfortunately, we don't have any technicians available for immediate dispatch. However, I can offer you a partial refund for the inconvenience caused. Would that be acceptable to you?\\n\\n**Customer**: Well, I guess that's something. But I'm still not happy about this whole situation.\\n\\n**Support Agent**: I completely understand your frustration, and I want to assure you that we're doing everything we can to make this right. Once you receive the correct screws, assembling the bed should be a breeze. In the meantime, please accept our apologies for the trouble you've faced.\\n\\n**Customer**: Alright, I'll wait for the screws then. But I'm not going to shop from your store again.\\n\\n**Support Agent**: I'm sorry to hear that, but I hope you'll reconsider in the future. We value your satisfaction and will strive to improve our services to avoid such issues in the future.\\n\\n**Customer**: We'll see. Thanks for your help anyway.\\n\\n**Support Agent**: You're welcome. If you have any further questions or concerns, please don't hesitate to reach out. We're here to assist you.\\n\\n**Customer**: Okay, bye.\\n\\n**Support Agent**: Goodbye, and have a nice day\"},\n",
       " {'sentiment': 'negative',\n",
       "  'agent_id': 2,\n",
       "  'description': \"This bed frame is perfect for any bedroom. It's made of solid wood and has a white finish. The bed comes with sheets and pillows, so you can get a good night's sleep right away. The bed is also easy to assemble, so you can have it set up in no time. \",\n",
       "  'customer_id': 0,\n",
       "  'agent_email': 'Jennifer@customerservices.agents',\n",
       "  'product_id': '86',\n",
       "  'category': 'Bed',\n",
       "  'rating': '1',\n",
       "  'title': 'White Bed Frame with Sheets and Pillows',\n",
       "  'customer_email': 'user3042@sample_user3042.sample',\n",
       "  'status': 'resolved',\n",
       "  'conversation': \" **Customer**: Hi there! I'm interested in purchasing the White Bed Frame with Sheets and Pillows from your store. Can you tell me a bit more about the product?\\n\\n**Support Agent**: Absolutely! The White Bed Frame with Sheets and Pillows is a great choice for anyone looking for a comfortable and stylish bed. It's made of solid wood and has a beautiful white finish that will complement any bedroom décor. The bed also comes with sheets and pillows, so you can get a good night's sleep right away.\\n\\n**Customer**: That sounds perfect! I'm also curious about the dimensions of the bed frame. Will it fit a standard mattress?\\n\\n**Support Agent**: Yes, the bed frame is designed to fit a standard mattress. The dimensions of the bed frame are 78 inches long, 58 inches wide, and 36 inches high.\\n\\n**Customer**: Great! And how easy is it to assemble the bed frame? I'm not very handy, so I'm looking for something that's easy to put together.\\n\\n**Support Agent**: The bed frame is very easy to assemble. It comes with all the necessary hardware and instructions, and it can be assembled in just a few minutes.\\n\\n**Customer**: That's exactly what I need. I think I'm ready to place an order. Do you offer free shipping?\\n\\n**Support Agent**: Yes, we offer free shipping on all orders over $50. Your order qualifies for free shipping, so you won't have to pay any additional fees.\\n\\n**Customer**: Perfect! I'll go ahead and place my order now. Thank you for your help!\\n\\n**Support Agent**: You're very welcome! I'm glad I could help. If you have any other questions, please don't hesitate to contact us\"},\n",
       " {'sentiment': 'positive',\n",
       "  'agent_id': 1,\n",
       "  'description': \"This sturdy workbench is made of solid wood and features a variety of tools, including a saw, hammer, screwdriver, and wrench. It's the perfect workstation for any DIYer or hobbyist.\",\n",
       "  'customer_id': 0,\n",
       "  'agent_email': 'Patricia@customerservices.agents',\n",
       "  'product_id': '867',\n",
       "  'category': 'Tool Cabinet',\n",
       "  'rating': '4',\n",
       "  'title': 'Workbench with Tools',\n",
       "  'customer_email': 'user3042@sample_user3042.sample',\n",
       "  'status': 'not resolved',\n",
       "  'conversation': ' **Customer**: Hi there! I recently returned a Workbench with Tools that I had ordered from your store. I\\'m wondering if you could provide me with an update on the status of my return.\\n\\n**Support Agent**: Hello! Thank you for reaching out. I\\'ll be happy to assist you with your return. Could you please provide me with your order number or the email address associated with your account?\\n\\n**Customer**: Sure, my order number is #123456789.\\n\\n**Support Agent**: Thank you for providing your order number. Let me pull up your return request. It appears that your return was received at our warehouse on [date]. We are currently processing the return and will issue a refund within 5-7 business days.\\n\\n**Customer**: Okay, that\\'s good to know. I was hoping to get the refund a bit sooner, as I need the money for another purchase. Is there any way to expedite the process?\\n\\n**Support Agent**: I understand your urgency. Unfortunately, we are unable to expedite the refund process at this time. However, I can assure you that your refund will be processed as soon as possible.\\n\\n**Customer**: I see. That\\'s a bit disappointing, but I understand. Is there a way for me to track the status of my refund?\\n\\n**Support Agent**: Yes, you can track the status of your refund by logging into your account on our website. Under the \"My Orders\" section, you will find the details of your return request, including the status of your refund.\\n\\n**Customer**: Perfect! I\\'ll keep an eye on my account then. Thank you for your help.\\n\\n**Support Agent**: You\\'re welcome! If you have any further questions or concerns, please don\\'t hesitate to contact us. We\\'re here to help.\\n\\n**Customer**: Alright, thanks again. Have a good day!\\n\\n**Support Agent**: You too! Have a great day!\\n\\n[End of conversation]\\n\\n'},\n",
       " {'sentiment': 'positive',\n",
       "  'agent_id': 16,\n",
       "  'description': \"This colorful bathrobe for women is the perfect way to relax and unwind after a long day. Made from soft and comfortable cotton, this robe is gentle on your skin and will keep you warm and cozy. The vibrant colors and stylish design make this robe a fashionable choice for any woman. The robe features a tie around the waist for a secure and comfortable fit, and two pockets for convenience. Whether you're getting ready for bed, lounging around the house, or enjoying a spa day, this robe is the perfect choice for ultimate comfort and relaxation.\",\n",
       "  'customer_id': 0,\n",
       "  'agent_email': 'Kimberly@customerservices.agents',\n",
       "  'product_id': '10',\n",
       "  'category': 'Bath Robe',\n",
       "  'rating': '4',\n",
       "  'title': \"Women's Colorful Bathrobe - Comfy, Soft and Stylish\",\n",
       "  'customer_email': 'user3042@sample_user3042.sample',\n",
       "  'status': 'resolved',\n",
       "  'conversation': \" **Customer**: Hi there! I recently purchased the Women's Colorful Bathrobe from your store, but I'm afraid it doesn't fit quite right. Is it possible to exchange it for a larger size?\\n\\n**Support Agent**: Hello! Thank you for reaching out to Cymbal Furniture. I'm sorry to hear that the bathrobe doesn't fit as expected. We definitely want to make sure you're comfortable and satisfied with your purchase. Let me assist you with the exchange process.\\n\\n**Customer**: That's great to hear. The bathrobe itself is lovely, and the material feels amazing. I just need a size up for a better fit.\\n\\n**Support Agent**: I completely understand. To initiate the exchange, could you please provide me with your order number and the size you would like to exchange for?\\n\\n**Customer**: Sure, my order number is #123456. And I would like to exchange for a size large.\\n\\n**Support Agent**: Thank you for providing the order number. I've located your order in our system. To process the exchange, we'll need to send you a return shipping label so you can send back the current bathrobe. Once we receive the returned item, we'll dispatch the larger size to you right away.\\n\\n**Customer**: That sounds perfect. How long will the exchange process take?\\n\\n**Support Agent**: Typically, the exchange process takes around 7-10 business days from the day you send back the original item. We'll keep you updated via email throughout the process, so you can track the status of your exchange.\\n\\n**Customer**: That's great! Thank you so much for your help. I really appreciate your prompt response and assistance.\\n\\n**Support Agent**: You're very welcome! We're here to ensure your satisfaction. If you have any further questions or concerns, please don't hesitate to reach out. Have a wonderful day!\\n\\n**Customer**: Thank you! You too\"},\n",
       " {'sentiment': 'neutral',\n",
       "  'agent_id': 15,\n",
       "  'description': \"This stack of books on a shelf includes 'A Brief History of the World', a book that will give you a comprehensive overview of the history of the world, from the earliest civilizations to the present day. This book is perfect for anyone who wants to learn more about the world around them.\",\n",
       "  'customer_id': 0,\n",
       "  'agent_email': 'Ashley@customerservices.agents',\n",
       "  'product_id': '176',\n",
       "  'category': 'Bookcase',\n",
       "  'rating': '4',\n",
       "  'title': 'A Brief History of the World: A Stack of Books on a Shelf',\n",
       "  'customer_email': 'user3042@sample_user3042.sample',\n",
       "  'status': 'resolved',\n",
       "  'conversation': ' **Customer**: Hi there! I recently purchased the book \"A Brief History of the World\" from your store, but I\\'m afraid I need to request a return.\\n\\n**Support Agent**: Oh, I\\'m sorry to hear that. Can you please let me know the reason for the return?\\n\\n**Customer**: Well, I was expecting a physical book, but what I received was just a stack of blank pages. I think there might have been a mix-up in the packaging process.\\n\\n**Support Agent**: I see. Thank you for bringing this to our attention. We sincerely apologize for the inconvenience caused. To ensure a smooth return process, could you please provide me with your order number and the email address associated with your Cymbal Furniture account?\\n\\n**Customer**: Sure, my order number is #123456 and my email address is username@example.com.\\n\\n**Support Agent**: Thank you for providing the necessary information. I\\'ve gone ahead and processed the return request on our system. You should receive a confirmation email shortly. Once we receive the returned item, we\\'ll initiate the refund process, which may take a few business days to reflect in your account.\\n\\n**Customer**: That\\'s great! Thank you for your prompt assistance. I appreciate your help in resolving this issue.\\n\\n**Support Agent**: You\\'re very welcome! We strive to provide the best possible experience for our customers, and we\\'re glad that we could assist you. If you have any further questions or concerns, please don\\'t hesitate to reach out.\\n\\n**Customer**: Thank you once again for your excellent customer service. I\\'ll keep Cymbal Furniture in mind for future purchases.\\n\\n**Support Agent**: We\\'re delighted to hear that. Thank you for choosing Cymbal Furniture, and we look forward to serving you again soon. Have a wonderful day!\\n\\n**Customer**: You too! Goodbye'}]"
      ]
     },
     "execution_count": 11,
     "metadata": {},
     "output_type": "execute_result"
    }
   ],
   "source": [
    "customer.conversations"
   ]
  },
  {
   "cell_type": "code",
   "execution_count": 12,
   "metadata": {},
   "outputs": [],
   "source": [
    "# Conversations\n",
    "group_conversations = \"\"\n",
    "for i in customer.conversations:\n",
    "    group_conversations += \"**START conversation**\\n\"\n",
    "    group_conversations += i[\"conversation\"]\n",
    "    group_conversations += \"\\n**END conversation**\\n\"\n",
    "\n",
    "\n",
    "data = p5_contact_center_analyst.InsightsConversationsRequest(\n",
    "    input_text=group_conversations,\n",
    "    multiple=True\n",
    ")\n",
    "conversations_insights = p5_contact_center_analyst.extract_insights_conversations(data=data)"
   ]
  },
  {
   "cell_type": "code",
   "execution_count": 13,
   "metadata": {},
   "outputs": [
    {
     "name": "stdout",
     "output_type": "stream",
     "text": [
      " **Positive aspects:**\n",
      "\n",
      "- **Proactive problem-solving**: In the first conversation, the support agent takes the initiative to suggest alternative products that might better suit the customer's needs. This shows a genuine desire to resolve the customer's issue and provide a positive shopping experience.\n",
      "\n",
      "- **Detailed product information**: In the third conversation, the support agent provides comprehensive details about the product, including dimensions and assembly instructions. This helps the customer make an informed decision about the purchase.\n",
      "\n",
      "- **Efficient return process**: In the fourth conversation, the support agent outlines the return process clearly and provides an estimated timeline for the refund. This helps manage the customer's expectations and ensures a smooth return experience.\n",
      "\n",
      "- **Prompt response and resolution**: In the fifth conversation, the support agent acknowledges the customer's issue and immediately initiates the exchange process. They also provide an estimated timeline for the exchange, which demonstrates efficiency in resolving customer concerns.\n",
      "\n",
      "**Areas for improvement:**\n",
      "\n",
      "- **Accuracy in product packaging**: In the second conversation, there was an error in the packaging of the bed set, resulting in incorrect screws for the headboard attachment. This highlights the need for better quality control measures to ensure accurate product packaging.\n",
      "\n",
      "- **Expedited refund process**: In the fourth conversation, the customer expresses a desire for a quicker refund. While the support agent explains that expediting the refund is not possible, exploring alternative options or providing additional support during the waiting period could enhance customer satisfaction.\n",
      "\n",
      "- **Handling customer frustration**: In the second conversation, the customer expresses frustration due to the inconvenience caused by the incorrect screws. While the support agent apologizes and offers a partial refund, addressing the customer's emotions and empathizing with their situation could further defuse the frustration and improve the customer experience.\n",
      "\n",
      "- **Managing customer expectations**: In the sixth conversation, the customer receives a stack of blank pages instead of the expected book. While the support agent promptly initiates the return and refund process, proactive measures to ensure accurate order fulfillment and quality checks could prevent such mix-ups in the first place.\n",
      "\n",
      "Overall, the conversations demonstrate a commitment to customer satisfaction and a willingness to resolve issues. By addressing the areas for improvement, Cymbal Furniture can enhance its customer service and provide a more positive shopping experience for its customers.\n"
     ]
    }
   ],
   "source": [
    "print(conversations_insights.insights)"
   ]
  },
  {
   "cell_type": "code",
   "execution_count": 14,
   "metadata": {},
   "outputs": [],
   "source": [
    "# Reviews\n",
    "group_reviews = \"\"\n",
    "for i in customer.reviews:\n",
    "    group_reviews += \"**START conversation**\\n\"\n",
    "    group_reviews += i[\"review\"]\n",
    "    group_reviews += \"\\n**END conversation**\\n\"\n",
    "\n",
    "\n",
    "data = p5_contact_center_analyst.InsightsReviewsRequest(\n",
    "    input_text=group_reviews,\n",
    ")\n",
    "reviews_insights = p5_contact_center_analyst.extract_insights_reviews(data=data)"
   ]
  },
  {
   "cell_type": "code",
   "execution_count": 18,
   "metadata": {},
   "outputs": [
    {
     "name": "stdout",
     "output_type": "stream",
     "text": [
      " **Positive feedback:**\n",
      "\n",
      "- Customers appreciate products that are well-made, durable, and stylish.\n",
      "- Customers value comfort and functionality.\n",
      "- Customers are happy when products meet or exceed their expectations.\n",
      "- Customers appreciate thoughtful touches, such as the inclusion of a flower vase with a console table.\n",
      "- Customers are pleased with products that are easy to assemble.\n",
      "\n",
      "**Suggestions for improvement:**\n",
      "\n",
      "- Improve the durability of products, especially those intended for outdoor use.\n",
      "- Ensure that product descriptions are accurate and do not overpromise.\n",
      "- Improve the quality control process to reduce the number of products that arrive damaged or with missing parts.\n",
      "- Consider offering a wider range of products to meet the needs of different customers.\n",
      "- Improve the customer service experience by addressing customer concerns promptly and efficiently.\n"
     ]
    }
   ],
   "source": [
    "print(reviews_insights.insights)"
   ]
  },
  {
   "cell_type": "code",
   "execution_count": null,
   "metadata": {},
   "outputs": [],
   "source": []
  }
 ],
 "metadata": {
  "kernelspec": {
   "display_name": "genai-marketing",
   "language": "python",
   "name": "python3"
  },
  "language_info": {
   "codemirror_mode": {
    "name": "ipython",
    "version": 3
   },
   "file_extension": ".py",
   "mimetype": "text/x-python",
   "name": "python",
   "nbconvert_exporter": "python",
   "pygments_lexer": "ipython3",
   "version": "3.11.5"
  }
 },
 "nbformat": 4,
 "nbformat_minor": 2
}
