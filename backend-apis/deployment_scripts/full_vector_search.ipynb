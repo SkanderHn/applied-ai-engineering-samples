{
 "cells": [
  {
   "cell_type": "code",
   "execution_count": null,
   "metadata": {},
   "outputs": [],
   "source": [
    "import base64\n",
    "import json\n",
    "from google.cloud import aiplatform\n",
    "from google.protobuf import struct_pb2\n",
    "import typing\n",
    "import numpy as np"
   ]
  },
  {
   "cell_type": "markdown",
   "metadata": {},
   "source": [
    "### Delete datapoints"
   ]
  },
  {
   "cell_type": "code",
   "execution_count": null,
   "metadata": {},
   "outputs": [],
   "source": [
    "with open(\"./metadata.json\", \"r\") as f:\n",
    "    file = f.readlines()\n",
    "\n",
    "datapoints = []\n",
    "for line in file:\n",
    "    datapoints.append(\n",
    "        json.loads(line)\n",
    "    )\n",
    "\n",
    "datapoints = json.dumps({\n",
    "    \"datapoint_ids\": [d for d in datapoints]\n",
    "})"
   ]
  },
  {
   "cell_type": "code",
   "execution_count": null,
   "metadata": {},
   "outputs": [],
   "source": [
    "!curl -X POST\\\n",
    "-H \"Content-Type: application/json\" \\\n",
    "-H \"Authorization: Bearer `gcloud auth print-access-token`\" \\\n",
    "\"https://us-central1-aiplatform.googleapis.com/v1/projects/rl-llm-dev/locations/us-central1/indexes/7799676002698788864:removeDatapoints\" \\\n",
    "-d '{\"datapoint_ids\": [\"0099c35e4078761606d490c55eef2772\", \"54cbb435a80a5fa235cc816a21932724\", \"2417a1d47efb57150307cfa1eddeced4\", \"30ab1b8b64f2ce0caec403bd8551fd58\", \"8d3650c9d29868c93aa635f19d1a06f0\", \"14160c203e8b0b843f93a093630574b6\", \"49554f6b8744ca58a70262b7f6fe44bb\", \"4da0557fca4bc721c29de46b7e6ba8c7\", \"a343fd32d4c58bed05dc25cf37a6fb76\", \"e372412d43020526115aee3efab41626\"]}'"
   ]
  },
  {
   "cell_type": "code",
   "execution_count": null,
   "metadata": {},
   "outputs": [],
   "source": [
    "!curl -X GET\\\n",
    "-H \"Content-Type: application/json\" \\\n",
    "-H \"Authorization: Bearer `gcloud auth print-access-token`\" \\\n",
    "\"https://us-central1-aiplatform.googleapis.com/v1/projects/rl-llm-dev/locations/us-central1/indexes/7799676002698788864\""
   ]
  },
  {
   "cell_type": "code",
   "execution_count": null,
   "metadata": {},
   "outputs": [],
   "source": [
    "! curl -X GET \\\n",
    "    -H \"Authorization: Bearer $(gcloud auth print-access-token)\" \\\n",
    "    \"https://us-central1-aiplatform.googleapis.com/v1/projects/rl-llm-dev/locations/us-central1/indexEndpoints\""
   ]
  },
  {
   "cell_type": "markdown",
   "metadata": {},
   "source": [
    "# Upsert with cURL"
   ]
  },
  {
   "cell_type": "code",
   "execution_count": null,
   "metadata": {},
   "outputs": [],
   "source": [
    "!curl \\\n",
    "-H \"Content-Type: application/json\" \\\n",
    "-H \"Authorization: Bearer `gcloud auth print-access-token`\" \\\n",
    "\"https://us-central1-aiplatform.googleapis.com/v1/projects/rl-llm-dev/locations/us-central1/indexes/7799676002698788864:upsertDatapoints\" \\\n",
    "-d @metadata.json"
   ]
  },
  {
   "cell_type": "markdown",
   "metadata": {},
   "source": [
    "# Create Index"
   ]
  },
  {
   "cell_type": "code",
   "execution_count": null,
   "metadata": {},
   "outputs": [],
   "source": [
    "import argparse\n",
    "import json\n",
    "import time\n",
    "\n",
    "from google.cloud import aiplatform_v1beta1 as aiplatform\n",
    "from google.protobuf import struct_pb2\n",
    "from google.protobuf.json_format import ParseDict"
   ]
  },
  {
   "cell_type": "code",
   "execution_count": null,
   "metadata": {},
   "outputs": [],
   "source": [
    "def create_vector_index(\n",
    "        project_id: str,\n",
    "        location: str,\n",
    "        display_name: str,\n",
    "        description: str,\n",
    "        metadata_schema_uri: str,\n",
    "        metadata: struct_pb2.Value,\n",
    "        index_update_method: aiplatform.Index.IndexUpdateMethod\n",
    "):\n",
    "    index_client = aiplatform.IndexServiceClient()\n",
    "    index = aiplatform.Index()\n",
    "    index.display_name = display_name\n",
    "    index.description = description\n",
    "    index.metadata_schema_uri = metadata_schema_uri\n",
    "    index.metadata = metadata\n",
    "    index.index_update_method = index_update_method\n",
    "    \n",
    "    request = aiplatform.CreateIndexRequest(\n",
    "        parent=f\"projects/{project_id}/locations/{location}\",\n",
    "        index=index\n",
    "    )\n",
    "\n",
    "    op = index_client.create_index(request=request)\n",
    "    op.result()\n",
    "\n",
    "    return op.metadata"
   ]
  },
  {
   "cell_type": "code",
   "execution_count": null,
   "metadata": {},
   "outputs": [],
   "source": [
    "project_id = \"rl-llm-dev\"\n",
    "location = \"us-central1\"\n",
    "display_name = \"csm-multimodal-vector-search\"\n",
    "description = \"CSM Multimodal Vector Search\"\n",
    "metadata = {\n",
    "    \"contentsDeltaUri\": \"gs://csm-solution-dataset/metadata/vector_metadata.json\",\n",
    "    \"config\":{\n",
    "        \"dimensions\": 1408,\n",
    "        \"approximateNeighborsCount\": 150,\n",
    "        \"distanceMeasureType\": \"DOT_PRODUCT_DISTANCE\",\n",
    "        \"featureNormType\": \"UNIT_L2_NORM\",\n",
    "        \"algorithmConfig\": {\n",
    "            \"treeAhConfig\": {\n",
    "                \"leafNodeEmbeddingCount\": 1000, \n",
    "                \"fractionLeafNodesToSearch\": 0.05\n",
    "            }\n",
    "        }\n",
    "    }\n",
    "}\n",
    "\n",
    "struct = struct_pb2.Struct()\n",
    "ParseDict(metadata, struct)\n",
    "schema_value = struct_pb2.Value(struct_value=struct)\n",
    "\n",
    "index_update_method = aiplatform.Index.IndexUpdateMethod(2)\n",
    "metadata_schema_uri = \"gs://google-cloud-aiplatform/schema/matchingengine/metadata/nearest_neighbor_search_1.0.0.yaml\""
   ]
  },
  {
   "cell_type": "code",
   "execution_count": null,
   "metadata": {},
   "outputs": [],
   "source": [
    "create_vector_index(\n",
    "    project_id=project_id,\n",
    "    location=location,\n",
    "    display_name=display_name,\n",
    "    description=description,\n",
    "    metadata_schema_uri=metadata_schema_uri,\n",
    "    metadata=schema_value,\n",
    "    index_update_method=index_update_method\n",
    ")"
   ]
  },
  {
   "cell_type": "code",
   "execution_count": null,
   "metadata": {},
   "outputs": [],
   "source": [
    "client = aiplatform.MetadataServiceClient()"
   ]
  },
  {
   "cell_type": "code",
   "execution_count": null,
   "metadata": {},
   "outputs": [],
   "source": [
    "client.list_metadata_stores()"
   ]
  },
  {
   "cell_type": "code",
   "execution_count": null,
   "metadata": {},
   "outputs": [],
   "source": [
    "from google.cloud import aiplatform_v1beta1\n",
    "\n",
    "def sample_list_metadata_schemas():\n",
    "    # Create a client\n",
    "    client = aiplatform_v1beta1.MetadataServiceClient(\n",
    "        client_options={\n",
    "            \"api_endpoint\": \"us-central1-aiplatform.googleapis.com\"\n",
    "        }\n",
    "    )\n",
    "\n",
    "    # Initialize request argument(s)\n",
    "    request = aiplatform_v1beta1.ListMetadataSchemasRequest(\n",
    "        parent=\"projects/rl-llm-dev/locations/us-central1/metadataStores/default\",\n",
    "    )\n",
    "\n",
    "    # Make the request\n",
    "    page_result = client.list_metadata_schemas(request=request)\n",
    "\n",
    "    # Handle the response\n",
    "    for response in page_result:\n",
    "        print(response)"
   ]
  },
  {
   "cell_type": "code",
   "execution_count": null,
   "metadata": {},
   "outputs": [],
   "source": [
    "sample_list_metadata_schemas()"
   ]
  },
  {
   "cell_type": "code",
   "execution_count": null,
   "metadata": {},
   "outputs": [],
   "source": [
    "from google.cloud import aiplatform_v1 as aiplatform\n",
    "def sample_list_metadata_stores():\n",
    "    # Create a client\n",
    "    client = aiplatform.MetadataServiceClient(\n",
    "        client_options={\n",
    "            \"api_endpoint\": \"us-central1-aiplatform.googleapis.com\"\n",
    "        }\n",
    "    )\n",
    "\n",
    "    # Initialize request argument(s)\n",
    "    request = aiplatform.ListMetadataStoresRequest(\n",
    "        parent=\"projects/rl-llm-dev/locations/us-central1\",\n",
    "    )\n",
    "\n",
    "    # Make the request\n",
    "    page_result = client.list_metadata_stores(request=request)\n",
    "\n",
    "    # Handle the response\n",
    "    for response in page_result:\n",
    "        print(response)"
   ]
  },
  {
   "cell_type": "code",
   "execution_count": null,
   "metadata": {},
   "outputs": [],
   "source": [
    "sample_list_metadata_stores()"
   ]
  },
  {
   "cell_type": "code",
   "execution_count": null,
   "metadata": {},
   "outputs": [],
   "source": [
    "import json\n",
    "\n",
    "with open(\"./dataset/vector_metadata.json\") as f:\n",
    "    vecto_upsert = json.loads(f.read())"
   ]
  },
  {
   "cell_type": "code",
   "execution_count": null,
   "metadata": {},
   "outputs": [],
   "source": [
    "vecto_upsert.keys()"
   ]
  },
  {
   "cell_type": "code",
   "execution_count": null,
   "metadata": {},
   "outputs": [],
   "source": [
    "new_vector = [\n",
    "    {\"id\": i[\"datapoint_id\"],\n",
    "     \"embedding\": i[\"feature_vector\"]} for i in vecto_upsert[\"datapoints\"]]"
   ]
  },
  {
   "cell_type": "code",
   "execution_count": null,
   "metadata": {},
   "outputs": [],
   "source": [
    "with open(\"./dataset/vector_create_index_data.json\", \"w\") as f:\n",
    "    for i in new_vector:\n",
    "        f.write(json.dumps(i) + \"\\n\")"
   ]
  },
  {
   "cell_type": "code",
   "execution_count": null,
   "metadata": {},
   "outputs": [],
   "source": []
  },
  {
   "cell_type": "code",
   "execution_count": null,
   "metadata": {},
   "outputs": [],
   "source": []
  },
  {
   "cell_type": "code",
   "execution_count": null,
   "metadata": {},
   "outputs": [],
   "source": [
    "from google.cloud import aiplatform_v1beta1 as aiplatform"
   ]
  },
  {
   "cell_type": "code",
   "execution_count": null,
   "metadata": {},
   "outputs": [],
   "source": [
    "client = aiplatform.IndexServiceClient(\n",
    "    client_options={\n",
    "        \"api_endpoint\": \"us-central1-aiplatform.googleapis.com\"\n",
    "    }\n",
    ")\n",
    "request = aiplatform.ListIndexesRequest(\n",
    "    parent=\"projects/rl-llm-dev/locations/us-central1\"\n",
    ")\n",
    "\n",
    "results = client.list_indexes(request=request)"
   ]
  },
  {
   "cell_type": "code",
   "execution_count": null,
   "metadata": {},
   "outputs": [],
   "source": [
    "for i in list(results):\n",
    "    if i.display_name == \"csm-multimodal-vector-search\":\n",
    "        print(i.name)"
   ]
  },
  {
   "cell_type": "code",
   "execution_count": null,
   "metadata": {},
   "outputs": [],
   "source": [
    "client = aiplatform.IndexEndpointServiceClient(\n",
    "    client_options={\n",
    "        \"api_endpoint\": \"us-central1-aiplatform.googleapis.com\"\n",
    "    }\n",
    ")\n",
    "\n",
    "request = aiplatform.ListIndexEndpointsRequest(\n",
    "    parent = f\"projects/rl-llm-dev/locations/us-central1\",\n",
    ")\n",
    "\n",
    "results = client.list_index_endpoints(request=request)"
   ]
  },
  {
   "cell_type": "code",
   "execution_count": null,
   "metadata": {},
   "outputs": [],
   "source": [
    "results"
   ]
  },
  {
   "cell_type": "code",
   "execution_count": null,
   "metadata": {},
   "outputs": [],
   "source": [
    "endpoint_name = \"\"\n",
    "for i in list(results):\n",
    "    if i.display_name == \"csm-index-endpoint\":\n",
    "        endpoint_name = i.name\n",
    "        deployed_index_id = i.deployed_indexes[0].id\n",
    "        public_endpoint_domain_name = i.public_endpoint_domain_name"
   ]
  },
  {
   "cell_type": "code",
   "execution_count": null,
   "metadata": {},
   "outputs": [],
   "source": [
    "print(endpoint_name)\n",
    "print(deployed_index_id)\n",
    "print(public_endpoint_domain_name)"
   ]
  },
  {
   "cell_type": "code",
   "execution_count": 1,
   "metadata": {},
   "outputs": [],
   "source": [
    "import utils_toml"
   ]
  },
  {
   "cell_type": "code",
   "execution_count": 2,
   "metadata": {},
   "outputs": [],
   "source": [
    "utils_toml.update_toml(\n",
    "    toml_path=\"config.toml\",\n",
    "    new_values={\"$$project_id$$\": '\"rl-llm-dev\"'}\n",
    ")"
   ]
  },
  {
   "cell_type": "code",
   "execution_count": null,
   "metadata": {},
   "outputs": [],
   "source": [
    "with open(\"config.toml\", \"r+\") as f:\n",
    "    toml = f.read()"
   ]
  },
  {
   "cell_type": "code",
   "execution_count": null,
   "metadata": {},
   "outputs": [],
   "source": [
    "new_values = {\"$$project_id$$\": \"rl-llm-dev\"}\n",
    "for key, value in new_values.items():\n",
    "    toml = toml.replace(key, value)"
   ]
  },
  {
   "cell_type": "code",
   "execution_count": null,
   "metadata": {},
   "outputs": [],
   "source": [
    "print(toml)"
   ]
  },
  {
   "cell_type": "code",
   "execution_count": null,
   "metadata": {},
   "outputs": [],
   "source": [
    "with open(toml_path, \"w\") as f:\n",
    "    f.write(toml)"
   ]
  }
 ],
 "metadata": {
  "kernelspec": {
   "display_name": "genai-marketing",
   "language": "python",
   "name": "python3"
  },
  "language_info": {
   "codemirror_mode": {
    "name": "ipython",
    "version": 3
   },
   "file_extension": ".py",
   "mimetype": "text/x-python",
   "name": "python",
   "nbconvert_exporter": "python",
   "pygments_lexer": "ipython3",
   "version": "3.11.5"
  }
 },
 "nbformat": 4,
 "nbformat_minor": 2
}
