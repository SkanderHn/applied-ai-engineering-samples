{
 "cells": [
  {
   "cell_type": "markdown",
   "metadata": {},
   "source": [
    "# Test API"
   ]
  },
  {
   "cell_type": "code",
   "execution_count": null,
   "metadata": {},
   "outputs": [],
   "source": [
    "from routers.p2_content_creator import *"
   ]
  },
  {
   "cell_type": "code",
   "execution_count": 6,
   "metadata": {},
   "outputs": [],
   "source": [
    "from dataclasses import dataclass\n",
    "\n",
    "@dataclass\n",
    "class ProductCategories:\n",
    "    images_uri: list"
   ]
  },
  {
   "cell_type": "code",
   "execution_count": 7,
   "metadata": {},
   "outputs": [],
   "source": [
    "data = ProductCategories(\n",
    "    images_uri=[\n",
    "        \"https://storage.googleapis.com/csm-dataset/website-search/image_00.jpg\",\n",
    "        \"https://storage.googleapis.com/csm-dataset/website-search/image_01.jpg\",\n",
    "        \"https://storage.googleapis.com/csm-dataset/website-search/image_02.jpg\",\n",
    "        \"https://storage.googleapis.com/csm-dataset/website-search/image_03.jpg\",\n",
    "        \"https://storage.googleapis.com/csm-dataset/website-search/image_04.jpg\",\n",
    "        \"https://storage.googleapis.com/csm-dataset/website-search/image_05.jpg\",\n",
    "        \"https://storage.googleapis.com/csm-dataset/website-search/image_06.jpg\",\n",
    "    ]\n",
    ")"
   ]
  },
  {
   "cell_type": "code",
   "execution_count": null,
   "metadata": {},
   "outputs": [],
   "source": [
    "test = post_product_categories(data)\n",
    "test"
   ]
  },
  {
   "cell_type": "markdown",
   "metadata": {},
   "source": [
    "# AsyncIO"
   ]
  },
  {
   "cell_type": "code",
   "execution_count": 9,
   "metadata": {},
   "outputs": [],
   "source": [
    "import asyncio\n",
    "from vertexai.vision_models import ImageCaptioningModel, Image\n",
    "imagen_model = ImageCaptioningModel.from_pretrained(\"imagetext\")"
   ]
  },
  {
   "cell_type": "code",
   "execution_count": 10,
   "metadata": {},
   "outputs": [],
   "source": [
    "from dataclasses import dataclass\n",
    "\n",
    "@dataclass\n",
    "class ProductCategories:\n",
    "    images_uri: list"
   ]
  },
  {
   "cell_type": "code",
   "execution_count": 11,
   "metadata": {},
   "outputs": [],
   "source": [
    "data = ProductCategories(\n",
    "    images_uri=[\n",
    "        \"https://storage.googleapis.com/csm-dataset/website-search/image_00.jpg\",\n",
    "        \"https://storage.googleapis.com/csm-dataset/website-search/image_01.jpg\",\n",
    "        \"https://storage.googleapis.com/csm-dataset/website-search/image_02.jpg\",\n",
    "        \"https://storage.googleapis.com/csm-dataset/website-search/image_03.jpg\",\n",
    "        \"https://storage.googleapis.com/csm-dataset/website-search/image_04.jpg\",\n",
    "        \"https://storage.googleapis.com/csm-dataset/website-search/image_05.jpg\",\n",
    "        \"https://storage.googleapis.com/csm-dataset/website-search/image_06.jpg\",\n",
    "    ]\n",
    ")"
   ]
  },
  {
   "cell_type": "code",
   "execution_count": 12,
   "metadata": {},
   "outputs": [],
   "source": [
    "async def get_image_captions(image_uri):\n",
    "    captions = await imagen_model.get_captions(\n",
    "        image=Image(image_bytes=requests.get(image_uri).content),\n",
    "        number_of_results=1,\n",
    "        language=\"en\",\n",
    "    )\n",
    "    return captions"
   ]
  },
  {
   "cell_type": "code",
   "execution_count": 15,
   "metadata": {},
   "outputs": [
    {
     "ename": "RuntimeError",
     "evalue": "asyncio.run() cannot be called from a running event loop",
     "output_type": "error",
     "traceback": [
      "\u001b[0;31m---------------------------------------------------------------------------\u001b[0m",
      "\u001b[0;31mRuntimeError\u001b[0m                              Traceback (most recent call last)",
      "\u001b[1;32m/home/renatoleite/workspace/customer-services-modernization/backend-apis/app/notebook_product_category.ipynb Cell 11\u001b[0m line \u001b[0;36m2\n\u001b[1;32m      <a href='vscode-notebook-cell://ssh-remote%2Brl-llm-dev-nogpu.us-central1-a.rl-llm-dev/home/renatoleite/workspace/customer-services-modernization/backend-apis/app/notebook_product_category.ipynb#X10sdnNjb2RlLXJlbW90ZQ%3D%3D?line=0'>1</a>\u001b[0m loop \u001b[39m=\u001b[39m asyncio\u001b[39m.\u001b[39mget_event_loop()\n\u001b[0;32m----> <a href='vscode-notebook-cell://ssh-remote%2Brl-llm-dev-nogpu.us-central1-a.rl-llm-dev/home/renatoleite/workspace/customer-services-modernization/backend-apis/app/notebook_product_category.ipynb#X10sdnNjb2RlLXJlbW90ZQ%3D%3D?line=1'>2</a>\u001b[0m asyncio\u001b[39m.\u001b[39;49mrun(get_image_captions(data\u001b[39m.\u001b[39;49mimages_uri[\u001b[39m0\u001b[39;49m]))\n",
      "File \u001b[0;32m/opt/conda/envs/genai-marketing/lib/python3.11/asyncio/runners.py:186\u001b[0m, in \u001b[0;36mrun\u001b[0;34m(main, debug)\u001b[0m\n\u001b[1;32m    161\u001b[0m \u001b[39m\u001b[39m\u001b[39m\"\"\"Execute the coroutine and return the result.\u001b[39;00m\n\u001b[1;32m    162\u001b[0m \n\u001b[1;32m    163\u001b[0m \u001b[39mThis function runs the passed coroutine, taking care of\u001b[39;00m\n\u001b[0;32m   (...)\u001b[0m\n\u001b[1;32m    182\u001b[0m \u001b[39m    asyncio.run(main())\u001b[39;00m\n\u001b[1;32m    183\u001b[0m \u001b[39m\"\"\"\u001b[39;00m\n\u001b[1;32m    184\u001b[0m \u001b[39mif\u001b[39;00m events\u001b[39m.\u001b[39m_get_running_loop() \u001b[39mis\u001b[39;00m \u001b[39mnot\u001b[39;00m \u001b[39mNone\u001b[39;00m:\n\u001b[1;32m    185\u001b[0m     \u001b[39m# fail fast with short traceback\u001b[39;00m\n\u001b[0;32m--> 186\u001b[0m     \u001b[39mraise\u001b[39;00m \u001b[39mRuntimeError\u001b[39;00m(\n\u001b[1;32m    187\u001b[0m         \u001b[39m\"\u001b[39m\u001b[39masyncio.run() cannot be called from a running event loop\u001b[39m\u001b[39m\"\u001b[39m)\n\u001b[1;32m    189\u001b[0m \u001b[39mwith\u001b[39;00m Runner(debug\u001b[39m=\u001b[39mdebug) \u001b[39mas\u001b[39;00m runner:\n\u001b[1;32m    190\u001b[0m     \u001b[39mreturn\u001b[39;00m runner\u001b[39m.\u001b[39mrun(main)\n",
      "\u001b[0;31mRuntimeError\u001b[0m: asyncio.run() cannot be called from a running event loop"
     ]
    }
   ],
   "source": [
    "loop = asyncio.get_event_loop()\n",
    "\n",
    "asyncio.run(get_image_captions(data.images_uri[0]))"
   ]
  },
  {
   "cell_type": "code",
   "execution_count": null,
   "metadata": {},
   "outputs": [],
   "source": []
  },
  {
   "cell_type": "code",
   "execution_count": null,
   "metadata": {},
   "outputs": [],
   "source": []
  },
  {
   "cell_type": "code",
   "execution_count": null,
   "metadata": {},
   "outputs": [],
   "source": []
  },
  {
   "cell_type": "code",
   "execution_count": null,
   "metadata": {},
   "outputs": [],
   "source": []
  },
  {
   "cell_type": "markdown",
   "metadata": {},
   "source": [
    "# Populate Firestore with products"
   ]
  },
  {
   "cell_type": "code",
   "execution_count": null,
   "metadata": {},
   "outputs": [],
   "source": [
    "import base64\n",
    "from google.cloud import aiplatform\n",
    "from google.cloud import firestore\n",
    "from google.protobuf import struct_pb2\n",
    "import typing\n",
    "import numpy as np\n",
    "import pandas as pd\n",
    "\n",
    "db = firestore.Client()"
   ]
  },
  {
   "cell_type": "code",
   "execution_count": null,
   "metadata": {},
   "outputs": [],
   "source": [
    "input_file = pd.read_excel(\"csm-dataset-update.xlsx\")"
   ]
  },
  {
   "cell_type": "code",
   "execution_count": null,
   "metadata": {},
   "outputs": [],
   "source": [
    "input_file"
   ]
  },
  {
   "cell_type": "code",
   "execution_count": null,
   "metadata": {},
   "outputs": [],
   "source": [
    "update = {}\n",
    "\n",
    "for i in input_file.iterrows():\n",
    "    db.collection(\"website_products\").document(\n",
    "        i[1][\"id\"]).set(\n",
    "            {\n",
    "                \"product_id\":i[1][\"id\"],\n",
    "                \"link\":i[1][\"link\"].replace(\"gs://\", \"https://storage.googleapis.com/\"),\n",
    "                \"title\":i[1][\"title\"],\n",
    "                \"categories\": [i[1][\"category\"]]\n",
    "            }\n",
    "        )"
   ]
  },
  {
   "cell_type": "code",
   "execution_count": null,
   "metadata": {},
   "outputs": [],
   "source": []
  }
 ],
 "metadata": {
  "kernelspec": {
   "display_name": "genai-marketing",
   "language": "python",
   "name": "python3"
  },
  "language_info": {
   "codemirror_mode": {
    "name": "ipython",
    "version": 3
   },
   "file_extension": ".py",
   "mimetype": "text/x-python",
   "name": "python",
   "nbconvert_exporter": "python",
   "pygments_lexer": "ipython3",
   "version": "3.11.5"
  }
 },
 "nbformat": 4,
 "nbformat_minor": 2
}
