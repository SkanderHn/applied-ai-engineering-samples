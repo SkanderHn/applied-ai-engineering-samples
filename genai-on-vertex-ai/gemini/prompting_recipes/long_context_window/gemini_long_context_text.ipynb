{
 "cells": [
  {
   "cell_type": "code",
   "execution_count": 1,
   "metadata": {
    "id": "FX2wUzd3gjTc"
   },
   "outputs": [],
   "source": [
    "# Copyright 2024 Google LLC\n",
    "#\n",
    "# Licensed under the Apache License, Version 2.0 (the \"License\");\n",
    "# you may not use this file except in compliance with the License.\n",
    "# You may obtain a copy of the License at\n",
    "#\n",
    "#     https://www.apache.org/licenses/LICENSE-2.0\n",
    "#\n",
    "# Unless required by applicable law or agreed to in writing, software\n",
    "# distributed under the License is distributed on an \"AS IS\" BASIS,\n",
    "# WITHOUT WARRANTIES OR CONDITIONS OF ANY KIND, either express or implied.\n",
    "# See the License for the specific language governing permissions and\n",
    "# limitations under the License."
   ]
  },
  {
   "cell_type": "markdown",
   "metadata": {
    "id": "yk0wepCDBa-d"
   },
   "source": [
    "# Using Gemini Long Context Window for Text\n",
    "\n",
    "<table align=\"left\">\n",
    "  <td style=\"text-align: center\">\n",
    "    <a href=\"https://colab.research.google.com/github/GoogleCloudPlatform/applied-ai-engineering-samples/blob/main/genai-on-vertex-ai/gemini/long_context_window/gemini_long_context_text.ipynb\">\n",
    "      <img width=\"32px\" src=\"https://www.gstatic.com/pantheon/images/bigquery/welcome_page/colab-logo.svg\" alt=\"Google Colaboratory logo\"><br> Open in Colab\n",
    "    </a>\n",
    "  </td>\n",
    "  <td style=\"text-align: center\">\n",
    "    <a href=\"https://console.cloud.google.com/vertex-ai/colab/import/https:%2F%2Fraw.githubusercontent.com%2FGoogleCloudPlatform%2Fapplied-ai-engineering-samples%2Fmain%2Fgenai-on-vertex-ai%2Fgemini%2Flong_context_window%2Fgemini_long_context_text.ipynb\">\n",
    "      <img width=\"32px\" src=\"https://lh3.googleusercontent.com/JmcxdQi-qOpctIvWKgPtrzZdJJK-J3sWE1RsfjZNwshCFgE_9fULcNpuXYTilIR2hjwN\" alt=\"Google Cloud Colab Enterprise logo\"><br> Open in Colab Enterprise\n",
    "    </a>\n",
    "  </td>\n",
    "  <td style=\"text-align: center\">\n",
    "    <a href=\"https://console.cloud.google.com/vertex-ai/workbench/deploy-notebook?download_url=https://raw.githubusercontent.com/GoogleCloudPlatform/applied-ai-engineering-samples/main/genai-on-vertex-ai/gemini/long_context_window/gemini_long_context_text.ipynb\">\n",
    "      <img src=\"https://www.gstatic.com/images/branding/gcpiconscolors/vertexai/v1/32px.svg\" alt=\"Vertex AI logo\"><br> Open in Vertex AI Workbench\n",
    "    </a>\n",
    "  </td>\n",
    "  <td style=\"text-align: center\">\n",
    "    <a href=\"https://github.com/GoogleCloudPlatform/applied-ai-engineering-samples/blob/main/genai-on-vertex-ai/gemini/long_context_window/gemini_long_context_text.ipynb\">\n",
    "      <img width=\"32px\" src=\"https://upload.wikimedia.org/wikipedia/commons/9/91/Octicons-mark-github.svg\" alt=\"GitHub logo\"><br> View on GitHub\n",
    "    </a>\n",
    "  </td>\n",
    "</table>"
   ]
  },
  {
   "cell_type": "markdown",
   "metadata": {
    "id": "2222be4842e7"
   },
   "source": [
    "| | |\n",
    "|-|-|\n",
    "| Author(s) | [Vijay Reddy](https://github.com/vijaykyr) |\n",
    "| Reviewer(s) | [Rajesh Thallam](https://github.com/rthallam), [Skander Hannachi](https://github.com/skanderhn)  |"
   ]
  },
  {
   "cell_type": "markdown",
   "metadata": {
    "id": "b53Y2SxXdjAR"
   },
   "source": [
    "# Overview\n",
    "\n",
    "---\n",
    "\n",
    "Gemini 1.5 Pro supports up to 2 Million input tokens. This is the equivalent of roughly:\n",
    "- ~2000 pages of text\n",
    "- ~19 hours of audio\n",
    "- ~2 hours of video\n",
    "- ~60K lines of code\n",
    "\n",
    "This [long context window](https://cloud.google.com/vertex-ai/generative-ai/docs/long-context) (LCW) opens up possibilities for prompting on large contexts that previously could only be approximated using pre-processing steps such as Retrieval Augmented Generation (RAG). Long context windows in LLMs are enabling new use cases and optimizing standard use cases such as:\n",
    "- Summarizing, analyzing and question-answering on large documents\n",
    "- Analyzing large code repositories\n",
    "- Agentic workflows for keeping the state of agents\n",
    "- [Many-shot in-context learning](https://arxiv.org/pdf/2404.11018) providing examples at the scale of hundreds or thousands leading to performance comparable to fine-tuned models.\n",
    "\n",
    "---\n",
    "\n",
    "In this notebook we will demonstrate long context window (LCW) using the text modality*. We will demonstrate 3 approaches to long context prompting and compare each of these approaches along the following dimensions of accuracy, latency and cost. We will also compare LCW to a RAG approach.\n",
    "\n",
    "Below is the summary of results observed at the time these experiments were run. Continue on for a detailed analysis of each.\n",
    "\n",
    "| Trial | Accuracy | Latency | Cost |\n",
    "|---|---|---|---|\n",
    "| **Baseline** | 38% (3/8) | 0.5 min | \\$0.004 |\n",
    "| **LCW - Naive** | 100% (8/8) | 4.7 min | \\$19.68 |\n",
    "| **LCW - Batched** | 88% (7/8) | 1.7 min | \\$2.47 |\n",
    "| **LCW - Cached** | 100% (8/8) | 2.9 min | \\$10.22 |\n",
    "| **RAG** | 63% (5/8) | 0.5min | \\$0.30 |\n",
    "\n",
    "\n",
    "<div class=\"alert alert-block alert-info\">\n",
    "* For example of other modality see the companion <a href=\"https://github.com/GoogleCloudPlatform/applied-ai-engineering-samples/blob/main/genai-on-vertex-ai/gemini/long_context_window/gemini_long_context_video.ipynb\">video notebook</a>.\n",
    "</div>\n"
   ]
  },
  {
   "cell_type": "markdown",
   "metadata": {
    "id": "oOy2p5tQS5PV"
   },
   "source": [
    "# Getting Started\n",
    "\n",
    "The following steps are necessary to run this notebook, no matter what notebook environment you're using.\n",
    "\n",
    "If you're entirely new to Google Cloud, [get started here](https://cloud.google.com/docs/get-started)."
   ]
  },
  {
   "cell_type": "markdown",
   "metadata": {
    "id": "546f03289832"
   },
   "source": [
    "## Google Cloud Project Setup\n",
    "\n",
    "1. [Select or create a Google Cloud project](https://console.cloud.google.com/cloud-resource-manager). When you first create an account, you get a $300 free credit towards your compute/storage costs.\n",
    "1. [Make sure that billing is enabled for your project](https://cloud.google.com/billing/docs/how-to/modify-project).\n",
    "1. [Enable the Service Usage API](https://console.cloud.google.com/apis/library/serviceusage.googleapis.com)\n",
    "1. [Enable the Vertex AI API](https://console.cloud.google.com/flows/enableapi?apiid=aiplatform.googleapis.com).\n",
    "1. [Enable the Cloud Storage API](https://console.cloud.google.com/flows/enableapi?apiid=storage.googleapis.com)."
   ]
  },
  {
   "cell_type": "markdown",
   "metadata": {
    "id": "66caf6693c7f"
   },
   "source": [
    "## Google Cloud Permissions\n",
    "\n",
    "**To run the complete Notebook, including the optional section, you will need to have the [Owner role](https://cloud.google.com/iam/docs/understanding-roles) for your project.**\n",
    "\n",
    "If you want to skip the optional section, you need at least the following [roles](https://cloud.google.com/iam/docs/granting-changing-revoking-access):\n",
    "* **`roles/serviceusage.serviceUsageAdmin`** to enable APIs\n",
    "* **`roles/iam.serviceAccountAdmin`** to modify service agent permissions\n",
    "* **`roles/aiplatform.user`** to use AI Platform components\n",
    "* **`roles/storage.objectAdmin`** to modify and delete GCS buckets"
   ]
  },
  {
   "cell_type": "markdown",
   "metadata": {
    "id": "PxjiHKjmS90b"
   },
   "source": [
    "## Install Vertex AI SDK for Python and other dependencies (If Needed)\n",
    "\n",
    "The list `packages` contains tuples of package import names and install names. If the import name is not found then the install name is used to install quitely for the current user."
   ]
  },
  {
   "cell_type": "code",
   "execution_count": null,
   "metadata": {
    "id": "4o3hnMgWTDh3"
   },
   "outputs": [],
   "source": [
    "! pip install pandas google-cloud-aiplatform langchain langchain-community langchain-google-vertexai faiss-cpu --upgrade --quiet --user"
   ]
  },
  {
   "cell_type": "markdown",
   "metadata": {
    "id": "qd4wqoojTd1Q"
   },
   "source": [
    "## Restart Runtime\n",
    "\n",
    "To use the newly installed packages in this Jupyter runtime, you must restart the runtime. You can do this by running the cell below, which will restart the current kernel."
   ]
  },
  {
   "cell_type": "code",
   "execution_count": null,
   "metadata": {
    "id": "BqTCKVIrTgMD"
   },
   "outputs": [],
   "source": [
    "# Restart kernel after installs so that your environment can access the new packages\n",
    "import IPython\n",
    "\n",
    "app = IPython.Application.instance()\n",
    "app.kernel.do_shutdown(True)"
   ]
  },
  {
   "cell_type": "markdown",
   "metadata": {
    "id": "PlTYFeIAbaSZ"
   },
   "source": [
    "## Authenticate\n",
    "\n",
    "If you're using Colab, run the code in the next cell. Follow the popups and authenticate with an account that has access to your Google Cloud [project](https://cloud.google.com/resource-manager/docs/creating-managing-projects#identifying_projects).\n",
    "\n",
    "If you're running this notebook somewhere besides Colab, make sure your environment has the right Google Cloud access. If that's a new concept to you, consider looking into [Application Default Credentials for your local environment](https://cloud.google.com/docs/authentication/provide-credentials-adc#local-dev) and [initializing the Google Cloud CLI](https://cloud.google.com/docs/authentication/gcloud). In many cases, running `gcloud auth application-default login` in a shell on the machine running the notebook kernel is sufficient.\n",
    "\n",
    "More authentication options are discussed [here](https://cloud.google.com/docs/authentication)."
   ]
  },
  {
   "cell_type": "code",
   "execution_count": 2,
   "metadata": {
    "id": "x-wkI7tebdOd"
   },
   "outputs": [],
   "source": [
    "# Colab authentication.\n",
    "import sys\n",
    "\n",
    "if \"google.colab\" in sys.modules:\n",
    "    from google.colab import auth\n",
    "\n",
    "    auth.authenticate_user()\n",
    "    print(\"Authenticated\")"
   ]
  },
  {
   "cell_type": "markdown",
   "metadata": {
    "id": "6JUY_QXRcqLJ"
   },
   "source": [
    "## Set Google Cloud project information and Initialize Vertex AI SDK\n",
    "\n",
    "To get started using Vertex AI, you must have an existing Google Cloud project and [enable the Vertex AI API](https://console.cloud.google.com/flows/enableapi?apiid=aiplatform.googleapis.com).\n",
    "\n",
    "Learn more about [setting up a project and a development environment](https://cloud.google.com/vertex-ai/docs/start/cloud-environment).\n",
    "\n",
    "Make sure to change `PROJECT_ID` in the next cell. You can leave the values for `REGION` unless you have a specific reason to change them."
   ]
  },
  {
   "cell_type": "code",
   "execution_count": 3,
   "metadata": {
    "id": "voBgOrpgcnPD"
   },
   "outputs": [
    {
     "name": "stdout",
     "output_type": "stream",
     "text": [
      "Vertex AI SDK initialized.\n",
      "Vertex AI SDK version = 1.63.0\n"
     ]
    }
   ],
   "source": [
    "import vertexai\n",
    "\n",
    "PROJECT_ID = \"[your-project-id]\"  # @param {type:\"string\"}\n",
    "REGION = \"us-central1\"  # @param {type:\"string\"}\n",
    "\n",
    "vertexai.init(project=PROJECT_ID, location=REGION)\n",
    "print(\"Vertex AI SDK initialized.\")\n",
    "print(f\"Vertex AI SDK version = {vertexai.__version__}\")"
   ]
  },
  {
   "cell_type": "markdown",
   "metadata": {
    "id": "M3T9vgcFH1Cg"
   },
   "source": [
    "## Import Libraries"
   ]
  },
  {
   "cell_type": "code",
   "execution_count": 4,
   "metadata": {
    "id": "YVAqvXSiHv6L"
   },
   "outputs": [],
   "source": [
    "import datetime\n",
    "\n",
    "import pandas as pd\n",
    "from IPython.display import Markdown\n",
    "from vertexai.generative_models import (GenerativeModel, HarmBlockThreshold,\n",
    "                                        HarmCategory, Part)\n",
    "\n",
    "pd.set_option(\"display.max_colwidth\", None)"
   ]
  },
  {
   "cell_type": "markdown",
   "metadata": {
    "id": "f03757456595"
   },
   "source": [
    " ## Initialize Gemini"
   ]
  },
  {
   "cell_type": "code",
   "execution_count": 5,
   "metadata": {
    "id": "df302efdd7b1"
   },
   "outputs": [],
   "source": [
    "# Gemini Config\n",
    "GENERATION_CONFIG = dict(temperature=0)\n",
    "SAFETY_CONFIG = {\n",
    "    HarmCategory.HARM_CATEGORY_HATE_SPEECH: HarmBlockThreshold.BLOCK_NONE,\n",
    "    HarmCategory.HARM_CATEGORY_HARASSMENT: HarmBlockThreshold.BLOCK_NONE,\n",
    "    HarmCategory.HARM_CATEGORY_DANGEROUS_CONTENT: HarmBlockThreshold.BLOCK_NONE,\n",
    "    HarmCategory.HARM_CATEGORY_SEXUALLY_EXPLICIT: HarmBlockThreshold.BLOCK_NONE,\n",
    "}\n",
    "\n",
    "gemini_pro_model = GenerativeModel(\n",
    "    model_name=\"gemini-1.5-pro-001\",\n",
    "    generation_config=GENERATION_CONFIG,\n",
    "    safety_settings=SAFETY_CONFIG,\n",
    ")"
   ]
  },
  {
   "cell_type": "markdown",
   "metadata": {
    "id": "rcXoABv0ibFJ"
   },
   "source": [
    "# Long Context for Question and Answering\n",
    "\n",
    "To demonstrate Gemini's long context capabilities in the text modality we will do Questions and Answer about the novel [David Copperfield](https://www.gutenberg.org/cache/epub/43111/pg43111) by Charles Dickens. It is ~360K words and ~540K tokens, sufficiently long to evaluate long context capabilities of Gemini.\n",
    "\n",
    "The questions were sourced manually from the novel, without any prior knowledge of how they would perform in the various tests. The answers for these questions are roughly evenly distributed throughout the source material (beginning, middle, end) so as to evaluate performance across the full context window."
   ]
  },
  {
   "cell_type": "code",
   "execution_count": 6,
   "metadata": {
    "id": "726e3e3abfcf"
   },
   "outputs": [],
   "source": [
    "questions = [\n",
    "    \"What are the first objects that David can recall from his infancy?\",\n",
    "    \"At the inn where the mail stops, what is painted on the door?\",\n",
    "    \"What name does David's aunt suggest to Mr. Dick they call him by?\",\n",
    "    \"What is the name of the chapter in which Mr. Jorkins is first mentioned?\",\n",
    "    \"Describe the room in which Mr. Copperfield meets Steerforth for breakfast.\",\n",
    "    \"After his engagement to Dora, David write Agnes a letter. What is the letter about?\",\n",
    "    \"What does David find in the hotel where Mr. Micawber requested him to meet in the middle of the night?\",\n",
    "    \"Who are David's final thoughts about in the book?\",\n",
    "]\n",
    "\n",
    "answers = [\n",
    "    \"His mother with her pretty hair, and Peggotty.\",\n",
    "    \"DOLPHIN\",\n",
    "    \"Trotwood Copperfield\",\n",
    "    \"CHAPTER XXIII: I Corroborate Mr. Dick, and Choose a Profession.\",\n",
    "    \"A snug private apartment, red-curtained and Turkey-carpeted, where the fire burnt bright, and a fine hot breakfast was set forth on a table covered with a clean cloth; and a cheerful miniature of the room, the fire, the breakfast, Steerforth, and all, was shining in the little round mirror over the sideboard.\",\n",
    "    \"He writes to Agnes to assure her of his deep love for Agnes and that this was not a passing fancy or hasty decision.\",\n",
    "    \"A letter stating that he would appear in the morning at half past nine.\",\n",
    "    \"Agnes\",\n",
    "]"
   ]
  },
  {
   "cell_type": "markdown",
   "metadata": {
    "id": "da26f542ab84"
   },
   "source": [
    "## Baseline Behavior: Without adding any context\n",
    "\n",
    "As David Copperfield is a popular classic novel, it is likely Gemini already knows something about it from its internal knowledge. So that we can later measure how adding the novel explicitly as context helps, let's first ask our sample questions without any added context (aka zero-shot)."
   ]
  },
  {
   "cell_type": "code",
   "execution_count": 56,
   "metadata": {
    "id": "c11354a135e1"
   },
   "outputs": [],
   "source": [
    "prompt_template = \"Answer the following question about {context}: {question}\"\n",
    "context = \"the book 'David Copperfield' by Charles Dickens\"\n",
    "\n",
    "\n",
    "def evaluate(\n",
    "    questions, answers, prompt_template, context, model, is_context_cached=False\n",
    "):\n",
    "    df = pd.DataFrame(\n",
    "        columns=[\n",
    "            \"question\",\n",
    "            \"ground_truth\",\n",
    "            \"model_response\",\n",
    "            \"input_token_count\",\n",
    "            \"output_token_count\",\n",
    "        ]\n",
    "    )\n",
    "    for i in range(len(questions)):\n",
    "        if is_context_cached:\n",
    "            prompt = prompt_template.format(question=questions[i])\n",
    "        else:\n",
    "            prompt = prompt_template.format(context=context, question=questions[i])\n",
    "        response = model.generate_content(prompt)\n",
    "        res = response.text\n",
    "        input_token_count = 0\n",
    "        output_token_count = 0\n",
    "        if response.usage_metadata:\n",
    "            input_token_count = response.usage_metadata.prompt_token_count\n",
    "            output_token_count = response.usage_metadata.candidates_token_count\n",
    "\n",
    "        df.loc[len(df)] = {\n",
    "            \"question\": questions[i],\n",
    "            \"model_response\": res,\n",
    "            \"ground_truth\": answers[i],\n",
    "            \"input_token_count\": input_token_count,\n",
    "            \"output_token_count\": output_token_count,\n",
    "        }\n",
    "    return df"
   ]
  },
  {
   "cell_type": "code",
   "execution_count": 57,
   "metadata": {
    "id": "bff69b6a88db"
   },
   "outputs": [
    {
     "name": "stderr",
     "output_type": "stream",
     "text": [
      "I0000 00:00:1725978817.120466 97862253 check_gcp_environment_no_op.cc:29] ALTS: Platforms other than Linux and Windows are not supported\n"
     ]
    },
    {
     "name": "stdout",
     "output_type": "stream",
     "text": [
      "CPU times: user 76.4 ms, sys: 36.3 ms, total: 113 ms\n",
      "Wall time: 27.9 s\n"
     ]
    },
    {
     "data": {
      "text/html": [
       "<div>\n",
       "<style scoped>\n",
       "    .dataframe tbody tr th:only-of-type {\n",
       "        vertical-align: middle;\n",
       "    }\n",
       "\n",
       "    .dataframe tbody tr th {\n",
       "        vertical-align: top;\n",
       "    }\n",
       "\n",
       "    .dataframe thead th {\n",
       "        text-align: right;\n",
       "    }\n",
       "</style>\n",
       "<table border=\"1\" class=\"dataframe\">\n",
       "  <thead>\n",
       "    <tr style=\"text-align: right;\">\n",
       "      <th></th>\n",
       "      <th>question</th>\n",
       "      <th>ground_truth</th>\n",
       "      <th>model_response</th>\n",
       "      <th>input_token_count</th>\n",
       "      <th>output_token_count</th>\n",
       "    </tr>\n",
       "  </thead>\n",
       "  <tbody>\n",
       "    <tr>\n",
       "      <th>0</th>\n",
       "      <td>What are the first objects that David can recall from his infancy?</td>\n",
       "      <td>His mother with her pretty hair, and Peggotty.</td>\n",
       "      <td>The first objects David Copperfield remembers from his infancy are **the dressing-table with its silver inkstand, and his mother's face reflected in the mirror above it.** \\n\\nThis memory is significant because it highlights the importance of his mother in his early life and establishes a sense of domestic peace that will be shattered by her remarriage. \\n</td>\n",
       "      <td>29</td>\n",
       "      <td>71</td>\n",
       "    </tr>\n",
       "    <tr>\n",
       "      <th>1</th>\n",
       "      <td>At the inn where the mail stops, what is painted on the door?</td>\n",
       "      <td>DOLPHIN</td>\n",
       "      <td>At the inn where the mail coach stops in \"David Copperfield,\" the door features a painting (rather crudely done, we can assume!) of a **blue lion**. \\n\\nThis detail is mentioned in Chapter 5, when young David is on his journey to Yarmouth with the Peggotys. \\n</td>\n",
       "      <td>31</td>\n",
       "      <td>64</td>\n",
       "    </tr>\n",
       "    <tr>\n",
       "      <th>2</th>\n",
       "      <td>What name does David's aunt suggest to Mr. Dick they call him by?</td>\n",
       "      <td>Trotwood Copperfield</td>\n",
       "      <td>David's aunt, Betsey Trotwood, suggests that Mr. Dick call David by the name **\"Trotwood\"**. \\n\\nShe dislikes the name \"David\" because it was the name of David's deceased father, whom she strongly disapproved of. She believes that calling David \"Trotwood\" will help distance him from his father's memory and allow him to forge his own identity under her care. \\n</td>\n",
       "      <td>33</td>\n",
       "      <td>88</td>\n",
       "    </tr>\n",
       "    <tr>\n",
       "      <th>3</th>\n",
       "      <td>What is the name of the chapter in which Mr. Jorkins is first mentioned?</td>\n",
       "      <td>CHAPTER XXIII: I Corroborate Mr. Dick, and Choose a Profession.</td>\n",
       "      <td>Mr. Jorkins is first mentioned in Chapter 8, titled **\"My Holidays. Especially One Happy Afternoon.\"** \\n\\nAlthough he doesn't physically appear in this chapter, Mr. Jorkins is introduced as Mr. Spenlow's business partner at the law firm where David is taken to begin work. He is described as a meek and mild man who is constantly dominated by Mr. Spenlow. \\n</td>\n",
       "      <td>34</td>\n",
       "      <td>89</td>\n",
       "    </tr>\n",
       "    <tr>\n",
       "      <th>4</th>\n",
       "      <td>Describe the room in which Mr. Copperfield meets Steerforth for breakfast.</td>\n",
       "      <td>A snug private apartment, red-curtained and Turkey-carpeted, where the fire burnt bright, and a fine hot breakfast was set forth on a table covered with a clean cloth; and a cheerful miniature of the room, the fire, the breakfast, Steerforth, and all, was shining in the little round mirror over the sideboard.</td>\n",
       "      <td>While Dickens describes many rooms in detail throughout \"David Copperfield,\" he doesn't specifically describe the room where Mr. Copperfield and Steerforth have breakfast. \\n\\nIt's likely you're thinking of the breakfast scene at the **Inn in Yarmouth**, where David first meets Steerforth as a young boy. However, the text focuses more on the characters and their interactions than the room itself. \\n\\nWe can infer some details about the room from the context:\\n\\n* **It's an inn:** This suggests a common room used for meals by multiple guests, rather than a private dining room.\\n* **It's likely basic but comfortable:** The inn seems respectable but not luxurious, reflecting the modest means of David and Peggotty.\\n* **The atmosphere is lively:** The presence of the other guests, including the outspoken carrier, suggests a bustling and convivial atmosphere.\\n\\nAlthough Dickens doesn't provide a detailed description of the room, he masterfully uses dialogue and character interaction to paint a vivid picture of the scene and the dynamics between young David, the confident Steerforth, and the devoted Peggotty. \\n</td>\n",
       "      <td>31</td>\n",
       "      <td>233</td>\n",
       "    </tr>\n",
       "    <tr>\n",
       "      <th>5</th>\n",
       "      <td>After his engagement to Dora, David write Agnes a letter. What is the letter about?</td>\n",
       "      <td>He writes to Agnes to assure her of his deep love for Agnes and that this was not a passing fancy or hasty decision.</td>\n",
       "      <td>In Charles Dickens's \"David Copperfield,\" David does indeed write to Agnes Wickfield after his engagement to Dora Spenlow. However, the letter isn't about his love for Agnes, as some readers might anticipate. \\n\\nHere's a breakdown of the letter's content:\\n\\n* **Sharing the news:** David's primary purpose is to inform Agnes of his engagement to Dora. He describes his joy and Dora's charming qualities.\\n* **Seeking approval and reassurance:**  Deep down, David seeks Agnes's validation of his choice. He values her opinion and wants her blessing on his happiness, even though he might not fully realize the extent of his reliance on her.\\n* **Hinting at doubts:** While expressing happiness, the letter subtly reveals David's underlying concerns about his compatibility with Dora. He acknowledges their differences and hints at her lack of practicality. \\n* **Confiding in Agnes:**  Despite his engagement, David still turns to Agnes for emotional support and understanding. He confides in her about his anxieties and hopes for the future.\\n\\nThe letter is significant because it highlights:\\n\\n* **David's naivety:** He's blinded by Dora's beauty and charm, overlooking their fundamental differences.\\n* **The complexity of his feelings:** While in love with Dora, he still depends on Agnes for emotional support and guidance.\\n* **Foreshadowing:** The letter foreshadows the challenges and eventual disillusionment David will face in his marriage to Dora.\\n\\nIn essence, the letter to Agnes is a mixture of joyful announcement, subconscious plea for approval, and an unconscious revelation of David's underlying doubts about his choice of wife. \\n</td>\n",
       "      <td>34</td>\n",
       "      <td>347</td>\n",
       "    </tr>\n",
       "    <tr>\n",
       "      <th>6</th>\n",
       "      <td>What does David find in the hotel where Mr. Micawber requested him to meet in the middle of the night?</td>\n",
       "      <td>A letter stating that he would appear in the morning at half past nine.</td>\n",
       "      <td>David finds Mr. Micawber in a state of emotional distress, having already consumed a significant amount of punch. He's about to expose the villainy of his employer, Uriah Heep. \\n</td>\n",
       "      <td>40</td>\n",
       "      <td>43</td>\n",
       "    </tr>\n",
       "    <tr>\n",
       "      <th>7</th>\n",
       "      <td>Who are David's final thoughts about in the book?</td>\n",
       "      <td>Agnes</td>\n",
       "      <td>In the closing lines of \"David Copperfield,\" David's final thoughts are about **Agnes Wickfield**. \\n\\nHe reflects on their shared past, her unwavering love and support, and the happiness their future holds. He realizes that his restless pursuit of other loves was misguided, and that true happiness resided with Agnes all along. \\n\\nHere's a snippet from the final paragraph:\\n\\n\"And now, my own beloved husband, I am going to tell you of the greatest change that ever happened in my life... when something whispered to me, 'This is the man who can help me best!'\"\\n\\nThe book ends with David's thoughts turning towards their future together, filled with peace and contentment. \\n</td>\n",
       "      <td>28</td>\n",
       "      <td>146</td>\n",
       "    </tr>\n",
       "  </tbody>\n",
       "</table>\n",
       "</div>"
      ],
      "text/plain": [
       "                                                                                                 question  \\\n",
       "0                                      What are the first objects that David can recall from his infancy?   \n",
       "1                                           At the inn where the mail stops, what is painted on the door?   \n",
       "2                                       What name does David's aunt suggest to Mr. Dick they call him by?   \n",
       "3                                What is the name of the chapter in which Mr. Jorkins is first mentioned?   \n",
       "4                              Describe the room in which Mr. Copperfield meets Steerforth for breakfast.   \n",
       "5                     After his engagement to Dora, David write Agnes a letter. What is the letter about?   \n",
       "6  What does David find in the hotel where Mr. Micawber requested him to meet in the middle of the night?   \n",
       "7                                                       Who are David's final thoughts about in the book?   \n",
       "\n",
       "                                                                                                                                                                                                                                                                                                             ground_truth  \\\n",
       "0                                                                                                                                                                                                                                                                          His mother with her pretty hair, and Peggotty.   \n",
       "1                                                                                                                                                                                                                                                                                                                 DOLPHIN   \n",
       "2                                                                                                                                                                                                                                                                                                    Trotwood Copperfield   \n",
       "3                                                                                                                                                                                                                                                         CHAPTER XXIII: I Corroborate Mr. Dick, and Choose a Profession.   \n",
       "4  A snug private apartment, red-curtained and Turkey-carpeted, where the fire burnt bright, and a fine hot breakfast was set forth on a table covered with a clean cloth; and a cheerful miniature of the room, the fire, the breakfast, Steerforth, and all, was shining in the little round mirror over the sideboard.   \n",
       "5                                                                                                                                                                                                    He writes to Agnes to assure her of his deep love for Agnes and that this was not a passing fancy or hasty decision.   \n",
       "6                                                                                                                                                                                                                                                 A letter stating that he would appear in the morning at half past nine.   \n",
       "7                                                                                                                                                                                                                                                                                                                   Agnes   \n",
       "\n",
       "                                                                                                                                                                                                                                                                                                                                                                                                                                                                                                                                                                                                                                                                                                                                                                                                                                                                                                                                                                                                                                                                                                                                                                                                                                                                                                                                                                                                                                                                                                                                                                                                                                                                                                          model_response  \\\n",
       "0                                                                                                                                                                                                                                                                                                                                                                                                                                                                                                                                                                                                                                                                                                                                                                                                                                                                                                                                                                                                                                                                                                                                                                                                                                                                                                                                                 The first objects David Copperfield remembers from his infancy are **the dressing-table with its silver inkstand, and his mother's face reflected in the mirror above it.** \\n\\nThis memory is significant because it highlights the importance of his mother in his early life and establishes a sense of domestic peace that will be shattered by her remarriage. \\n   \n",
       "1                                                                                                                                                                                                                                                                                                                                                                                                                                                                                                                                                                                                                                                                                                                                                                                                                                                                                                                                                                                                                                                                                                                                                                                                                                                                                                                                                                                                                                                   At the inn where the mail coach stops in \"David Copperfield,\" the door features a painting (rather crudely done, we can assume!) of a **blue lion**. \\n\\nThis detail is mentioned in Chapter 5, when young David is on his journey to Yarmouth with the Peggotys. \\n   \n",
       "2                                                                                                                                                                                                                                                                                                                                                                                                                                                                                                                                                                                                                                                                                                                                                                                                                                                                                                                                                                                                                                                                                                                                                                                                                                                                                                                                             David's aunt, Betsey Trotwood, suggests that Mr. Dick call David by the name **\"Trotwood\"**. \\n\\nShe dislikes the name \"David\" because it was the name of David's deceased father, whom she strongly disapproved of. She believes that calling David \"Trotwood\" will help distance him from his father's memory and allow him to forge his own identity under her care. \\n   \n",
       "3                                                                                                                                                                                                                                                                                                                                                                                                                                                                                                                                                                                                                                                                                                                                                                                                                                                                                                                                                                                                                                                                                                                                                                                                                                                                                                                                                Mr. Jorkins is first mentioned in Chapter 8, titled **\"My Holidays. Especially One Happy Afternoon.\"** \\n\\nAlthough he doesn't physically appear in this chapter, Mr. Jorkins is introduced as Mr. Spenlow's business partner at the law firm where David is taken to begin work. He is described as a meek and mild man who is constantly dominated by Mr. Spenlow. \\n   \n",
       "4                                                                                                                                                                                                                                                                                                                                                                                                                                                                                                                                                   While Dickens describes many rooms in detail throughout \"David Copperfield,\" he doesn't specifically describe the room where Mr. Copperfield and Steerforth have breakfast. \\n\\nIt's likely you're thinking of the breakfast scene at the **Inn in Yarmouth**, where David first meets Steerforth as a young boy. However, the text focuses more on the characters and their interactions than the room itself. \\n\\nWe can infer some details about the room from the context:\\n\\n* **It's an inn:** This suggests a common room used for meals by multiple guests, rather than a private dining room.\\n* **It's likely basic but comfortable:** The inn seems respectable but not luxurious, reflecting the modest means of David and Peggotty.\\n* **The atmosphere is lively:** The presence of the other guests, including the outspoken carrier, suggests a bustling and convivial atmosphere.\\n\\nAlthough Dickens doesn't provide a detailed description of the room, he masterfully uses dialogue and character interaction to paint a vivid picture of the scene and the dynamics between young David, the confident Steerforth, and the devoted Peggotty. \\n   \n",
       "5  In Charles Dickens's \"David Copperfield,\" David does indeed write to Agnes Wickfield after his engagement to Dora Spenlow. However, the letter isn't about his love for Agnes, as some readers might anticipate. \\n\\nHere's a breakdown of the letter's content:\\n\\n* **Sharing the news:** David's primary purpose is to inform Agnes of his engagement to Dora. He describes his joy and Dora's charming qualities.\\n* **Seeking approval and reassurance:**  Deep down, David seeks Agnes's validation of his choice. He values her opinion and wants her blessing on his happiness, even though he might not fully realize the extent of his reliance on her.\\n* **Hinting at doubts:** While expressing happiness, the letter subtly reveals David's underlying concerns about his compatibility with Dora. He acknowledges their differences and hints at her lack of practicality. \\n* **Confiding in Agnes:**  Despite his engagement, David still turns to Agnes for emotional support and understanding. He confides in her about his anxieties and hopes for the future.\\n\\nThe letter is significant because it highlights:\\n\\n* **David's naivety:** He's blinded by Dora's beauty and charm, overlooking their fundamental differences.\\n* **The complexity of his feelings:** While in love with Dora, he still depends on Agnes for emotional support and guidance.\\n* **Foreshadowing:** The letter foreshadows the challenges and eventual disillusionment David will face in his marriage to Dora.\\n\\nIn essence, the letter to Agnes is a mixture of joyful announcement, subconscious plea for approval, and an unconscious revelation of David's underlying doubts about his choice of wife. \\n   \n",
       "6                                                                                                                                                                                                                                                                                                                                                                                                                                                                                                                                                                                                                                                                                                                                                                                                                                                                                                                                                                                                                                                                                                                                                                                                                                                                                                                                                                                                                                                                                                                                    David finds Mr. Micawber in a state of emotional distress, having already consumed a significant amount of punch. He's about to expose the villainy of his employer, Uriah Heep. \\n   \n",
       "7                                                                                                                                                                                                                                                                                                                                                                                                                                                                                                                                                                                                                                                                                                                                                                                                                                                                                                                                                                                                              In the closing lines of \"David Copperfield,\" David's final thoughts are about **Agnes Wickfield**. \\n\\nHe reflects on their shared past, her unwavering love and support, and the happiness their future holds. He realizes that his restless pursuit of other loves was misguided, and that true happiness resided with Agnes all along. \\n\\nHere's a snippet from the final paragraph:\\n\\n\"And now, my own beloved husband, I am going to tell you of the greatest change that ever happened in my life... when something whispered to me, 'This is the man who can help me best!'\"\\n\\nThe book ends with David's thoughts turning towards their future together, filled with peace and contentment. \\n   \n",
       "\n",
       "   input_token_count  output_token_count  \n",
       "0                 29                  71  \n",
       "1                 31                  64  \n",
       "2                 33                  88  \n",
       "3                 34                  89  \n",
       "4                 31                 233  \n",
       "5                 34                 347  \n",
       "6                 40                  43  \n",
       "7                 28                 146  "
      ]
     },
     "execution_count": 57,
     "metadata": {},
     "output_type": "execute_result"
    }
   ],
   "source": [
    "%%time\n",
    "df_zeroshot = evaluate(questions, answers, prompt_template, context, gemini_pro_model)\n",
    "df_zeroshot"
   ]
  },
  {
   "cell_type": "markdown",
   "metadata": {
    "id": "1425e1815dec"
   },
   "source": [
    "### Analysis\n",
    "\n",
    "- Latency: 28 seconds\n",
    "- Cost: $0.004\n",
    "- Accuracy: 3/8\n",
    "\n",
    "Accuracy is determined manually by comparing the ground truth to the model response. There is some subjectivity in this evaluation, and at the time of this writing Gemini is non-deterministic, so your results may vary slightly. \n",
    "\n",
    "In our analysis only 2 answers are unambigiously correct, and another two we  consider close enough to give partial credit, for a total of 1+1+0.5+0.5=3 out of 8, or 38% accuracy.\n",
    "\n",
    "The cost is negligable."
   ]
  },
  {
   "cell_type": "markdown",
   "metadata": {
    "id": "75c7df7ee57c"
   },
   "source": [
    "## Long Context Window\n",
    "\n",
    "Now tet's take advantage of the 2M context window with Gemini 1.5 Pro and see if accuracy improves by feeding the entire novel text as context. "
   ]
  },
  {
   "cell_type": "markdown",
   "metadata": {
    "id": "f70d86b4bd4e"
   },
   "source": [
    "### Download Novel"
   ]
  },
  {
   "cell_type": "code",
   "execution_count": 8,
   "metadata": {
    "id": "cf74f159824a"
   },
   "outputs": [],
   "source": [
    "import requests\n",
    "\n",
    "url = \"https://www.gutenberg.org/ebooks/766.txt.utf-8\"\n",
    "try:\n",
    "    response = requests.get(url)\n",
    "    response.raise_for_status()  # Raise an exception for bad status codes (4xx and 5xx)\n",
    "except requests.exceptions.RequestException as e:\n",
    "    print(f\"Error downloading file: {e}\")\n",
    "\n",
    "novel = response.text"
   ]
  },
  {
   "cell_type": "markdown",
   "metadata": {
    "id": "646840d53d26"
   },
   "source": [
    "### Naive approach\n",
    "\n",
    "We will first construct our prompt in a naive way by stuffing the entirety of the novel into the prompt and asking it one question at a time.\n",
    "\n",
    "<div class=\"alert alert-block alert-info\">\n",
    "\n",
    "💡 <b>TIP</b> </br>\n",
    "<hr/>\n",
    "\n",
    "When working with a long context prompts, you can follow a few prompting strategies: </br>\n",
    "\n",
    "<ol>\n",
    "    <li>Structure your prompt separating out input data (documents) from the instructions. In the prompt template, we are using XML tags to separate out document and instructions. This helps Gemini 1.5 Pro to disambiguate data from instructions and process the prompt optimally.</li></br>\n",
    "    <li>Location of instruction and user input matters! Documents are added first followed by instructions and user input/question. This placement helps the model to address the question better.</li>\n",
    "</ol>\n",
    "</div>"
   ]
  },
  {
   "cell_type": "code",
   "execution_count": 59,
   "metadata": {
    "id": "4940ce45711d"
   },
   "outputs": [
    {
     "name": "stdout",
     "output_type": "stream",
     "text": [
      "CPU times: user 4.78 s, sys: 341 ms, total: 5.12 s\n",
      "Wall time: 4min 41s\n"
     ]
    },
    {
     "data": {
      "text/html": [
       "<div>\n",
       "<style scoped>\n",
       "    .dataframe tbody tr th:only-of-type {\n",
       "        vertical-align: middle;\n",
       "    }\n",
       "\n",
       "    .dataframe tbody tr th {\n",
       "        vertical-align: top;\n",
       "    }\n",
       "\n",
       "    .dataframe thead th {\n",
       "        text-align: right;\n",
       "    }\n",
       "</style>\n",
       "<table border=\"1\" class=\"dataframe\">\n",
       "  <thead>\n",
       "    <tr style=\"text-align: right;\">\n",
       "      <th></th>\n",
       "      <th>question</th>\n",
       "      <th>ground_truth</th>\n",
       "      <th>model_response</th>\n",
       "      <th>input_token_count</th>\n",
       "      <th>output_token_count</th>\n",
       "    </tr>\n",
       "  </thead>\n",
       "  <tbody>\n",
       "    <tr>\n",
       "      <th>0</th>\n",
       "      <td>What are the first objects that David can recall from his infancy?</td>\n",
       "      <td>His mother with her pretty hair, and Peggotty.</td>\n",
       "      <td>The first objects David Copperfield remembers from his infancy are his mother, with her pretty hair and youthful shape, and Peggotty, with \"no shape at all\" and dark eyes, red cheeks, and hard arms. \\n</td>\n",
       "      <td>539714</td>\n",
       "      <td>48</td>\n",
       "    </tr>\n",
       "    <tr>\n",
       "      <th>1</th>\n",
       "      <td>At the inn where the mail stops, what is painted on the door?</td>\n",
       "      <td>DOLPHIN</td>\n",
       "      <td>The door has **DOLPHIN** painted on it. \\n</td>\n",
       "      <td>539716</td>\n",
       "      <td>14</td>\n",
       "    </tr>\n",
       "    <tr>\n",
       "      <th>2</th>\n",
       "      <td>What name does David's aunt suggest to Mr. Dick they call him by?</td>\n",
       "      <td>Trotwood Copperfield</td>\n",
       "      <td>David's aunt suggests to Mr. Dick that they call him \"Trotwood\". \\n</td>\n",
       "      <td>539718</td>\n",
       "      <td>20</td>\n",
       "    </tr>\n",
       "    <tr>\n",
       "      <th>3</th>\n",
       "      <td>What is the name of the chapter in which Mr. Jorkins is first mentioned?</td>\n",
       "      <td>CHAPTER XXIII: I Corroborate Mr. Dick, and Choose a Profession.</td>\n",
       "      <td>Mr. Jorkins is first mentioned in **Chapter 23, \"I Corroborate Mr. Dick, and Choose a Profession\".** \\n</td>\n",
       "      <td>539719</td>\n",
       "      <td>32</td>\n",
       "    </tr>\n",
       "    <tr>\n",
       "      <th>4</th>\n",
       "      <td>Describe the room in which Mr. Copperfield meets Steerforth for breakfast.</td>\n",
       "      <td>A snug private apartment, red-curtained and Turkey-carpeted, where the fire burnt bright, and a fine hot breakfast was set forth on a table covered with a clean cloth; and a cheerful miniature of the room, the fire, the breakfast, Steerforth, and all, was shining in the little round mirror over the sideboard.</td>\n",
       "      <td>The room where David Copperfield meets Steerforth for breakfast is described as a \"snug private apartment,\" a welcome contrast to the dingy, shared coffee-room where David had spent the previous night. It is decorated with red curtains and has a Turkey carpet. A bright fire burns in the fireplace, and a \"fine hot breakfast\" is laid out on a table covered with a clean tablecloth. The scene is reflected in a \"cheerful miniature\" in the small, round mirror hanging over the sideboard. \\n</td>\n",
       "      <td>539716</td>\n",
       "      <td>103</td>\n",
       "    </tr>\n",
       "    <tr>\n",
       "      <th>5</th>\n",
       "      <td>After his engagement to Dora, David write Agnes a letter. What is the letter about?</td>\n",
       "      <td>He writes to Agnes to assure her of his deep love for Agnes and that this was not a passing fancy or hasty decision.</td>\n",
       "      <td>After David gets engaged to Dora, he writes Agnes a long letter telling her how happy he is and how wonderful Dora is. He describes his love for Dora as profound and unlike anything ever known, trying to convince Agnes that this is not a passing fancy like his childhood infatuations. He wants her to understand that his love for Dora is serious and lasting. \\n</td>\n",
       "      <td>539719</td>\n",
       "      <td>73</td>\n",
       "    </tr>\n",
       "    <tr>\n",
       "      <th>6</th>\n",
       "      <td>What does David find in the hotel where Mr. Micawber requested him to meet in the middle of the night?</td>\n",
       "      <td>A letter stating that he would appear in the morning at half past nine.</td>\n",
       "      <td>In the hotel where Mr. Micawber requested to meet David in the middle of the night, David finds a **letter**. \\n\\nThis letter informs David that Mr. Micawber will be appearing in the morning at precisely half past nine. \\n</td>\n",
       "      <td>539725</td>\n",
       "      <td>52</td>\n",
       "    </tr>\n",
       "    <tr>\n",
       "      <th>7</th>\n",
       "      <td>Who are David's final thoughts about in the book?</td>\n",
       "      <td>Agnes</td>\n",
       "      <td>At the end of the book, David's final thoughts are about **Agnes**. He reflects on their journey together through life, surrounded by their children and friends. He recognizes her as the guiding force that has always led him to be a better person, and expresses his enduring love for her. He imagines her by his side as he closes his life, a constant source of solace and inspiration. \\n</td>\n",
       "      <td>539713</td>\n",
       "      <td>81</td>\n",
       "    </tr>\n",
       "  </tbody>\n",
       "</table>\n",
       "</div>"
      ],
      "text/plain": [
       "                                                                                                 question  \\\n",
       "0                                      What are the first objects that David can recall from his infancy?   \n",
       "1                                           At the inn where the mail stops, what is painted on the door?   \n",
       "2                                       What name does David's aunt suggest to Mr. Dick they call him by?   \n",
       "3                                What is the name of the chapter in which Mr. Jorkins is first mentioned?   \n",
       "4                              Describe the room in which Mr. Copperfield meets Steerforth for breakfast.   \n",
       "5                     After his engagement to Dora, David write Agnes a letter. What is the letter about?   \n",
       "6  What does David find in the hotel where Mr. Micawber requested him to meet in the middle of the night?   \n",
       "7                                                       Who are David's final thoughts about in the book?   \n",
       "\n",
       "                                                                                                                                                                                                                                                                                                             ground_truth  \\\n",
       "0                                                                                                                                                                                                                                                                          His mother with her pretty hair, and Peggotty.   \n",
       "1                                                                                                                                                                                                                                                                                                                 DOLPHIN   \n",
       "2                                                                                                                                                                                                                                                                                                    Trotwood Copperfield   \n",
       "3                                                                                                                                                                                                                                                         CHAPTER XXIII: I Corroborate Mr. Dick, and Choose a Profession.   \n",
       "4  A snug private apartment, red-curtained and Turkey-carpeted, where the fire burnt bright, and a fine hot breakfast was set forth on a table covered with a clean cloth; and a cheerful miniature of the room, the fire, the breakfast, Steerforth, and all, was shining in the little round mirror over the sideboard.   \n",
       "5                                                                                                                                                                                                    He writes to Agnes to assure her of his deep love for Agnes and that this was not a passing fancy or hasty decision.   \n",
       "6                                                                                                                                                                                                                                                 A letter stating that he would appear in the morning at half past nine.   \n",
       "7                                                                                                                                                                                                                                                                                                                   Agnes   \n",
       "\n",
       "                                                                                                                                                                                                                                                                                                                                                                                                                                                                                             model_response  \\\n",
       "0                                                                                                                                                                                                                                                                                                 The first objects David Copperfield remembers from his infancy are his mother, with her pretty hair and youthful shape, and Peggotty, with \"no shape at all\" and dark eyes, red cheeks, and hard arms. \\n   \n",
       "1                                                                                                                                                                                                                                                                                                                                                                                                                                                                The door has **DOLPHIN** painted on it. \\n   \n",
       "2                                                                                                                                                                                                                                                                                                                                                                                                                                       David's aunt suggests to Mr. Dick that they call him \"Trotwood\". \\n   \n",
       "3                                                                                                                                                                                                                                                                                                                                                                                                   Mr. Jorkins is first mentioned in **Chapter 23, \"I Corroborate Mr. Dick, and Choose a Profession\".** \\n   \n",
       "4  The room where David Copperfield meets Steerforth for breakfast is described as a \"snug private apartment,\" a welcome contrast to the dingy, shared coffee-room where David had spent the previous night. It is decorated with red curtains and has a Turkey carpet. A bright fire burns in the fireplace, and a \"fine hot breakfast\" is laid out on a table covered with a clean tablecloth. The scene is reflected in a \"cheerful miniature\" in the small, round mirror hanging over the sideboard. \\n   \n",
       "5                                                                                                                                 After David gets engaged to Dora, he writes Agnes a long letter telling her how happy he is and how wonderful Dora is. He describes his love for Dora as profound and unlike anything ever known, trying to convince Agnes that this is not a passing fancy like his childhood infatuations. He wants her to understand that his love for Dora is serious and lasting. \\n   \n",
       "6                                                                                                                                                                                                                                                                            In the hotel where Mr. Micawber requested to meet David in the middle of the night, David finds a **letter**. \\n\\nThis letter informs David that Mr. Micawber will be appearing in the morning at precisely half past nine. \\n   \n",
       "7                                                                                                       At the end of the book, David's final thoughts are about **Agnes**. He reflects on their journey together through life, surrounded by their children and friends. He recognizes her as the guiding force that has always led him to be a better person, and expresses his enduring love for her. He imagines her by his side as he closes his life, a constant source of solace and inspiration. \\n   \n",
       "\n",
       "   input_token_count  output_token_count  \n",
       "0             539714                  48  \n",
       "1             539716                  14  \n",
       "2             539718                  20  \n",
       "3             539719                  32  \n",
       "4             539716                 103  \n",
       "5             539719                  73  \n",
       "6             539725                  52  \n",
       "7             539713                  81  "
      ]
     },
     "execution_count": 59,
     "metadata": {},
     "output_type": "execute_result"
    }
   ],
   "source": [
    "%%time\n",
    "prompt_template = \"\"\"\n",
    "Your task is to read the full text of the novel David Copperfield and then answer the questions below. \n",
    "\n",
    "<document>\n",
    "{context}\n",
    "</document>\n",
    "\n",
    "Based on the novel text provided, answer the following: \n",
    "{question}\n",
    "\"\"\"\n",
    "\n",
    "df_noncache = evaluate(questions, answers, prompt_template, novel, gemini_pro_model)\n",
    "df_noncache"
   ]
  },
  {
   "cell_type": "markdown",
   "metadata": {
    "id": "54034d18751b"
   },
   "source": [
    "#### Analysis\n",
    "\n",
    "- Latency: 4.7min\n",
    "- Cost: \\$19.68\n",
    "- Accuracy: 8/8\n",
    "\n",
    "Unsuprisingly latency is much greater since we're increasing our prompt size by 500K tokens. \n",
    "\n",
    "Cost is also significantly increased. At the time of this writing (refer to the [pricing](https://cloud.google.com/vertex-ai/generative-ai/pricing) for latest) Gemini 1.5 Pro costs  \\\\$0.00125/1k input characters. The novel is 1,970,730 characters which amounts to \\\\$2.46 per invocation.\n",
    "\n",
    "However we now have 100% accuracy."
   ]
  },
  {
   "cell_type": "markdown",
   "metadata": {
    "id": "141231129252"
   },
   "source": [
    "### Batching multiple questions\n",
    "\n",
    "One way to save on cost and latency when dealing with long contexts is by batching multiple questions into one prompt. Let's try asking all 8 of our questions at once."
   ]
  },
  {
   "cell_type": "code",
   "execution_count": 60,
   "metadata": {
    "id": "50e0634268dd"
   },
   "outputs": [
    {
     "name": "stdout",
     "output_type": "stream",
     "text": [
      "CPU times: user 649 ms, sys: 103 ms, total: 752 ms\n",
      "Wall time: 1min 41s\n"
     ]
    },
    {
     "data": {
      "text/markdown": [
       "Here are the answers to your questions, based on the provided text of *David Copperfield*:\n",
       "\n",
       "1. **What are the first objects that David can recall from his infancy?**  The first objects David remembers are his mother, with her pretty hair and youthful shape, and Peggotty, with her dark eyes and hard, red cheeks and arms.\n",
       "\n",
       "2. **At the inn where the mail stops, what is painted on the door?** The door of David's room at the inn has \"DOLPHIN\" painted on it.\n",
       "\n",
       "3. **What name does David's aunt suggest to Mr. Dick they call him by?** David's aunt suggests they call him \"Trotwood,\" later shortening it to \"Trot.\"\n",
       "\n",
       "4. **What is the name of the chapter in which Mr. Jorkins is first mentioned?** Mr. Jorkins is first mentioned in Chapter 23, \"I Corroborate Mr. Dick, and Choose a Profession.\"\n",
       "\n",
       "5. **Describe the room in which Mr. Copperfield meets Steerforth for breakfast.** David meets Steerforth for breakfast in a \"snug private apartment, red-curtained and Turkey-carpeted,\" where a fire burns brightly and a hot breakfast is laid out. A miniature of the cozy scene is reflected in a small, round mirror over the sideboard.\n",
       "\n",
       "6. **After his engagement to Dora, David writes Agnes a letter. What is the letter about?** In his letter to Agnes, David tries to convey how happy he is and how much he loves Dora. He insists that his love for Dora is not a passing fancy and asks Agnes not to see it as similar to the boyish infatuations they used to joke about. He also mentions the sadness in Yarmouth over Emily's disappearance, saying it is a double wound for him due to the circumstances.\n",
       "\n",
       "7. **What does David find in the hotel where Mr. Micawber requested him to meet in the middle of the night?** David finds a letter from Mr. Micawber at the hotel. In the letter, Mr. Micawber dramatically declares himself \"Crushed\" and facing financial ruin. He also hints at impending legal trouble and the imminent arrival of another child.\n",
       "\n",
       "8. **Who are David's final thoughts about in the book?** David's final thoughts are about Agnes. He reflects on how she has always been his guiding light and how his love for her has sustained him. The book ends with him imagining her by his side as he dies, \"pointing upward.\" \n"
      ],
      "text/plain": [
       "<IPython.core.display.Markdown object>"
      ]
     },
     "execution_count": 60,
     "metadata": {},
     "output_type": "execute_result"
    }
   ],
   "source": [
    "%%time\n",
    "prompt_template = \"\"\"\n",
    "Your task is to read the full text of the novel David Copperfield and then answer the questions below. \n",
    "\n",
    "<document>\n",
    "{context}\n",
    "</document>\n",
    "\n",
    "Based on the novel text provided, answer the following: \n",
    "{question}\n",
    "\"\"\"\n",
    "\n",
    "prompt = prompt_template.format(context=novel, question=questions)\n",
    "response = gemini_pro_model.generate_content(prompt).text\n",
    "Markdown(response)"
   ]
  },
  {
   "cell_type": "markdown",
   "metadata": {
    "id": "90ba3100fac0"
   },
   "source": [
    "#### Analysis\n",
    "\n",
    "- Latency: 1.7min\n",
    "- Cost: $2.47\n",
    "- Accuracy: 7/8\n",
    "\n",
    "While we save considerably on latency and cost, it now hallucinates the answer for question 7. Asking several questions in a single prompt, while cost and latency efficient, can sacrifice accuracy. \n",
    "\n",
    "You can treat the number of questions per prompt as a sort of hyperparameter, reducing it to prioritize accuracy and increasing it prioritize cost and/or latency. "
   ]
  },
  {
   "cell_type": "markdown",
   "metadata": {
    "id": "7049c7bd8a13"
   },
   "source": [
    "### Context Caching\n",
    "\n",
    "In cases where we anticipate multiple model invocations about the same long context, instead of passing the whole context in the prompt each time we can take advantage of [context caching](https://cloud.google.com/vertex-ai/generative-ai/docs/context-cache/context-cache-overview).\n",
    "\n",
    "Caching can be combined with batching to further reduce cost and latency. For example if you have 100 questions, ask in 10 batches of 10 questions. However for the sake of comparison we will forgo batching and ask only one question per prompt.\n",
    "\n",
    "A few things to note with context caching:\n",
    "- The minimum size of a context cache is 32K tokens.\n",
    "- By default, each context cache has a expiration time of 60min, which can be updated either at or after cache creation."
   ]
  },
  {
   "cell_type": "code",
   "execution_count": 65,
   "metadata": {
    "id": "a13d4c328088"
   },
   "outputs": [
    {
     "name": "stderr",
     "output_type": "stream",
     "text": [
      "I0000 00:00:1725979817.435063 97862253 check_gcp_environment_no_op.cc:29] ALTS: Platforms other than Linux and Windows are not supported\n",
      "I0000 00:00:1725979825.959627 97862253 check_gcp_environment_no_op.cc:29] ALTS: Platforms other than Linux and Windows are not supported\n",
      "I0000 00:00:1725979826.326992 97862253 check_gcp_environment_no_op.cc:29] ALTS: Platforms other than Linux and Windows are not supported\n"
     ]
    }
   ],
   "source": [
    "from vertexai.preview import caching\n",
    "from vertexai.preview.generative_models import GenerativeModel\n",
    "\n",
    "system_instruction = \"\"\"\n",
    "Your task is to read the full text of the novel David Copperfield and then answer the questions below. \n",
    "\"\"\"\n",
    "\n",
    "contents = [Part.from_text(novel)]\n",
    "\n",
    "cached_content = caching.CachedContent.create(\n",
    "    model_name=\"gemini-1.5-pro-001\",\n",
    "    system_instruction=system_instruction,\n",
    "    contents=contents,\n",
    "    ttl=datetime.timedelta(minutes=10),\n",
    ")\n",
    "cached_content = caching.CachedContent(cached_content_name=cached_content.name)\n",
    "\n",
    "model_cached = GenerativeModel.from_cached_content(\n",
    "    cached_content=cached_content,\n",
    "    generation_config=GENERATION_CONFIG,\n",
    "    safety_settings=SAFETY_CONFIG,\n",
    ")"
   ]
  },
  {
   "cell_type": "code",
   "execution_count": 66,
   "metadata": {
    "id": "b8aa47962ff4"
   },
   "outputs": [
    {
     "name": "stderr",
     "output_type": "stream",
     "text": [
      "I0000 00:00:1725979826.734134 97862253 check_gcp_environment_no_op.cc:29] ALTS: Platforms other than Linux and Windows are not supported\n"
     ]
    },
    {
     "name": "stdout",
     "output_type": "stream",
     "text": [
      "CPU times: user 210 ms, sys: 143 ms, total: 353 ms\n",
      "Wall time: 2min 52s\n"
     ]
    },
    {
     "data": {
      "text/html": [
       "<div>\n",
       "<style scoped>\n",
       "    .dataframe tbody tr th:only-of-type {\n",
       "        vertical-align: middle;\n",
       "    }\n",
       "\n",
       "    .dataframe tbody tr th {\n",
       "        vertical-align: top;\n",
       "    }\n",
       "\n",
       "    .dataframe thead th {\n",
       "        text-align: right;\n",
       "    }\n",
       "</style>\n",
       "<table border=\"1\" class=\"dataframe\">\n",
       "  <thead>\n",
       "    <tr style=\"text-align: right;\">\n",
       "      <th></th>\n",
       "      <th>question</th>\n",
       "      <th>ground_truth</th>\n",
       "      <th>model_response</th>\n",
       "      <th>input_token_count</th>\n",
       "      <th>output_token_count</th>\n",
       "    </tr>\n",
       "  </thead>\n",
       "  <tbody>\n",
       "    <tr>\n",
       "      <th>0</th>\n",
       "      <td>What are the first objects that David can recall from his infancy?</td>\n",
       "      <td>His mother with her pretty hair, and Peggotty.</td>\n",
       "      <td>The first objects David Copperfield remembers from his infancy are his mother, with her pretty hair and youthful shape, and Peggotty, with \"no shape at all\" and dark eyes, red cheeks, and hard arms. \\n</td>\n",
       "      <td>539701</td>\n",
       "      <td>48</td>\n",
       "    </tr>\n",
       "    <tr>\n",
       "      <th>1</th>\n",
       "      <td>At the inn where the mail stops, what is painted on the door?</td>\n",
       "      <td>DOLPHIN</td>\n",
       "      <td>The door has **DOLPHIN** painted on it. \\n</td>\n",
       "      <td>539703</td>\n",
       "      <td>14</td>\n",
       "    </tr>\n",
       "    <tr>\n",
       "      <th>2</th>\n",
       "      <td>What name does David's aunt suggest to Mr. Dick they call him by?</td>\n",
       "      <td>Trotwood Copperfield</td>\n",
       "      <td>David's aunt suggests to Mr. Dick that they call David \"Trotwood\". \\n</td>\n",
       "      <td>539705</td>\n",
       "      <td>20</td>\n",
       "    </tr>\n",
       "    <tr>\n",
       "      <th>3</th>\n",
       "      <td>What is the name of the chapter in which Mr. Jorkins is first mentioned?</td>\n",
       "      <td>CHAPTER XXIII: I Corroborate Mr. Dick, and Choose a Profession.</td>\n",
       "      <td>Mr. Jorkins is first mentioned in Chapter 23, \"I Corroborate Mr. Dick, and Choose a Profession\". \\n</td>\n",
       "      <td>539706</td>\n",
       "      <td>30</td>\n",
       "    </tr>\n",
       "    <tr>\n",
       "      <th>4</th>\n",
       "      <td>Describe the room in which Mr. Copperfield meets Steerforth for breakfast.</td>\n",
       "      <td>A snug private apartment, red-curtained and Turkey-carpeted, where the fire burnt bright, and a fine hot breakfast was set forth on a table covered with a clean cloth; and a cheerful miniature of the room, the fire, the breakfast, Steerforth, and all, was shining in the little round mirror over the sideboard.</td>\n",
       "      <td>Mr. Copperfield describes the room where he has breakfast with Steerforth as a \"snug private apartment.\" It is decorated with red curtains and has a Turkey carpet. A bright fire burns in the fireplace, and a \"fine hot breakfast\" is laid out on a table covered with a clean tablecloth. The scene is reflected in a \"little round mirror over the sideboard,\" creating a cozy and inviting atmosphere. \\n</td>\n",
       "      <td>539703</td>\n",
       "      <td>84</td>\n",
       "    </tr>\n",
       "    <tr>\n",
       "      <th>5</th>\n",
       "      <td>After his engagement to Dora, David write Agnes a letter. What is the letter about?</td>\n",
       "      <td>He writes to Agnes to assure her of his deep love for Agnes and that this was not a passing fancy or hasty decision.</td>\n",
       "      <td>After getting engaged to Dora, David writes a long letter to Agnes telling her about his engagement and how blissful he is. He describes how much he adores Dora and tries to convince Agnes that this love is different from the boyish fancies they used to joke about, claiming its depth is unfathomable. He avoids mentioning Steerforth and only tells her about the sadness in Yarmouth caused by Emily's disappearance, which has deeply affected him. \\n</td>\n",
       "      <td>539706</td>\n",
       "      <td>91</td>\n",
       "    </tr>\n",
       "    <tr>\n",
       "      <th>6</th>\n",
       "      <td>What does David find in the hotel where Mr. Micawber requested him to meet in the middle of the night?</td>\n",
       "      <td>A letter stating that he would appear in the morning at half past nine.</td>\n",
       "      <td>David finds a letter from Mr. Micawber stating that he will appear in the morning at half past nine. \\n</td>\n",
       "      <td>539712</td>\n",
       "      <td>25</td>\n",
       "    </tr>\n",
       "    <tr>\n",
       "      <th>7</th>\n",
       "      <td>Who are David's final thoughts about in the book?</td>\n",
       "      <td>Agnes</td>\n",
       "      <td>At the end of the book, David's final thoughts are about **Agnes**. He reflects on their journey together through life, surrounded by their children and friends. He acknowledges her unwavering support and guidance, and expresses his enduring love for her. He sees her as a guiding light, a source of solace and inspiration, and hopes that her presence will remain with him until the end of his life. \\n</td>\n",
       "      <td>539700</td>\n",
       "      <td>82</td>\n",
       "    </tr>\n",
       "  </tbody>\n",
       "</table>\n",
       "</div>"
      ],
      "text/plain": [
       "                                                                                                 question  \\\n",
       "0                                      What are the first objects that David can recall from his infancy?   \n",
       "1                                           At the inn where the mail stops, what is painted on the door?   \n",
       "2                                       What name does David's aunt suggest to Mr. Dick they call him by?   \n",
       "3                                What is the name of the chapter in which Mr. Jorkins is first mentioned?   \n",
       "4                              Describe the room in which Mr. Copperfield meets Steerforth for breakfast.   \n",
       "5                     After his engagement to Dora, David write Agnes a letter. What is the letter about?   \n",
       "6  What does David find in the hotel where Mr. Micawber requested him to meet in the middle of the night?   \n",
       "7                                                       Who are David's final thoughts about in the book?   \n",
       "\n",
       "                                                                                                                                                                                                                                                                                                             ground_truth  \\\n",
       "0                                                                                                                                                                                                                                                                          His mother with her pretty hair, and Peggotty.   \n",
       "1                                                                                                                                                                                                                                                                                                                 DOLPHIN   \n",
       "2                                                                                                                                                                                                                                                                                                    Trotwood Copperfield   \n",
       "3                                                                                                                                                                                                                                                         CHAPTER XXIII: I Corroborate Mr. Dick, and Choose a Profession.   \n",
       "4  A snug private apartment, red-curtained and Turkey-carpeted, where the fire burnt bright, and a fine hot breakfast was set forth on a table covered with a clean cloth; and a cheerful miniature of the room, the fire, the breakfast, Steerforth, and all, was shining in the little round mirror over the sideboard.   \n",
       "5                                                                                                                                                                                                    He writes to Agnes to assure her of his deep love for Agnes and that this was not a passing fancy or hasty decision.   \n",
       "6                                                                                                                                                                                                                                                 A letter stating that he would appear in the morning at half past nine.   \n",
       "7                                                                                                                                                                                                                                                                                                                   Agnes   \n",
       "\n",
       "                                                                                                                                                                                                                                                                                                                                                                                                                                                      model_response  \\\n",
       "0                                                                                                                                                                                                                                                          The first objects David Copperfield remembers from his infancy are his mother, with her pretty hair and youthful shape, and Peggotty, with \"no shape at all\" and dark eyes, red cheeks, and hard arms. \\n   \n",
       "1                                                                                                                                                                                                                                                                                                                                                                                                                         The door has **DOLPHIN** painted on it. \\n   \n",
       "2                                                                                                                                                                                                                                                                                                                                                                                              David's aunt suggests to Mr. Dick that they call David \"Trotwood\". \\n   \n",
       "3                                                                                                                                                                                                                                                                                                                                                                Mr. Jorkins is first mentioned in Chapter 23, \"I Corroborate Mr. Dick, and Choose a Profession\". \\n   \n",
       "4                                                     Mr. Copperfield describes the room where he has breakfast with Steerforth as a \"snug private apartment.\" It is decorated with red curtains and has a Turkey carpet. A bright fire burns in the fireplace, and a \"fine hot breakfast\" is laid out on a table covered with a clean tablecloth. The scene is reflected in a \"little round mirror over the sideboard,\" creating a cozy and inviting atmosphere. \\n   \n",
       "5  After getting engaged to Dora, David writes a long letter to Agnes telling her about his engagement and how blissful he is. He describes how much he adores Dora and tries to convince Agnes that this love is different from the boyish fancies they used to joke about, claiming its depth is unfathomable. He avoids mentioning Steerforth and only tells her about the sadness in Yarmouth caused by Emily's disappearance, which has deeply affected him. \\n   \n",
       "6                                                                                                                                                                                                                                                                                                                                                            David finds a letter from Mr. Micawber stating that he will appear in the morning at half past nine. \\n   \n",
       "7                                                 At the end of the book, David's final thoughts are about **Agnes**. He reflects on their journey together through life, surrounded by their children and friends. He acknowledges her unwavering support and guidance, and expresses his enduring love for her. He sees her as a guiding light, a source of solace and inspiration, and hopes that her presence will remain with him until the end of his life. \\n   \n",
       "\n",
       "   input_token_count  output_token_count  \n",
       "0             539701                  48  \n",
       "1             539703                  14  \n",
       "2             539705                  20  \n",
       "3             539706                  30  \n",
       "4             539703                  84  \n",
       "5             539706                  91  \n",
       "6             539712                  25  \n",
       "7             539700                  82  "
      ]
     },
     "execution_count": 66,
     "metadata": {},
     "output_type": "execute_result"
    }
   ],
   "source": [
    "%%time\n",
    "cached_prompt_template = \"Answer the following question from the full text: {question}\"\n",
    "\n",
    "df_cache = evaluate(\n",
    "    questions,\n",
    "    answers,\n",
    "    cached_prompt_template,\n",
    "    novel,\n",
    "    model_cached,\n",
    "    is_context_cached=True,\n",
    ")\n",
    "df_cache"
   ]
  },
  {
   "cell_type": "markdown",
   "metadata": {
    "id": "711d552f2b71"
   },
   "source": [
    "### Analysis\n",
    "\n",
    "- Latency: 2.9 minutes\n",
    "- Cost: \\\\$10.22 (\\\\$9.85 query cost + \\\\$0.37 storage for 10 minutes)\n",
    "- Accuracy: 8/8\n",
    "\n",
    "\n",
    "Cached input is 2x discounted at \\\\$0.000625/1k input characters (> 128K context window), plus a storage charge of \\\\$0.001125/1k characters/hour. \n",
    "\n",
    "The more often you query, the more the caching approach saves. There is a latency improvement from caching and accuracy is back at 100%."
   ]
  },
  {
   "cell_type": "markdown",
   "metadata": {},
   "source": [
    "# RAG\n",
    "\n",
    "Lastly we will implement a retrieval augmented generation (RAG) approach. Prior to the introduction of Gemini's long context window, this was the only way to do question and answer on text of this length. For the RAG approach we will assume a max input token length of 30K, which corresponds to the limit for the previous version of Gemini (1.0).\n",
    "\n",
    "Google offers an out of the box enterprise grade RAG experience via [Vertex AI Search](https://cloud.google.com/enterprise-search). While for production use cases we would recommend that, in order to keep this notebook self contained we will implement an in-memory RAG approach using langchain. \n",
    "\n",
    "As this is not a RAG tutorial, detailed implementation instructions are ommited. For detailed instructions see the [langchain docs](https://python.langchain.com/v0.2/docs/tutorials/rag/)."
   ]
  },
  {
   "cell_type": "code",
   "execution_count": 11,
   "metadata": {},
   "outputs": [
    {
     "name": "stderr",
     "output_type": "stream",
     "text": [
      "I0000 00:00:1726061249.322897 110062116 check_gcp_environment_no_op.cc:29] ALTS: Platforms other than Linux and Windows are not supported\n",
      "I0000 00:00:1726061249.746353 110062116 check_gcp_environment_no_op.cc:29] ALTS: Platforms other than Linux and Windows are not supported\n",
      "I0000 00:00:1726061249.746655 110062116 check_gcp_environment_no_op.cc:29] ALTS: Platforms other than Linux and Windows are not supported\n"
     ]
    }
   ],
   "source": [
    "from langchain.text_splitter import RecursiveCharacterTextSplitter\n",
    "from langchain.vectorstores import FAISS\n",
    "from langchain.chains import RetrievalQA\n",
    "from langchain_google_vertexai import ChatVertexAI, VertexAIEmbeddings\n",
    "from langchain.schema.document import Document\n",
    "\n",
    "# 1. Load and Split Text\n",
    "text_splitter = RecursiveCharacterTextSplitter(\n",
    "    chunk_size=4000,\n",
    "    chunk_overlap=200,\n",
    "    separators=[\"\\n\\n\", \"\\n\", \".\", \"!\", \"?\", \",\", \" \", \"\"],\n",
    ")\n",
    "docs = [Document(page_content=x) for x in text_splitter.split_text(novel)]\n",
    "\n",
    "# 2. Create Embeddings and Vectorstore\n",
    "embeddings = VertexAIEmbeddings(\"text-embedding-004\")\n",
    "vectorstore = FAISS.from_documents(docs, embeddings)\n",
    "\n",
    "# 3. Set up RetrievalQA Chain\n",
    "llm = ChatVertexAI(model=\"gemini-1.5-pro-001\")\n",
    "qa = RetrievalQA.from_chain_type(llm=llm, chain_type=\"stuff\", retriever=vectorstore.as_retriever(search_kwargs={\"k\": 7}))"
   ]
  },
  {
   "cell_type": "code",
   "execution_count": 38,
   "metadata": {},
   "outputs": [
    {
     "name": "stdout",
     "output_type": "stream",
     "text": [
      "CPU times: user 228 ms, sys: 52.8 ms, total: 281 ms\n",
      "Wall time: 31 s\n"
     ]
    },
    {
     "data": {
      "text/html": [
       "<div>\n",
       "<style scoped>\n",
       "    .dataframe tbody tr th:only-of-type {\n",
       "        vertical-align: middle;\n",
       "    }\n",
       "\n",
       "    .dataframe tbody tr th {\n",
       "        vertical-align: top;\n",
       "    }\n",
       "\n",
       "    .dataframe thead th {\n",
       "        text-align: right;\n",
       "    }\n",
       "</style>\n",
       "<table border=\"1\" class=\"dataframe\">\n",
       "  <thead>\n",
       "    <tr style=\"text-align: right;\">\n",
       "      <th></th>\n",
       "      <th>question</th>\n",
       "      <th>ground_truth</th>\n",
       "      <th>model_response</th>\n",
       "    </tr>\n",
       "  </thead>\n",
       "  <tbody>\n",
       "    <tr>\n",
       "      <th>0</th>\n",
       "      <td>What are the first objects that David can recall from his infancy?</td>\n",
       "      <td>His mother with her pretty hair, and Peggotty.</td>\n",
       "      <td>The first objects David Copperfield remembers are his mother, with her pretty hair and youthful shape, and Peggotty, with no shape at all, and very dark eyes and red cheeks. \\n</td>\n",
       "    </tr>\n",
       "    <tr>\n",
       "      <th>1</th>\n",
       "      <td>At the inn where the mail stops, what is painted on the door?</td>\n",
       "      <td>DOLPHIN</td>\n",
       "      <td>DOLPHIN \\n</td>\n",
       "    </tr>\n",
       "    <tr>\n",
       "      <th>2</th>\n",
       "      <td>What name does David's aunt suggest to Mr. Dick they call him by?</td>\n",
       "      <td>Trotwood Copperfield</td>\n",
       "      <td>Trotwood \\n</td>\n",
       "    </tr>\n",
       "    <tr>\n",
       "      <th>3</th>\n",
       "      <td>What is the name of the chapter in which Mr. Jorkins is first mentioned?</td>\n",
       "      <td>CHAPTER XXIII: I Corroborate Mr. Dick, and Choose a Profession.</td>\n",
       "      <td>This passage mentions that Mr. Jorkins is first mentioned in the context of Mr. Copperfield trying to cancel his articles, but it does not specify the chapter number. Therefore, I cannot answer your question. \\n</td>\n",
       "    </tr>\n",
       "    <tr>\n",
       "      <th>4</th>\n",
       "      <td>Describe the room in which Mr. Copperfield meets Steerforth for breakfast.</td>\n",
       "      <td>A snug private apartment, red-curtained and Turkey-carpeted, where the fire burnt bright, and a fine hot breakfast was set forth on a table covered with a clean cloth; and a cheerful miniature of the room, the fire, the breakfast, Steerforth, and all, was shining in the little round mirror over the sideboard.</td>\n",
       "      <td>The room is described as a \"snug private apartment\" that's \"red-curtained and Turkey-carpeted.\" It has a bright, burning fire, and a hot breakfast is laid out on a table covered with a clean cloth. A small, round mirror over the sideboard reflects the cozy scene. \\n</td>\n",
       "    </tr>\n",
       "    <tr>\n",
       "      <th>5</th>\n",
       "      <td>After his engagement to Dora, David write Agnes a letter. What is the letter about?</td>\n",
       "      <td>He writes to Agnes to assure her of his deep love for Agnes and that this was not a passing fancy or hasty decision.</td>\n",
       "      <td></td>\n",
       "    </tr>\n",
       "    <tr>\n",
       "      <th>6</th>\n",
       "      <td>What does David find in the hotel where Mr. Micawber requested him to meet in the middle of the night?</td>\n",
       "      <td>A letter stating that he would appear in the morning at half past nine.</td>\n",
       "      <td>This answer is not available in the provided text. \\n</td>\n",
       "    </tr>\n",
       "    <tr>\n",
       "      <th>7</th>\n",
       "      <td>Who are David's final thoughts about in the book?</td>\n",
       "      <td>Agnes</td>\n",
       "      <td>David's final thoughts are about Agnes, whom he pictures as a guiding light by his side. \\n</td>\n",
       "    </tr>\n",
       "  </tbody>\n",
       "</table>\n",
       "</div>"
      ],
      "text/plain": [
       "                                                                                                 question  \\\n",
       "0                                      What are the first objects that David can recall from his infancy?   \n",
       "1                                           At the inn where the mail stops, what is painted on the door?   \n",
       "2                                       What name does David's aunt suggest to Mr. Dick they call him by?   \n",
       "3                                What is the name of the chapter in which Mr. Jorkins is first mentioned?   \n",
       "4                              Describe the room in which Mr. Copperfield meets Steerforth for breakfast.   \n",
       "5                     After his engagement to Dora, David write Agnes a letter. What is the letter about?   \n",
       "6  What does David find in the hotel where Mr. Micawber requested him to meet in the middle of the night?   \n",
       "7                                                       Who are David's final thoughts about in the book?   \n",
       "\n",
       "                                                                                                                                                                                                                                                                                                             ground_truth  \\\n",
       "0                                                                                                                                                                                                                                                                          His mother with her pretty hair, and Peggotty.   \n",
       "1                                                                                                                                                                                                                                                                                                                 DOLPHIN   \n",
       "2                                                                                                                                                                                                                                                                                                    Trotwood Copperfield   \n",
       "3                                                                                                                                                                                                                                                         CHAPTER XXIII: I Corroborate Mr. Dick, and Choose a Profession.   \n",
       "4  A snug private apartment, red-curtained and Turkey-carpeted, where the fire burnt bright, and a fine hot breakfast was set forth on a table covered with a clean cloth; and a cheerful miniature of the room, the fire, the breakfast, Steerforth, and all, was shining in the little round mirror over the sideboard.   \n",
       "5                                                                                                                                                                                                    He writes to Agnes to assure her of his deep love for Agnes and that this was not a passing fancy or hasty decision.   \n",
       "6                                                                                                                                                                                                                                                 A letter stating that he would appear in the morning at half past nine.   \n",
       "7                                                                                                                                                                                                                                                                                                                   Agnes   \n",
       "\n",
       "                                                                                                                                                                                                                                                               model_response  \n",
       "0                                                                                            The first objects David Copperfield remembers are his mother, with her pretty hair and youthful shape, and Peggotty, with no shape at all, and very dark eyes and red cheeks. \\n  \n",
       "1                                                                                                                                                                                                                                                                  DOLPHIN \\n  \n",
       "2                                                                                                                                                                                                                                                                 Trotwood \\n  \n",
       "3                                                         This passage mentions that Mr. Jorkins is first mentioned in the context of Mr. Copperfield trying to cancel his articles, but it does not specify the chapter number. Therefore, I cannot answer your question. \\n  \n",
       "4  The room is described as a \"snug private apartment\" that's \"red-curtained and Turkey-carpeted.\" It has a bright, burning fire, and a hot breakfast is laid out on a table covered with a clean cloth. A small, round mirror over the sideboard reflects the cozy scene. \\n  \n",
       "5                                                                                                                                                                                                                                                                              \n",
       "6                                                                                                                                                                                                                       This answer is not available in the provided text. \\n  \n",
       "7                                                                                                                                                                                 David's final thoughts are about Agnes, whom he pictures as a guiding light by his side. \\n  "
      ]
     },
     "execution_count": 38,
     "metadata": {},
     "output_type": "execute_result"
    }
   ],
   "source": [
    "%%time\n",
    "df_rag = pd.DataFrame(\n",
    "        columns=[\n",
    "            \"question\",\n",
    "            \"ground_truth\",\n",
    "            \"model_response\",\n",
    "        ]\n",
    "    )\n",
    "for i in range(len(questions)):\n",
    "    res = qa.run(questions[i])\n",
    "    df_rag.loc[len(df_rag)] = {\n",
    "        \"question\": questions[i],\n",
    "        \"ground_truth\": answers[i],\n",
    "        \"model_response\": res,\n",
    "    }\n",
    "df_rag"
   ]
  },
  {
   "cell_type": "markdown",
   "metadata": {},
   "source": [
    "### Analysis\n",
    "\n",
    "- Latency: 0.5 minutes\n",
    "- Cost: \\\\$0.30\n",
    "- Accuracy: 5/8\n",
    "\n",
    "On accuracy RAG does well when:\n",
    "1. The question is semantically similar to the answer.\n",
    "2. The answer is self contained in a single chunk/passage.\n",
    "\n",
    "If our questions violate either of these principles RAG will struggle and long context will likely be more accurate. This is exemplified by the question \"What is the name of the chapter in which Mr. Jorkins is first mentioned?\" which violates the second principle. The name of the chapter does not appear close to the mention of Mr. Jorkins, and so is not in a self contained chunk, therefore the retriever fails to retrieve the necessary information.\n",
    "\n",
    "It's important to note that there are several ways to implement RAG which will affect the cost, latency and accuracy. Here we opted for a simple in-memory implementation which is cheap but won't scale well. Production grade approaches would come with additional overhead costs associated with a persistant vector store database and potentially improved accuracy.\n",
    "\n",
    "<div class=\"alert alert-block alert-info\">\n",
    "\n",
    "💡 <b>RAG and Long Context Window are NOT mutually exclusive</b> </br>\n",
    "<hr/>\n",
    "\n",
    "By adjusting the chunk size and number of chunks in RAG you can use as large of a context window as the LLM supports. \n",
    "\n",
    "If cost and latency are more important prioritize a curated retrieval (small chunk size/number of chunks).\n",
    "\n",
    "If accuracy is the priority use a larger chunk size/number of chunks. If the entire context can fit in the prompt consider bypassing RAG altogether.\n",
    "</div>\n",
    "\n",
    "\n"
   ]
  },
  {
   "cell_type": "markdown",
   "metadata": {
    "id": "OJ2KpkZ0hLm0"
   },
   "source": [
    "# Conclusion"
   ]
  },
  {
   "cell_type": "markdown",
   "metadata": {
    "id": "d017fc06e485"
   },
   "source": [
    "| Trial | Accuracy | Latency | Cost |\n",
    "|---|---|---|---|\n",
    "| **Baseline** | 38% (3/8) | 0.5 min | \\$0.004 |\n",
    "| **LCW - Naive** | 100% (8/8) | 4.7 min | \\$19.68 |\n",
    "| **LCW - Batched** | 88% (7/8) | 1.7 min | \\$2.47 |\n",
    "| **LCW - Cached** | 100% (8/8) | 2.9 min | \\$10.22 |\n",
    "| **RAG** | 63% (5/8) | 0.5min | \\$0.30 |\n",
    "\n",
    "We have demonstrated various approaches to long context prompting and compared them across the dimensions of latency, cost and accuracy. \n",
    "\n",
    "Whenever using the same long context across multiple prompts, caching is a great option to reduce cost. You can amplify the cost savings and reduce latency by batching, but be careful as batching too many questions will start to negatively impact accuracy. RAG is still useful in many cases, but doesn't do as well in retrieving answers that require analyzing large chunks or multiple disparate chunks of text. "
   ]
  }
 ],
 "metadata": {
  "colab": {
   "name": "gemini_long_context_text.ipynb",
   "toc_visible": true
  },
  "kernelspec": {
   "display_name": "Python 3 (ipykernel)",
   "language": "python",
   "name": "python3"
  },
  "language_info": {
   "codemirror_mode": {
    "name": "ipython",
    "version": 3
   },
   "file_extension": ".py",
   "mimetype": "text/x-python",
   "name": "python",
   "nbconvert_exporter": "python",
   "pygments_lexer": "ipython3",
   "version": "3.11.4"
  }
 },
 "nbformat": 4,
 "nbformat_minor": 4
}
